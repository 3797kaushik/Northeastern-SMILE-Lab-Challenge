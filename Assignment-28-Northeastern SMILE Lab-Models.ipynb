{
 "cells": [
  {
   "cell_type": "markdown",
   "metadata": {
    "colab_type": "text",
    "id": "2Tl2FwYF_Tgh"
   },
   "source": [
    "<H2>Data Overview</H2>\n",
    "In this competition, we need to predict if two people share a kinship relationship or not based on their facial images. The data is provided by Families In the Wild (FIW), the largest and most comprehensive image database for automatic kinship recognition.\n",
    "\n",
    "FIW's dataset is obtained from publicly available images from celebrities."
   ]
  },
  {
   "cell_type": "markdown",
   "metadata": {
    "colab_type": "text",
    "id": "71VM-k8-_uIq"
   },
   "source": [
    "<H2>File Descriptions </H2>\n",
    "\n",
    "*   train-faces.zip - the training set is divided in Families (F0123), then individuals (MIDx). Images in the same MIDx folder belong to the same person. Images in the same F0123 folder belong to the same family.\n",
    "\n",
    "* train.csv - training labels. Remember, not every individual in a family shares a kinship relationship. For example, a mother and father are kin to their children, but not to each other.\n",
    "\n",
    "* test-faces.zip - the test set contains face images of unknown individuals\n",
    "\n",
    "* sample_submission.csv - a sample submission file in the correct format. The column img_pair describes the pair of images, i.e., abcdef-ghijkl means the pair of images abcdef.jpg and ghijkl.jpg. Your goal is to predict if each pair of images in test-faces are related or not, where 1 means related and 0 means unrelated.\n",
    "   \n",
    "\n"
   ]
  },
  {
   "cell_type": "code",
   "execution_count": 27,
   "metadata": {
    "colab": {
     "base_uri": "https://localhost:8080/",
     "height": 134
    },
    "colab_type": "code",
    "executionInfo": {
     "elapsed": 3650,
     "status": "ok",
     "timestamp": 1574259313951,
     "user": {
      "displayName": "KAUSHIK M",
      "photoUrl": "https://lh3.googleusercontent.com/a-/AAuE7mARF6ftOpLEosQJbeoM5cRa9cneFv8lcUDieQnoJA=s64",
      "userId": "12157452214257167832"
     },
     "user_tz": -330
    },
    "id": "3es_8N-UU33Z",
    "outputId": "95819d31-0cc0-4464-ab9e-4854184bd4fe"
   },
   "outputs": [
    {
     "name": "stdout",
     "output_type": "stream",
     "text": [
      "Cloning into 'keras-vggface'...\n",
      "remote: Enumerating objects: 22, done.\u001b[K\n",
      "remote: Counting objects: 100% (22/22), done.\u001b[K\n",
      "remote: Compressing objects: 100% (19/19), done.\u001b[K\n",
      "remote: Total 273 (delta 7), reused 7 (delta 3), pack-reused 251\u001b[K\n",
      "Receiving objects: 100% (273/273), 6.03 MiB | 25.09 MiB/s, done.\n",
      "Resolving deltas: 100% (126/126), done.\n"
     ]
    }
   ],
   "source": [
    "# we used VGGFace file from the below github which  has some models works better for Face Identification\n",
    "!git clone https://github.com/rcmalli/keras-vggface.git"
   ]
  },
  {
   "cell_type": "code",
   "execution_count": 0,
   "metadata": {
    "colab": {},
    "colab_type": "code",
    "id": "ODxHh0bBVRPB"
   },
   "outputs": [],
   "source": [
    "import os,shutil\n",
    "for file_ in os.listdir('keras-vggface'):\n",
    "    if '.*' not in file_:\n",
    "        try:\n",
    "            shutil.move('keras-vggface/'+file_,'.')\n",
    "        except:\n",
    "            print(9) "
   ]
  },
  {
   "cell_type": "code",
   "execution_count": 29,
   "metadata": {
    "colab": {
     "base_uri": "https://localhost:8080/",
     "height": 34
    },
    "colab_type": "code",
    "executionInfo": {
     "elapsed": 1690,
     "status": "ok",
     "timestamp": 1574259315324,
     "user": {
      "displayName": "KAUSHIK M",
      "photoUrl": "https://lh3.googleusercontent.com/a-/AAuE7mARF6ftOpLEosQJbeoM5cRa9cneFv8lcUDieQnoJA=s64",
      "userId": "12157452214257167832"
     },
     "user_tz": -330
    },
    "id": "QEkFtvSbnYd1",
    "outputId": "7356704a-a04f-41b1-e9e1-355c02c176e3"
   },
   "outputs": [
    {
     "data": {
      "text/html": [
       "        <script type=\"text/javascript\">\n",
       "        window.PlotlyConfig = {MathJaxConfig: 'local'};\n",
       "        if (window.MathJax) {MathJax.Hub.Config({SVG: {font: \"STIX-Web\"}});}\n",
       "        if (typeof require !== 'undefined') {\n",
       "        require.undef(\"plotly\");\n",
       "        requirejs.config({\n",
       "            paths: {\n",
       "                'plotly': ['https://cdn.plot.ly/plotly-latest.min']\n",
       "            }\n",
       "        });\n",
       "        require(['plotly'], function(Plotly) {\n",
       "            window._Plotly = Plotly;\n",
       "        });\n",
       "        }\n",
       "        </script>\n",
       "        "
      ]
     },
     "metadata": {
      "tags": []
     },
     "output_type": "display_data"
    },
    {
     "name": "stdout",
     "output_type": "stream",
     "text": [
      "Populating the interactive namespace from numpy and matplotlib\n"
     ]
    }
   ],
   "source": [
    "from collections import defaultdict\n",
    "from glob import glob\n",
    "from random import choice, sample\n",
    "import matplotlib.pyplot as plt\n",
    "from tqdm import tqdm\n",
    "import numpy as np\n",
    "import pandas as pd\n",
    "import pickle\n",
    "import gc, psutil, cv2, random, base64, h5py, os,shutil\n",
    "pd.options.mode.chained_assignment = None\n",
    "pd.options.display.max_columns = 9999\n",
    "pd.options.display.float_format = '{:20, .2f}'.format\n",
    "from keras import backend as K\n",
    "\n",
    "from keras.layers import Input, Dense, Flatten, GlobalMaxPool2D, GlobalAvgPool2D, Concatenate, Multiply, Dropout, Subtract, Add\n",
    "from keras_vggface.vggface import VGGFace\n",
    "from pathlib import Path\n",
    "\n",
    "from PIL import Image\n",
    "from io import BytesIO\n",
    "from IPython.display import HTML\n",
    "import plotly.offline as py\n",
    "py.init_notebook_mode(connected=True)\n",
    "import plotly.graph_objs as go\n",
    "import plotly.tools as tls\n",
    "\n",
    "import warnings\n",
    "warnings.filterwarnings('ignore')\n",
    "from keras.layers import Conv2D, ZeroPadding2D, Activation, concatenate\n",
    "from keras.layers.pooling import MaxPooling2D, AveragePooling2D\n",
    "from keras.layers.core import Lambda\n",
    "import keras\n",
    "from keras.callbacks import ModelCheckpoint, ReduceLROnPlateau,EarlyStopping\n",
    "from keras.layers import Conv1D, BatchNormalization,Reshape, LeakyReLU\n",
    "from keras.preprocessing import image\n",
    "from keras.optimizers import Adam,SGD,rmsprop\n",
    "from keras.layers import Input, Dense, Flatten, GlobalMaxPool2D, GlobalAvgPool2D, Conv2D,MaxPooling1D,GlobalAveragePooling1D,LSTM\n",
    "from keras.models import Model\n",
    "from keras.losses import binary_crossentropy\n",
    "import tensorflow as tf\n",
    "from sklearn.metrics import roc_auc_score\n",
    "from keras import regularizers\n",
    "%pylab inline\n",
    "import matplotlib.image as mpimg"
   ]
  },
  {
   "cell_type": "code",
   "execution_count": 0,
   "metadata": {
    "colab": {
     "base_uri": "https://localhost:8080/",
     "height": 121
    },
    "colab_type": "code",
    "executionInfo": {
     "elapsed": 54946,
     "status": "ok",
     "timestamp": 1574124700373,
     "user": {
      "displayName": "KAUSHIK M",
      "photoUrl": "https://lh3.googleusercontent.com/a-/AAuE7mARF6ftOpLEosQJbeoM5cRa9cneFv8lcUDieQnoJA=s64",
      "userId": "12157452214257167832"
     },
     "user_tz": -330
    },
    "id": "lE92Sm4YcF31",
    "outputId": "233b0c35-f2a8-479d-edca-664f9e429b38"
   },
   "outputs": [
    {
     "name": "stdout",
     "output_type": "stream",
     "text": [
      "Go to this URL in a browser: https://accounts.google.com/o/oauth2/auth?client_id=947318989803-6bn6qk8qdgf4n4g3pfee6491hc0brc4i.apps.googleusercontent.com&redirect_uri=urn%3aietf%3awg%3aoauth%3a2.0%3aoob&response_type=code&scope=email%20https%3a%2f%2fwww.googleapis.com%2fauth%2fdocs.test%20https%3a%2f%2fwww.googleapis.com%2fauth%2fdrive%20https%3a%2f%2fwww.googleapis.com%2fauth%2fdrive.photos.readonly%20https%3a%2f%2fwww.googleapis.com%2fauth%2fpeopleapi.readonly\n",
      "\n",
      "Enter your authorization code:\n",
      "··········\n",
      "Mounted at /content/drive\n"
     ]
    }
   ],
   "source": [
    "import shutil\n",
    "from google.colab import drive\n",
    "drive.mount('/content/drive',force_remount=True)\n",
    "# path='drive/My Drive/AAIC/'"
   ]
  },
  {
   "cell_type": "markdown",
   "metadata": {
    "colab_type": "text",
    "id": "10lBBNXon2hJ"
   },
   "source": [
    "<h1>Uploading Kaggle credentials "
   ]
  },
  {
   "cell_type": "code",
   "execution_count": 0,
   "metadata": {
    "colab": {
     "base_uri": "https://localhost:8080/",
     "height": 74,
     "resources": {
      "http://localhost:8080/nbextensions/google.colab/files.js": {
       "data": "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",
       "headers": [
        [
         "content-type",
         "application/javascript"
        ]
       ],
       "ok": true,
       "status": 200,
       "status_text": ""
      }
     }
    },
    "colab_type": "code",
    "executionInfo": {
     "elapsed": 17903,
     "status": "ok",
     "timestamp": 1574124748444,
     "user": {
      "displayName": "KAUSHIK M",
      "photoUrl": "https://lh3.googleusercontent.com/a-/AAuE7mARF6ftOpLEosQJbeoM5cRa9cneFv8lcUDieQnoJA=s64",
      "userId": "12157452214257167832"
     },
     "user_tz": -330
    },
    "id": "LmpJ7tXtIJfj",
    "outputId": "9f2f39ee-a29f-4d3c-a56f-03a6403e5033"
   },
   "outputs": [
    {
     "data": {
      "text/html": [
       "\n",
       "     <input type=\"file\" id=\"files-4705c2d3-9a1b-4bf5-ae08-239bf9e5a4b3\" name=\"files[]\" multiple disabled />\n",
       "     <output id=\"result-4705c2d3-9a1b-4bf5-ae08-239bf9e5a4b3\">\n",
       "      Upload widget is only available when the cell has been executed in the\n",
       "      current browser session. Please rerun this cell to enable.\n",
       "      </output>\n",
       "      <script src=\"/nbextensions/google.colab/files.js\"></script> "
      ],
      "text/plain": [
       "<IPython.core.display.HTML object>"
      ]
     },
     "metadata": {
      "tags": []
     },
     "output_type": "display_data"
    },
    {
     "name": "stdout",
     "output_type": "stream",
     "text": [
      "Saving kaggle.json to kaggle.json\n"
     ]
    }
   ],
   "source": [
    "from google.colab import files\n",
    "files.upload()\n",
    "!pip install -q kaggle\n",
    "!mkdir -p ~/.kaggle\n",
    "!cp kaggle.json ~/.kaggle/\n",
    "\n",
    "# This permissions change avoids a warning on Kaggle tool startup.\n",
    "!chmod 600 ~/.kaggle/kaggle.json"
   ]
  },
  {
   "cell_type": "markdown",
   "metadata": {
    "colab_type": "text",
    "id": "KH9Hgrknntp7"
   },
   "source": [
    "<H1>Downloading the Dataset"
   ]
  },
  {
   "cell_type": "code",
   "execution_count": 0,
   "metadata": {
    "colab": {
     "base_uri": "https://localhost:8080/",
     "height": 255
    },
    "colab_type": "code",
    "executionInfo": {
     "elapsed": 5114,
     "status": "ok",
     "timestamp": 1574124753577,
     "user": {
      "displayName": "KAUSHIK M",
      "photoUrl": "https://lh3.googleusercontent.com/a-/AAuE7mARF6ftOpLEosQJbeoM5cRa9cneFv8lcUDieQnoJA=s64",
      "userId": "12157452214257167832"
     },
     "user_tz": -330
    },
    "id": "QiQSvy4PNo2t",
    "outputId": "58a8a761-b07c-4a5a-bf41-cc4197a1314d"
   },
   "outputs": [
    {
     "name": "stdout",
     "output_type": "stream",
     "text": [
      "Warning: Looks like you're using an outdated API Version, please consider updating (server 1.5.6 / client 1.5.4)\n",
      "Downloading train_relationships.csv to /content\n",
      "\r",
      "  0% 0.00/77.6k [00:00<?, ?B/s]\n",
      "100% 77.6k/77.6k [00:00<00:00, 67.4MB/s]\n",
      "Downloading test.zip to /content\n",
      " 88% 30.0M/34.1M [00:00<00:00, 90.1MB/s]\n",
      "100% 34.1M/34.1M [00:00<00:00, 135MB/s] \n",
      "Downloading train.zip to /content\n",
      " 71% 49.0M/68.6M [00:00<00:00, 43.7MB/s]\n",
      "100% 68.6M/68.6M [00:00<00:00, 100MB/s] \n",
      "Downloading sample_submission.csv to /content\n",
      "  0% 0.00/156k [00:00<?, ?B/s]\n",
      "100% 156k/156k [00:00<00:00, 51.7MB/s]\n"
     ]
    }
   ],
   "source": [
    "!kaggle competitions download -c recognizing-faces-in-the-wild"
   ]
  },
  {
   "cell_type": "code",
   "execution_count": 0,
   "metadata": {
    "colab": {
     "base_uri": "https://localhost:8080/",
     "height": 50
    },
    "colab_type": "code",
    "executionInfo": {
     "elapsed": 8295,
     "status": "ok",
     "timestamp": 1574124756774,
     "user": {
      "displayName": "KAUSHIK M",
      "photoUrl": "https://lh3.googleusercontent.com/a-/AAuE7mARF6ftOpLEosQJbeoM5cRa9cneFv8lcUDieQnoJA=s64",
      "userId": "12157452214257167832"
     },
     "user_tz": -330
    },
    "id": "Q5Km4I6sXEo1",
    "outputId": "e6db16ce-01ed-418d-dd36-84a74a68e345"
   },
   "outputs": [
    {
     "name": "stdout",
     "output_type": "stream",
     "text": [
      "CPU times: user 148 ms, sys: 26.3 ms, total: 175 ms\n",
      "Wall time: 3.19 s\n"
     ]
    }
   ],
   "source": [
    "%%time\n",
    "%%capture\n",
    "!unzip test.zip -d test "
   ]
  },
  {
   "cell_type": "code",
   "execution_count": 0,
   "metadata": {
    "colab": {
     "base_uri": "https://localhost:8080/",
     "height": 34
    },
    "colab_type": "code",
    "executionInfo": {
     "elapsed": 518,
     "status": "ok",
     "timestamp": 1574124757301,
     "user": {
      "displayName": "KAUSHIK M",
      "photoUrl": "https://lh3.googleusercontent.com/a-/AAuE7mARF6ftOpLEosQJbeoM5cRa9cneFv8lcUDieQnoJA=s64",
      "userId": "12157452214257167832"
     },
     "user_tz": -330
    },
    "id": "IxVna2tDXhDM",
    "outputId": "5bfe8fd0-f2f8-4f63-b14b-a7aa6c59ed44"
   },
   "outputs": [
    {
     "name": "stdout",
     "output_type": "stream",
     "text": [
      "The no of test images: 6282\n"
     ]
    }
   ],
   "source": [
    "print(\"The no of test images:\",len(os.listdir('test')))"
   ]
  },
  {
   "cell_type": "code",
   "execution_count": 0,
   "metadata": {
    "colab": {
     "base_uri": "https://localhost:8080/",
     "height": 50
    },
    "colab_type": "code",
    "executionInfo": {
     "elapsed": 5883,
     "status": "ok",
     "timestamp": 1574124762680,
     "user": {
      "displayName": "KAUSHIK M",
      "photoUrl": "https://lh3.googleusercontent.com/a-/AAuE7mARF6ftOpLEosQJbeoM5cRa9cneFv8lcUDieQnoJA=s64",
      "userId": "12157452214257167832"
     },
     "user_tz": -330
    },
    "id": "ceTWaPnwM9KY",
    "outputId": "d87b2f7b-35f5-4067-d480-53dfd83c89f0"
   },
   "outputs": [
    {
     "name": "stdout",
     "output_type": "stream",
     "text": [
      "CPU times: user 529 ms, sys: 61.9 ms, total: 591 ms\n",
      "Wall time: 4.94 s\n"
     ]
    }
   ],
   "source": [
    "%%time\n",
    "%%capture\n",
    "!unzip train.zip -d train"
   ]
  },
  {
   "cell_type": "code",
   "execution_count": 0,
   "metadata": {
    "colab": {
     "base_uri": "https://localhost:8080/",
     "height": 34
    },
    "colab_type": "code",
    "executionInfo": {
     "elapsed": 44086,
     "status": "ok",
     "timestamp": 1574039452123,
     "user": {
      "displayName": "KAUSHIK M",
      "photoUrl": "https://lh3.googleusercontent.com/a-/AAuE7mARF6ftOpLEosQJbeoM5cRa9cneFv8lcUDieQnoJA=s64",
      "userId": "12157452214257167832"
     },
     "user_tz": -330
    },
    "id": "NQVBvJ8VolWI",
    "outputId": "1ef27b3c-2c0f-4d4a-c7b3-afddcc3cc92b"
   },
   "outputs": [
    {
     "name": "stdout",
     "output_type": "stream",
     "text": [
      "The no of train images: 470\n"
     ]
    }
   ],
   "source": [
    "print(\"The no of train images:\",len(os.listdir('train')))\n",
    "# here it contains both the folders and pics"
   ]
  },
  {
   "cell_type": "markdown",
   "metadata": {
    "colab_type": "text",
    "id": "mPhkMT9Sb447"
   },
   "source": [
    "<H1>Preparing of Data"
   ]
  },
  {
   "cell_type": "code",
   "execution_count": 0,
   "metadata": {
    "colab": {},
    "colab_type": "code",
    "id": "ld7j7FPjM2Bh"
   },
   "outputs": [],
   "source": [
    "train_file_path = \"train_relationships.csv\"\n",
    "train_folders_path = \"train/\"\n",
    "test_path = \"test/\"\n",
    "train_df=pd.read_csv(train_file_path)\n",
    "sample_sub_df=pd.read_csv('sample_submission.csv')\n",
    "# The above cell contain only the variables which we change in future"
   ]
  },
  {
   "cell_type": "code",
   "execution_count": 0,
   "metadata": {
    "colab": {},
    "colab_type": "code",
    "id": "VsSdlTES6GjC"
   },
   "outputs": [],
   "source": [
    "val_famillies = \"F09\"\n",
    "all_images = glob(train_folders_path + \"*/*/*.jpg\")\n",
    "train_images = [x for x in all_images if val_famillies not in x]\n",
    "val_images = [x for x in all_images if val_famillies in x]\n",
    "train_person_to_images_map = defaultdict(list)\n",
    "ppl = [x.split(\"/\")[-3] + \"/\" + x.split(\"/\")[-2] for x in all_images]\n",
    "\n",
    "for x in train_images:\n",
    "    train_person_to_images_map[x.split(\"/\")[-3] + \"/\" + x.split(\"/\")[-2]].append(x)\n",
    "\n",
    "val_person_to_images_map = defaultdict(list)\n",
    "\n",
    "for x in val_images:\n",
    "    val_person_to_images_map[x.split(\"/\")[-3] + \"/\" + x.split(\"/\")[-2]].append(x)\n",
    "relationships = pd.read_csv(train_file_path)\n",
    "relationships = list(zip(relationships.p1.values, relationships.p2.values))\n",
    "relationships = [x for x in relationships if x[0] in ppl and x[1] in ppl]\n",
    "train = [x for x in relationships if val_famillies not in x[0]]\n",
    "val = [x for x in relationships if val_famillies in x[0]]"
   ]
  },
  {
   "cell_type": "code",
   "execution_count": 0,
   "metadata": {
    "colab": {},
    "colab_type": "code",
    "id": "QBp7kHhXtKtM"
   },
   "outputs": [],
   "source": [
    "# all the images are of shape 224, 224, 3 as observed in EDA"
   ]
  },
  {
   "cell_type": "markdown",
   "metadata": {
    "colab_type": "text",
    "id": "a4IIpPw5mABl"
   },
   "source": [
    "<H1> Common util functions"
   ]
  },
  {
   "cell_type": "code",
   "execution_count": 0,
   "metadata": {
    "colab": {},
    "colab_type": "code",
    "id": "WJ0gKULvmEt6"
   },
   "outputs": [],
   "source": [
    "def get_thumbnail(path):\n",
    "    if path and os.path.exists(path):\n",
    "        i = Image.open(path)\n",
    "        i.thumbnail((150, 150), Image.LANCZOS)\n",
    "        return i\n",
    "\n",
    "def image_base64(im):\n",
    "    if isinstance(im, str):\n",
    "        im = get_thumbnail(im)\n",
    "    with BytesIO() as buffer:\n",
    "        im.save(buffer, 'jpeg')\n",
    "        return base64.b64encode(buffer.getvalue()).decode()\n",
    "\n",
    "def add_image_path(x):\n",
    "    image_path = 'train/' + x\n",
    "    if os.path.exists(image_path):\n",
    "        path = os.path.join(image_path, os.listdir(image_path)[0])\n",
    "        return path"
   ]
  },
  {
   "cell_type": "code",
   "execution_count": 0,
   "metadata": {
    "colab": {},
    "colab_type": "code",
    "id": "RnrRHAmnMn5o"
   },
   "outputs": [],
   "source": [
    "# https://www.kaggle.com/janpreets/just-another-feature-extractor-0-824-lb\n",
    "def outer_product(x):\n",
    "    \"\"\"\n",
    "    calculate outer-products of 2 tensors\n",
    "\n",
    "        args \n",
    "            x\n",
    "                list of 2 tensors\n",
    "                , assuming each of which has shape = (size_minibatch, total_pixels, size_filter)\n",
    "    \"\"\"\n",
    "    return keras.backend.batch_dot(\n",
    "                x[0]\n",
    "                , x[1]\n",
    "                , axes=[1,1]\n",
    "            ) / x[0].get_shape().as_list()[1] \n",
    "\n",
    "def signed_sqrt(x):\n",
    "    \"\"\"\n",
    "    calculate element-wise signed square root\n",
    "\n",
    "        args\n",
    "            x\n",
    "                a tensor\n",
    "    \"\"\"\n",
    "    return keras.backend.sign(x) * keras.backend.sqrt(keras.backend.abs(x) + 1e-9)\n",
    "\n",
    "def L2_norm(x, axis=-1):\n",
    "    \"\"\"\n",
    "    calculate L2-norm\n",
    "\n",
    "        args \n",
    "            x\n",
    "                a tensor\n",
    "    \"\"\"\n",
    "    return keras.backend.l2_normalize(x, axis=axis)"
   ]
  },
  {
   "cell_type": "markdown",
   "metadata": {
    "colab_type": "text",
    "id": "rJwUmF1_nRkQ"
   },
   "source": [
    "<H1>Common plotting error functions"
   ]
  },
  {
   "cell_type": "code",
   "execution_count": 0,
   "metadata": {
    "colab": {},
    "colab_type": "code",
    "id": "a-egJWpjnW9R"
   },
   "outputs": [],
   "source": [
    "def plot_accuracy(y):\n",
    "    global curr_model_hist\n",
    "    if(y == True):\n",
    "        plt.plot(curr_model_hist.history['acc'])\n",
    "        plt.plot(curr_model_hist.history['val_acc'])\n",
    "        plt.legend(['train', 'test'], loc='lower right')\n",
    "        plt.title('accuracy plot - train vs test')\n",
    "        plt.xlabel('epoch')\n",
    "        plt.ylabel('accuracy')\n",
    "        plt.show()\n",
    "    else:\n",
    "        pass\n",
    "    return\n",
    "    \n",
    "def plot_loss(y):\n",
    "    global curr_model_hist\n",
    "    if(y == True):\n",
    "        plt.plot(curr_model_hist.history['loss'])\n",
    "        plt.plot(curr_model_hist.history['val_loss'])\n",
    "        plt.legend(['training loss', 'validation loss'], loc = 'upper right')\n",
    "        plt.title('loss plot - training vs vaidation')\n",
    "        plt.xlabel('epoch')\n",
    "        plt.ylabel('loss')\n",
    "        plt.show()\n",
    "    else:\n",
    "        pass\n",
    "    return\n",
    "\n",
    "def plot_auc(y):\n",
    "    global curr_model_hist\n",
    "    if(y == True):\n",
    "        plt.plot(curr_model_hist.history['auc'])\n",
    "        plt.plot(curr_model_hist.history['val_auc'])\n",
    "        plt.legend(['training auc', 'validation auc'], loc = 'upper right')\n",
    "        plt.title('auc plot - training vs vaidation')\n",
    "        plt.xlabel('epoch')\n",
    "        plt.ylabel('loss')\n",
    "        plt.show()\n",
    "    else:\n",
    "        pass\n",
    "    return\n",
    "\n",
    "def chunker(seq, size=32):\n",
    "    return (seq[pos:pos + size] for pos in range(0, len(seq), size))\n",
    "    \n",
    "def sol_submit(curr_model):\n",
    "    submission = pd.read_csv('sample_submission.csv')\n",
    "    predictions = []\n",
    "    for batch in tqdm(chunker(submission.img_pair.values)):\n",
    "        X1 = [x.split(\"-\")[0] for x in batch]\n",
    "        X1 = np.array([read_img(test_path + x) for x in X1])\n",
    "\n",
    "        X2 = [x.split(\"-\")[1] for x in batch]\n",
    "        X2 = np.array([read_img(test_path + x) for x in X2])\n",
    "\n",
    "        pred = curr_model.predict([X1, X2]).ravel().tolist()\n",
    "        predictions += pred\n",
    "\n",
    "    submission['is_related'] = predictions\n",
    "    submission.to_csv(\"submission.csv\", index=False)\n",
    "    !kaggle competitions submit -c recognizing-faces-in-the-wild -f submission.csv -m \"Message\"    "
   ]
  },
  {
   "cell_type": "code",
   "execution_count": 0,
   "metadata": {
    "colab": {},
    "colab_type": "code",
    "id": "6ZqZ0SoKeY_8"
   },
   "outputs": [],
   "source": [
    "def chunker(seq, size=32):\n",
    "    return (seq[pos:pos + size] for pos in range(0, len(seq), size))"
   ]
  },
  {
   "cell_type": "code",
   "execution_count": 0,
   "metadata": {
    "colab": {},
    "colab_type": "code",
    "id": "EyrTVMfiup2p"
   },
   "outputs": [],
   "source": [
    "# https://github.com/rcmalli/keras-vggface/blob/master/keras_vggface/utils.py\n",
    "def preprocess_input(x, data_format=None, version=1):\n",
    "    '''\n",
    "    preprocess_input will take the numpy array of image and remove the unnecessary values \n",
    "    The out ut numpy only contains thermal image of face which will have the umporatant chracters\n",
    "    Here we subtract the values from image numpy array after subtraction redundant pixels are removed\n",
    "\n",
    "    '''\n",
    "    x_temp = np.copy(x)\n",
    "    if data_format is None:\n",
    "        data_format = K.image_data_format()\n",
    "    assert data_format in {'channels_last', 'channels_first'}\n",
    "\n",
    "    if version == 1:\n",
    "        if data_format == 'channels_first':\n",
    "            x_temp = x_temp[:, ::-1, ...]\n",
    "            x_temp[:, 0, :, :] -= 93.5940\n",
    "            x_temp[:, 1, :, :] -= 104.7624\n",
    "            x_temp[:, 2, :, :] -= 129.1863\n",
    "        else:\n",
    "            x_temp = x_temp[..., ::-1]\n",
    "            x_temp[..., 0] -= 93.5940\n",
    "            x_temp[..., 1] -= 104.7624\n",
    "            x_temp[..., 2] -= 129.1863\n",
    "\n",
    "    elif version == 2:\n",
    "        if data_format == 'channels_first':\n",
    "            x_temp = x_temp[:, ::-1, ...]\n",
    "            x_temp[:, 0, :, :] -= 91.4953\n",
    "            x_temp[:, 1, :, :] -= 103.8827\n",
    "            x_temp[:, 2, :, :] -= 131.0912\n",
    "        else:\n",
    "            x_temp = x_temp[..., ::-1]\n",
    "            x_temp[..., 0] -= 91.4953\n",
    "            x_temp[..., 1] -= 103.8827\n",
    "            x_temp[..., 2] -= 131.0912\n",
    "    else:\n",
    "        raise NotImplementedError\n",
    "    return x_temp\n",
    "\n",
    "def read_img(path):\n",
    "    '''\n",
    "    read_img takes the path as input and reads the data and calls the preprocess_input function which removes \n",
    "    the unnecessary pixels and gives the face relevant pixels\n",
    "\n",
    "    '''\n",
    "    img = image.load_img(path, target_size=(224, 224))\n",
    "    img = np.array(img).astype(np.float)\n",
    "    return preprocess_input(img, version=2)"
   ]
  },
  {
   "cell_type": "code",
   "execution_count": 0,
   "metadata": {
    "colab": {
     "base_uri": "https://localhost:8080/",
     "height": 538
    },
    "colab_type": "code",
    "executionInfo": {
     "elapsed": 46328,
     "status": "ok",
     "timestamp": 1574039454423,
     "user": {
      "displayName": "KAUSHIK M",
      "photoUrl": "https://lh3.googleusercontent.com/a-/AAuE7mARF6ftOpLEosQJbeoM5cRa9cneFv8lcUDieQnoJA=s64",
      "userId": "12157452214257167832"
     },
     "user_tz": -330
    },
    "id": "y9xcac2fHK4k",
    "outputId": "50ae0f53-1c9c-4459-e500-7b1cf4364268"
   },
   "outputs": [
    {
     "data": {
      "image/png": "[encoded data removed]",
      "text/plain": [
       "<Figure size 432x288 with 1 Axes>"
      ]
     },
     "metadata": {
      "tags": []
     },
     "output_type": "display_data"
    },
    {
     "name": "stderr",
     "output_type": "stream",
     "text": [
      "Clipping input data to the valid range for imshow with RGB data ([0..1] for floats or [0..255] for integers).\n"
     ]
    },
    {
     "data": {
      "image/png": "[encoded data removed]",
      "text/plain": [
       "<Figure size 432x288 with 1 Axes>"
      ]
     },
     "metadata": {
      "tags": []
     },
     "output_type": "display_data"
    }
   ],
   "source": [
    "img=mpimg.imread('train/F0284/MID4/' + os.listdir('train/F0284/MID4')[0])\n",
    "imgplot = plt.imshow(img)\n",
    "plt.show()\n",
    "\n",
    "readnp = read_img('train/F0284/MID4/' + os.listdir('train/F0284/MID4')[0])\n",
    "plt.imshow(readnp)\n",
    "plt.show()"
   ]
  },
  {
   "cell_type": "code",
   "execution_count": 0,
   "metadata": {
    "colab": {
     "base_uri": "https://localhost:8080/",
     "height": 67
    },
    "colab_type": "code",
    "executionInfo": {
     "elapsed": 46321,
     "status": "ok",
     "timestamp": 1574039454423,
     "user": {
      "displayName": "KAUSHIK M",
      "photoUrl": "https://lh3.googleusercontent.com/a-/AAuE7mARF6ftOpLEosQJbeoM5cRa9cneFv8lcUDieQnoJA=s64",
      "userId": "12157452214257167832"
     },
     "user_tz": -330
    },
    "id": "7NK6srhc1nw1",
    "outputId": "21ac5a82-ab6f-4cd7-a593-5f6382179ec9"
   },
   "outputs": [
    {
     "name": "stdout",
     "output_type": "stream",
     "text": [
      "Total no of families : 470\n",
      "Total no images inside all the folders :  12379\n"
     ]
    },
    {
     "data": {
      "text/plain": [
       "6"
      ]
     },
     "execution_count": 18,
     "metadata": {
      "tags": []
     },
     "output_type": "execute_result"
    }
   ],
   "source": [
    "# The above cell contain only the variables which we change in future\n",
    "family_folder_names = [x for x in os.listdir(train_folders_path) if 'F' in x]\n",
    "print(\"Total no of families :\",len(family_folder_names))\n",
    "\n",
    "all_images = glob(train_folders_path + \"*/*/*.jpg\")\n",
    "print(\"Total no images inside all the folders : \",len(all_images))\n",
    "\n",
    "samp_fam_path = train_folders_path+family_folder_names[1]\n",
    "samp_img_path = os.listdir(samp_fam_path)[1]\n",
    "len(os.listdir(samp_fam_path +\"/\"+ samp_img_path))"
   ]
  },
  {
   "cell_type": "code",
   "execution_count": 0,
   "metadata": {
    "colab": {
     "base_uri": "https://localhost:8080/",
     "height": 423
    },
    "colab_type": "code",
    "executionInfo": {
     "elapsed": 47424,
     "status": "ok",
     "timestamp": 1574039455535,
     "user": {
      "displayName": "KAUSHIK M",
      "photoUrl": "https://lh3.googleusercontent.com/a-/AAuE7mARF6ftOpLEosQJbeoM5cRa9cneFv8lcUDieQnoJA=s64",
      "userId": "12157452214257167832"
     },
     "user_tz": -330
    },
    "id": "jPvSbusDF6QK",
    "outputId": "8f41b78d-8e13-456e-a56d-ccc72b61b16b"
   },
   "outputs": [
    {
     "name": "stderr",
     "output_type": "stream",
     "text": [
      "Clipping input data to the valid range for imshow with RGB data ([0..1] for floats or [0..255] for integers).\n",
      "Clipping input data to the valid range for imshow with RGB data ([0..1] for floats or [0..255] for integers).\n",
      "Clipping input data to the valid range for imshow with RGB data ([0..1] for floats or [0..255] for integers).\n"
     ]
    },
    {
     "data": {
      "image/png": "[encoded data removed]",
      "text/plain": [
       "<Figure size 576x576 with 6 Axes>"
      ]
     },
     "metadata": {
      "tags": []
     },
     "output_type": "display_data"
    }
   ],
   "source": [
    "w=10\n",
    "h=10\n",
    "fig=plt.figure(figsize=(8, 8))\n",
    "columns = 2\n",
    "rows = 4\n",
    "img_path = samp_fam_path +\"/\"+ samp_img_path +\"/\"\n",
    "files=os.listdir(img_path)\n",
    "try:\n",
    "    for i in range(1, columns*rows +1,2):\n",
    "        img = mpimg.imread(img_path+files[i],0)\n",
    "        fig.add_subplot(rows, columns, i)\n",
    "        plt.imshow(img)\n",
    "        \n",
    "        img = read_img(img_path+files[i])\n",
    "        fig.add_subplot(rows, columns, i+1)\n",
    "        plt.imshow(img)\n",
    "    plt.show()\n",
    "except:\n",
    "    pass   "
   ]
  },
  {
   "cell_type": "markdown",
   "metadata": {
    "colab_type": "text",
    "id": "r0PadgYnsOur"
   },
   "source": [
    "<H1>Model  Architectures"
   ]
  },
  {
   "cell_type": "code",
   "execution_count": 0,
   "metadata": {
    "colab": {},
    "colab_type": "code",
    "id": "hJAtL391sSG-"
   },
   "outputs": [],
   "source": [
    "def gen(list_tuples, person_to_images_map, batch_size=16):\n",
    "    '''\n",
    "    This function is use to generate the generators .\n",
    "    It takes input of personid\n",
    "    '''\n",
    "    ppl = list(person_to_images_map.keys())\n",
    "    while True:\n",
    "        batch_tuples = sample(list_tuples, batch_size // 2)\n",
    "        labels = [1] * len(batch_tuples)\n",
    "        while len(batch_tuples) < batch_size:\n",
    "            p1 = choice(ppl)\n",
    "            # https://www.geeksforgeeks.org/python-numbers-choice-function/  so p1 ,p2 contains the random member id'\n",
    "            p2 = choice(ppl)\n",
    "\n",
    "            if p1 != p2 and (p1, p2) not in list_tuples and (p2, p1) not in list_tuples:\n",
    "                batch_tuples.append((p1, p2))\n",
    "                labels.append(0)\n",
    "\n",
    "        for x in batch_tuples:\n",
    "            if not len(person_to_images_map[x[0]]):\n",
    "                print(x[0])\n",
    "        # the above line prints the member id if the meber doesn't exist \n",
    "        # it is just to keep a safe check                 \n",
    "\n",
    "        X1 = [choice(person_to_images_map[x[0]]) for x in batch_tuples]\n",
    "        X1 = np.array([read_img(x) for x in X1])\n",
    "        # X1 is a numpy array in which X1[0] is the numpy array of x[0] images after preprocessed\n",
    "        #                   X1[1] is the numpy array of x[1] images after preprocessed\n",
    "\n",
    "        X2 = [choice(person_to_images_map[x[1]]) for x in batch_tuples]\n",
    "        X2 = np.array([read_img(x) for x in X2])\n",
    "\n",
    "        # https://pythontips.com/2013/09/29/the-python-yield-keyword-explained/\n",
    "        yield [X1, X2], labels\n",
    "\n",
    "def siamese_model():\n",
    "    input_1 = Input(shape=(224, 224, 3))\n",
    "    input_2 = Input(shape=(224, 224, 3))\n",
    "    base_model = VGGFace(model='resnet50', include_top=False,input_shape=(224, 224, 3))\n",
    "\n",
    "    for x in base_model.layers[:-3]:\n",
    "        x.trainable = True\n",
    "\n",
    "    x1 = base_model(input_1)\n",
    "    x2 = base_model(input_2)\n",
    "\n",
    "    x1 = Concatenate(axis=-1)([GlobalAvgPool2D()(x1), GlobalAvgPool2D()(x1)])\n",
    "    x2 = Concatenate(axis=-1)([GlobalMaxPool2D()(x2), GlobalAvgPool2D()(x2)])\n",
    "    x3 = Subtract()([x1, x2])\n",
    "    x3 = Multiply()([x3, x3])  \n",
    "    x1_ = Multiply()([x1, x1])\n",
    "    x2_ = Multiply()([x2, x2])\n",
    "    x4  = Subtract()([x1_, x2_])    \n",
    "    x   = Concatenate(axis=-1)([x4, x3])\n",
    "    x   = Reshape(input_shape=(8192,), target_shape=(8192, 1))(x)\n",
    "    \n",
    "    \"\"\"    x   = Conv1D(filters=100, kernel_size=3 ,strides=3,input_shape=( 8192,1),dilation_rate = 1,\n",
    "                  activation= 'relu',kernel_regularizer=l2(1e-5),\n",
    "                   kernel_initializer='uniform',\n",
    "                 bias_initializer=initialize_bias)(x)\n",
    "    x   = Conv1D( 100,3,activation= 'relu', kernel_initializer= 'he_uniform')(x)\n",
    "    x   = Flatten()(x)\n",
    "  \n",
    "    x   = Dense(100, activation=\"relu\")(x) \n",
    "    x   = Dropout(0.2)(x)   \n",
    "    x   = Dense(128, activation=\"relu\")(x) \"\"\"\n",
    "    x = Conv1D(filters=100,\n",
    "               kernel_size=8,\n",
    "               strides=8,input_shape=( 8192,1),\n",
    "               activation='relu',\n",
    "               padding='same')(x)\n",
    "    x   = Conv1D( 100,8,activation= 'relu')(x)\n",
    "    x   = LSTM(128, return_sequences=True)(x)\n",
    "    x   = Dropout(0.1)(x)\n",
    "    x   = LSTM(128, return_sequences=True)(x)\n",
    "    x   = BatchNormalization ()(x)\n",
    "    x   = Flatten()(x)\n",
    "    x   = Dense(100, activation=\"relu\")(x) \n",
    "    \n",
    "    out = Dense(1, activation=\"sigmoid\")(x)\n",
    "    model = Model([input_1, input_2], out)\n",
    "    model.compile(loss=\"binary_crossentropy\", metrics=['acc',auc], optimizer=Adam(0.00001,decay=1e-6))\n",
    "    model.summary()\n",
    "\n",
    "    return model\n",
    " \n",
    "def baseline_model():\n",
    "    input_1 = Input(shape=(197, 197, 3))\n",
    "    input_2 = Input(shape=(197, 197, 3))\n",
    "\n",
    "    base_model = VGGFace(model='resnet50', include_top=False)\n",
    "\n",
    "    for x in base_model.layers[:-3]:\n",
    "        x.trainable = True\n",
    "\n",
    "    x1 = base_model(input_1)\n",
    "    x2 = base_model(input_2)\n",
    "\n",
    "    x1 = Concatenate(axis=-1)([GlobalMaxPool2D()(x1), GlobalAvgPool2D()(x1)])\n",
    "    x2 = Concatenate(axis=-1)([GlobalMaxPool2D()(x2), GlobalAvgPool2D()(x2)])\n",
    "\n",
    "    x3 = Subtract()([x1, x2])\n",
    "    x3 = Multiply()([x3, x3])\n",
    "\n",
    "    x1_ = Multiply()([x1, x1])\n",
    "    x2_ = Multiply()([x2, x2])\n",
    "    x4 = Subtract()([x1_, x2_])\n",
    "    x = Concatenate(axis=-1)([x4, x3])\n",
    "\n",
    "    x = Dense(100, activation=\"relu\")(x)\n",
    "    x = Dropout(0.01)(x)\n",
    "    out = Dense(1, activation=\"sigmoid\")(x)\n",
    "\n",
    "    model = Model([input_1, input_2], out)\n",
    "\n",
    "    model.compile(loss=\"binary_crossentropy\", metrics=['acc'], optimizer=Adam(0.00001))\n",
    "\n",
    "    model.summary()\n",
    "\n",
    "    return model"
   ]
  },
  {
   "cell_type": "code",
   "execution_count": 0,
   "metadata": {
    "colab": {},
    "colab_type": "code",
    "id": "VofOSl6hIJPY"
   },
   "outputs": [],
   "source": [
    "\n",
    "def inception_based_model():\n",
    "    myInput = Input(shape=(96, 96, 3))\n",
    "\n",
    "    x = ZeroPadding2D(padding=(3, 3), input_shape=(96, 96, 3))(myInput)\n",
    "    x = Conv2D(64, (7, 7), strides=(2, 2), name='conv1')(x)\n",
    "    x = BatchNormalization(axis=3, epsilon=0.00001, name='bn1')(x)\n",
    "    x = Activation('relu')(x)\n",
    "    x = ZeroPadding2D(padding=(1, 1))(x)\n",
    "    x = MaxPooling2D(pool_size=3, strides=2)(x)\n",
    "    x = Lambda(LRN2D, name='lrn_1')(x)\n",
    "    x = Conv2D(64, (1, 1), name='conv2')(x)\n",
    "    x = BatchNormalization(axis=3, epsilon=0.00001, name='bn2')(x)\n",
    "    x = Activation('relu')(x)\n",
    "    x = ZeroPadding2D(padding=(1, 1))(x)\n",
    "    x = Conv2D(192, (3, 3), name='conv3')(x)\n",
    "    x = BatchNormalization(axis=3, epsilon=0.00001, name='bn3')(x)\n",
    "    x = Activation('relu')(x)\n",
    "    x = Lambda(LRN2D, name='lrn_2')(x)\n",
    "    x = ZeroPadding2D(padding=(1, 1))(x)\n",
    "    x = MaxPooling2D(pool_size=3, strides=2)(x)\n",
    "\n",
    "    # Inception3a\n",
    "    inception_3a_3x3 = Conv2D(96, (1, 1), name='inception_3a_3x3_conv1')(x)\n",
    "    inception_3a_3x3 = BatchNormalization(axis=3, epsilon=0.00001, name='inception_3a_3x3_bn1')(inception_3a_3x3)\n",
    "    inception_3a_3x3 = Activation('relu')(inception_3a_3x3)\n",
    "    inception_3a_3x3 = ZeroPadding2D(padding=(1, 1))(inception_3a_3x3)\n",
    "    inception_3a_3x3 = Conv2D(128, (3, 3), name='inception_3a_3x3_conv2')(inception_3a_3x3)\n",
    "    inception_3a_3x3 = BatchNormalization(axis=3, epsilon=0.00001, name='inception_3a_3x3_bn2')(inception_3a_3x3)\n",
    "    inception_3a_3x3 = Activation('relu')(inception_3a_3x3)\n",
    "\n",
    "    inception_3a_5x5 = Conv2D(16, (1, 1), name='inception_3a_5x5_conv1')(x)\n",
    "    inception_3a_5x5 = BatchNormalization(axis=3, epsilon=0.00001, name='inception_3a_5x5_bn1')(inception_3a_5x5)\n",
    "    inception_3a_5x5 = Activation('relu')(inception_3a_5x5)\n",
    "    inception_3a_5x5 = ZeroPadding2D(padding=(2, 2))(inception_3a_5x5)\n",
    "    inception_3a_5x5 = Conv2D(32, (5, 5), name='inception_3a_5x5_conv2')(inception_3a_5x5)\n",
    "    inception_3a_5x5 = BatchNormalization(axis=3, epsilon=0.00001, name='inception_3a_5x5_bn2')(inception_3a_5x5)\n",
    "    inception_3a_5x5 = Activation('relu')(inception_3a_5x5)\n",
    "\n",
    "    inception_3a_pool = MaxPooling2D(pool_size=3, strides=2)(x)\n",
    "    inception_3a_pool = Conv2D(32, (1, 1), name='inception_3a_pool_conv')(inception_3a_pool)\n",
    "    inception_3a_pool = BatchNormalization(axis=3, epsilon=0.00001, name='inception_3a_pool_bn')(inception_3a_pool)\n",
    "    inception_3a_pool = Activation('relu')(inception_3a_pool)\n",
    "    inception_3a_pool = ZeroPadding2D(padding=((3, 4), (3, 4)))(inception_3a_pool)\n",
    "\n",
    "    inception_3a_1x1 = Conv2D(64, (1, 1), name='inception_3a_1x1_conv')(x)\n",
    "    inception_3a_1x1 = BatchNormalization(axis=3, epsilon=0.00001, name='inception_3a_1x1_bn')(inception_3a_1x1)\n",
    "    inception_3a_1x1 = Activation('relu')(inception_3a_1x1)\n",
    "\n",
    "    inception_3a = concatenate([inception_3a_3x3, inception_3a_5x5, inception_3a_pool, inception_3a_1x1], axis=3)\n",
    "\n",
    "    # Inception3b\n",
    "    inception_3b_3x3 = Conv2D(96, (1, 1), name='inception_3b_3x3_conv1')(inception_3a)\n",
    "    inception_3b_3x3 = BatchNormalization(axis=3, epsilon=0.00001, name='inception_3b_3x3_bn1')(inception_3b_3x3)\n",
    "    inception_3b_3x3 = Activation('relu')(inception_3b_3x3)\n",
    "    inception_3b_3x3 = ZeroPadding2D(padding=(1, 1))(inception_3b_3x3)\n",
    "    inception_3b_3x3 = Conv2D(128, (3, 3), name='inception_3b_3x3_conv2')(inception_3b_3x3)\n",
    "    inception_3b_3x3 = BatchNormalization(axis=3, epsilon=0.00001, name='inception_3b_3x3_bn2')(inception_3b_3x3)\n",
    "    inception_3b_3x3 = Activation('relu')(inception_3b_3x3)\n",
    "\n",
    "    inception_3b_5x5 = Conv2D(32, (1, 1), name='inception_3b_5x5_conv1')(inception_3a)\n",
    "    inception_3b_5x5 = BatchNormalization(axis=3, epsilon=0.00001, name='inception_3b_5x5_bn1')(inception_3b_5x5)\n",
    "    inception_3b_5x5 = Activation('relu')(inception_3b_5x5)\n",
    "    inception_3b_5x5 = ZeroPadding2D(padding=(2, 2))(inception_3b_5x5)\n",
    "    inception_3b_5x5 = Conv2D(64, (5, 5), name='inception_3b_5x5_conv2')(inception_3b_5x5)\n",
    "    inception_3b_5x5 = BatchNormalization(axis=3, epsilon=0.00001, name='inception_3b_5x5_bn2')(inception_3b_5x5)\n",
    "    inception_3b_5x5 = Activation('relu')(inception_3b_5x5)\n",
    "\n",
    "    inception_3b_pool = AveragePooling2D(pool_size=(3, 3), strides=(3, 3))(inception_3a)\n",
    "    inception_3b_pool = Conv2D(64, (1, 1), name='inception_3b_pool_conv')(inception_3b_pool)\n",
    "    inception_3b_pool = BatchNormalization(axis=3, epsilon=0.00001, name='inception_3b_pool_bn')(inception_3b_pool)\n",
    "    inception_3b_pool = Activation('relu')(inception_3b_pool)\n",
    "    inception_3b_pool = ZeroPadding2D(padding=(4, 4))(inception_3b_pool)\n",
    "\n",
    "    inception_3b_1x1 = Conv2D(64, (1, 1), name='inception_3b_1x1_conv')(inception_3a)\n",
    "    inception_3b_1x1 = BatchNormalization(axis=3, epsilon=0.00001, name='inception_3b_1x1_bn')(inception_3b_1x1)\n",
    "    inception_3b_1x1 = Activation('relu')(inception_3b_1x1)\n",
    "\n",
    "    inception_3b = concatenate([inception_3b_3x3, inception_3b_5x5, inception_3b_pool, inception_3b_1x1], axis=3)\n",
    "\n",
    "    # Inception3c\n",
    "    inception_3c_3x3 = conv2d_bn(inception_3b,\n",
    "                                       layer='inception_3c_3x3',\n",
    "                                       cv1_out=128,\n",
    "                                       cv1_filter=(1, 1),\n",
    "                                       cv2_out=256,\n",
    "                                       cv2_filter=(3, 3),\n",
    "                                       cv2_strides=(2, 2),\n",
    "                                       padding=(1, 1))\n",
    "\n",
    "    inception_3c_5x5 = conv2d_bn(inception_3b,\n",
    "                                       layer='inception_3c_5x5',\n",
    "                                       cv1_out=32,\n",
    "                                       cv1_filter=(1, 1),\n",
    "                                       cv2_out=64,\n",
    "                                       cv2_filter=(5, 5),\n",
    "                                       cv2_strides=(2, 2),\n",
    "                                       padding=(2, 2))\n",
    "\n",
    "    inception_3c_pool = MaxPooling2D(pool_size=3, strides=2)(inception_3b)\n",
    "    inception_3c_pool = ZeroPadding2D(padding=((0, 1), (0, 1)))(inception_3c_pool)\n",
    "\n",
    "    inception_3c = concatenate([inception_3c_3x3, inception_3c_5x5, inception_3c_pool], axis=3)\n",
    "\n",
    "    #inception 4a\n",
    "    inception_4a_3x3 = conv2d_bn(inception_3c,\n",
    "                                       layer='inception_4a_3x3',\n",
    "                                       cv1_out=96,\n",
    "                                       cv1_filter=(1, 1),\n",
    "                                       cv2_out=192,\n",
    "                                       cv2_filter=(3, 3),\n",
    "                                       cv2_strides=(1, 1),\n",
    "                                       padding=(1, 1))\n",
    "    inception_4a_5x5 = conv2d_bn(inception_3c,\n",
    "                                       layer='inception_4a_5x5',\n",
    "                                       cv1_out=32,\n",
    "                                       cv1_filter=(1, 1),\n",
    "                                       cv2_out=64,\n",
    "                                       cv2_filter=(5, 5),\n",
    "                                       cv2_strides=(1, 1),\n",
    "                                       padding=(2, 2))\n",
    "\n",
    "    inception_4a_pool = AveragePooling2D(pool_size=(3, 3), strides=(3, 3))(inception_3c)\n",
    "    inception_4a_pool = conv2d_bn(inception_4a_pool,\n",
    "                                        layer='inception_4a_pool',\n",
    "                                        cv1_out=128,\n",
    "                                        cv1_filter=(1, 1),\n",
    "                                        padding=(2, 2))\n",
    "    inception_4a_1x1 = conv2d_bn(inception_3c,\n",
    "                                       layer='inception_4a_1x1',\n",
    "                                       cv1_out=256,\n",
    "                                       cv1_filter=(1, 1))\n",
    "    inception_4a = concatenate([inception_4a_3x3, inception_4a_5x5, inception_4a_pool, inception_4a_1x1], axis=3)\n",
    "\n",
    "    #inception4e\n",
    "    inception_4e_3x3 = conv2d_bn(inception_4a,\n",
    "                                       layer='inception_4e_3x3',\n",
    "                                       cv1_out=160,\n",
    "                                       cv1_filter=(1, 1),\n",
    "                                       cv2_out=256,\n",
    "                                       cv2_filter=(3, 3),\n",
    "                                       cv2_strides=(2, 2),\n",
    "                                       padding=(1, 1))\n",
    "    inception_4e_5x5 = conv2d_bn(inception_4a,\n",
    "                                       layer='inception_4e_5x5',\n",
    "                                       cv1_out=64,\n",
    "                                       cv1_filter=(1, 1),\n",
    "                                       cv2_out=128,\n",
    "                                       cv2_filter=(5, 5),\n",
    "                                       cv2_strides=(2, 2),\n",
    "                                       padding=(2, 2))\n",
    "    inception_4e_pool = MaxPooling2D(pool_size=3, strides=2)(inception_4a)\n",
    "    inception_4e_pool = ZeroPadding2D(padding=((0, 1), (0, 1)))(inception_4e_pool)\n",
    "\n",
    "    inception_4e = concatenate([inception_4e_3x3, inception_4e_5x5, inception_4e_pool], axis=3)\n",
    "\n",
    "    #inception5a\n",
    "    inception_5a_3x3 = conv2d_bn(inception_4e,\n",
    "                                       layer='inception_5a_3x3',\n",
    "                                       cv1_out=96,\n",
    "                                       cv1_filter=(1, 1),\n",
    "                                       cv2_out=384,\n",
    "                                       cv2_filter=(3, 3),\n",
    "                                       cv2_strides=(1, 1),\n",
    "                                       padding=(1, 1))\n",
    "\n",
    "    inception_5a_pool = AveragePooling2D(pool_size=(3, 3), strides=(3, 3))(inception_4e)\n",
    "    inception_5a_pool = conv2d_bn(inception_5a_pool,\n",
    "                                        layer='inception_5a_pool',\n",
    "                                        cv1_out=96,\n",
    "                                        cv1_filter=(1, 1),\n",
    "                                        padding=(1, 1))\n",
    "    inception_5a_1x1 = conv2d_bn(inception_4e,\n",
    "                                       layer='inception_5a_1x1',\n",
    "                                       cv1_out=256,\n",
    "                                       cv1_filter=(1, 1))\n",
    "\n",
    "    inception_5a = concatenate([inception_5a_3x3, inception_5a_pool, inception_5a_1x1], axis=3)\n",
    "\n",
    "    #inception_5b\n",
    "    inception_5b_3x3 = conv2d_bn(inception_5a,\n",
    "                                       layer='inception_5b_3x3',\n",
    "                                       cv1_out=96,\n",
    "                                       cv1_filter=(1, 1),\n",
    "                                       cv2_out=384,\n",
    "                                       cv2_filter=(3, 3),\n",
    "                                       cv2_strides=(1, 1),\n",
    "                                       padding=(1, 1))\n",
    "    inception_5b_pool = MaxPooling2D(pool_size=3, strides=2)(inception_5a)\n",
    "    inception_5b_pool = conv2d_bn(inception_5b_pool,\n",
    "                                        layer='inception_5b_pool',\n",
    "                                        cv1_out=96,\n",
    "                                        cv1_filter=(1, 1))\n",
    "    inception_5b_pool = ZeroPadding2D(padding=(1, 1))(inception_5b_pool)\n",
    "\n",
    "    inception_5b_1x1 = conv2d_bn(inception_5a,\n",
    "                                       layer='inception_5b_1x1',\n",
    "                                       cv1_out=256,\n",
    "                                       cv1_filter=(1, 1))\n",
    "    inception_5b = concatenate([inception_5b_3x3, inception_5b_pool, inception_5b_1x1], axis=3)\n",
    "\n",
    "    av_pool = AveragePooling2D(pool_size=(3, 3), strides=(1, 1))(inception_5b)\n",
    "    reshape_layer = Flatten()(av_pool)\n",
    "    dense_layer = Dense(128, name='dense_layer')(reshape_layer)\n",
    "    norm_layer = Lambda(lambda  x: K.l2_normalize(x, axis=1), name='norm_layer')(dense_layer)\n",
    "\n",
    "    return Model(inputs=[myInput], outputs=norm_layer)"
   ]
  },
  {
   "cell_type": "code",
   "execution_count": 0,
   "metadata": {
    "colab": {},
    "colab_type": "code",
    "id": "zVrtXzVQLsTX"
   },
   "outputs": [],
   "source": [
    "def LRN2D(x):\n",
    "    return tf.nn.lrn(x, alpha=1e-4, beta=0.75)\n",
    "\n",
    "def conv2d_bn(\n",
    "  x,\n",
    "  layer=None,\n",
    "  cv1_out=None,\n",
    "  cv1_filter=(1, 1),\n",
    "  cv1_strides=(1, 1),\n",
    "  cv2_out=None,\n",
    "  cv2_filter=(3, 3),\n",
    "  cv2_strides=(1, 1),\n",
    "  padding=None,\n",
    "):\n",
    "    num = '' if cv2_out == None else '1'\n",
    "    tensor = Conv2D(cv1_out, cv1_filter, strides=cv1_strides, name=layer+'_conv'+num)(x)\n",
    "    tensor = BatchNormalization(axis=3, epsilon=0.00001, name=layer+'_bn'+num)(tensor)\n",
    "    tensor = Activation('relu')(tensor)\n",
    "    if padding == None:\n",
    "        return tensor\n",
    "    tensor = ZeroPadding2D(padding=padding)(tensor)\n",
    "    if cv2_out == None:\n",
    "        return tensor\n",
    "    tensor = Conv2D(cv2_out, cv2_filter, strides=cv2_strides, name=layer+'_conv'+'2')(tensor)\n",
    "    tensor = BatchNormalization(axis=3, epsilon=0.00001, name=layer+'_bn'+'2')(tensor)\n",
    "    tensor = Activation('relu')(tensor)\n",
    "    return tensor\n",
    "\n",
    "def create_base_network(input_shape):\n",
    "    mod = inception_based_model()\n",
    "    new_mod = Model(mod.input,mod.layers[-5].output)\n",
    "    return new_mod\n",
    "def get_model5():\n",
    "    input_shape = (96,96,3)\n",
    "    input_a = Input(shape=input_shape)\n",
    "    input_b = Input(shape=input_shape)\n",
    "    base_network = create_base_network(input_shape)\n",
    "\n",
    "    # because we re-use the same instance `base_network`,\n",
    "    # the weights of the network\n",
    "    # will be shared across the two branches\n",
    "    processed_a = base_network(input_a)\n",
    "    processed_b = base_network(input_b)\n",
    "\n",
    "\n",
    "    # extract features from detector\n",
    "    x_detector = processed_a\n",
    "    shape_detector = processed_a.shape\n",
    "\n",
    "    # extract features from extractor , same with detector for symmetry DxD model\n",
    "    shape_extractor = processed_b.shape\n",
    "    x_extractor = processed_b\n",
    "\n",
    "    # rehape to (minibatch_size, total_pixels, filter_size)\n",
    "    x_detector = keras.layers.Reshape([shape_detector[1] * shape_detector[2] , shape_detector[-1]])(x_detector)\n",
    "    x_extractor = keras.layers.Reshape([shape_extractor[1] * shape_extractor[2] , shape_extractor[-1]])(x_extractor)\n",
    "\n",
    "    # outer products of features, output shape=(minibatch_size, filter_size_detector*filter_size_extractor)\n",
    "    x = keras.layers.Lambda(outer_product)([x_detector, x_extractor])\n",
    "\n",
    "    # rehape to (minibatch_size, filter_size_detector*filter_size_extractor)\n",
    "    x = keras.layers.Reshape([shape_detector[-1]*shape_extractor[-1]])(x)\n",
    "    # signed square-root \n",
    "\n",
    "    x = keras.layers.Lambda(signed_sqrt)(x)\n",
    "    # L2 normalization\n",
    "    x = keras.layers.Lambda(L2_norm)(x)\n",
    "\n",
    "    ### \n",
    "    ### attach FC-Layer\n",
    "    ###\n",
    "\n",
    "    x = Dense(100, activation=\"relu\")(x)\n",
    "    x = Dropout(0.01)(x)\n",
    "\n",
    "    out = Dense(units=1,kernel_regularizer=keras.regularizers.l2(1e-8),kernel_initializer='glorot_normal',activation=\"sigmoid\")(x)\n",
    "\n",
    "\n",
    "\n",
    "    model = Model([input_a, input_b], out)\n",
    "\n",
    "    model.compile(loss=\"binary_crossentropy\", metrics=['acc',auc], optimizer=Adam(0.001))\n",
    "\n",
    "    print(model.summary())"
   ]
  },
  {
   "cell_type": "code",
   "execution_count": 0,
   "metadata": {
    "colab": {},
    "colab_type": "code",
    "id": "U3GSGnyu5FgF"
   },
   "outputs": [],
   "source": [
    "def vgg_model_2():\n",
    "  input_1 = Input(shape=(224, 224, 3))\n",
    "  input_2 = Input(shape=(224, 224, 3))\n",
    "\n",
    "  base_model = VGGFace(model='resnet50', include_top=False)\n",
    "\n",
    "  for layer in base_model.layers[:-3]:\n",
    "      layer.trainable = True\n",
    "\n",
    "  x1 = base_model(input_1)\n",
    "  x2 = base_model(input_2)\n",
    "\n",
    "\n",
    "  merged_add = Add()([x1, x2])\n",
    "  merged_sub = Subtract()([x1,x2])\n",
    "\n",
    "  merged_add = Conv2D(100 , [1,1] )(merged_add)\n",
    "  merged_sub = Conv2D(100 , [1,1] )(merged_sub)\n",
    "\n",
    "  merged = Concatenate(axis=-1)([merged_add, merged_sub])\n",
    "\n",
    "  merged = Flatten()(merged)\n",
    "\n",
    "  merged = Dense(100, activation=\"relu\")(merged)\n",
    "  merged = Dropout(0.3)(merged)\n",
    "  merged = Dense(25, activation=\"relu\")(merged)\n",
    "  merged = Dropout(0.3)(merged)\n",
    "  out = Dense(1, activation=\"sigmoid\")(merged)\n",
    "\n",
    "  model = Model([input_1, input_2], out)\n",
    "\n",
    "  model.compile(loss=\"binary_crossentropy\", metrics=['acc',auc], optimizer=Adam(0.00001))\n",
    "\n",
    "  model.summary()\n",
    "\n",
    "  return model\n",
    "\n",
    "def auc(y_true, y_pred):\n",
    "    return tf.py_func(roc_auc_score, (y_true, y_pred), tf.double)  "
   ]
  },
  {
   "cell_type": "code",
   "execution_count": 0,
   "metadata": {
    "colab": {},
    "colab_type": "code",
    "id": "oxNriaz6JTXV"
   },
   "outputs": [],
   "source": [
    "\n",
    "def vgg_model_3():\n",
    "    input_1 = Input(shape=(224, 224, 3))\n",
    "    input_2 = Input(shape=(224, 224, 3))\n",
    "\n",
    "    base_model = VGGFace(model='resnet50', include_top=False)\n",
    "\n",
    "    for x in base_model.layers[:-3]:\n",
    "        x.trainable = True\n",
    "\n",
    "    x1 = base_model(input_1)\n",
    "    x2 = base_model(input_2)\n",
    "\n",
    "    # x1_ = Reshape(target_shape=(7*7, 2048))(x1)\n",
    "    # x2_ = Reshape(target_shape=(7*7, 2048))(x2)\n",
    "    #\n",
    "    # x_dot = Dot(axes=[2, 2], normalize=True)([x1_, x2_])\n",
    "    # x_dot = Flatten()(x_dot)\n",
    "\n",
    "    x1 = Concatenate(axis=-1)([GlobalMaxPool2D()(x1), GlobalAvgPool2D()(x1)])\n",
    "    x2 = Concatenate(axis=-1)([GlobalMaxPool2D()(x2), GlobalAvgPool2D()(x2)])\n",
    "\n",
    "    x3 = Subtract()([x1, x2])\n",
    "    x3 = Multiply()([x3, x3])\n",
    "\n",
    "    x = Multiply()([x1, x2])\n",
    "\n",
    "    x = Concatenate(axis=-1)([x, x3])\n",
    "\n",
    "    x = Dense(100, activation=\"relu\")(x)\n",
    "    x = Dropout(0.01)(x)\n",
    "    out = Dense(1, activation=\"sigmoid\")(x)\n",
    "\n",
    "    model = Model([input_1, input_2], out)\n",
    "\n",
    "    model.compile(loss=\"binary_crossentropy\", metrics=['acc'], optimizer=Adam(0.00001))\n",
    "\n",
    "    model.summary()\n",
    "\n",
    "    return model\n"
   ]
  },
  {
   "cell_type": "markdown",
   "metadata": {
    "colab_type": "text",
    "id": "5t7MMxgzfrbw"
   },
   "source": [
    "<H1>1. Model 1 Training "
   ]
  },
  {
   "cell_type": "code",
   "execution_count": 0,
   "metadata": {
    "colab": {
     "base_uri": "https://localhost:8080/",
     "height": 1000
    },
    "colab_type": "code",
    "executionInfo": {
     "elapsed": 63848,
     "status": "ok",
     "timestamp": 1574039471975,
     "user": {
      "displayName": "KAUSHIK M",
      "photoUrl": "https://lh3.googleusercontent.com/a-/AAuE7mARF6ftOpLEosQJbeoM5cRa9cneFv8lcUDieQnoJA=s64",
      "userId": "12157452214257167832"
     },
     "user_tz": -330
    },
    "id": "w-WE1jOyNFcX",
    "outputId": "35730886-6c02-463e-a8f2-f15aa11944ac"
   },
   "outputs": [
    {
     "name": "stdout",
     "output_type": "stream",
     "text": [
      "WARNING:tensorflow:From /usr/local/lib/python3.6/dist-packages/keras/backend/tensorflow_backend.py:66: The name tf.get_default_graph is deprecated. Please use tf.compat.v1.get_default_graph instead.\n",
      "\n",
      "WARNING:tensorflow:From /usr/local/lib/python3.6/dist-packages/keras/backend/tensorflow_backend.py:541: The name tf.placeholder is deprecated. Please use tf.compat.v1.placeholder instead.\n",
      "\n",
      "WARNING:tensorflow:From /usr/local/lib/python3.6/dist-packages/keras/backend/tensorflow_backend.py:4432: The name tf.random_uniform is deprecated. Please use tf.random.uniform instead.\n",
      "\n",
      "WARNING:tensorflow:From /usr/local/lib/python3.6/dist-packages/keras/backend/tensorflow_backend.py:190: The name tf.get_default_session is deprecated. Please use tf.compat.v1.get_default_session instead.\n",
      "\n",
      "WARNING:tensorflow:From /usr/local/lib/python3.6/dist-packages/keras/backend/tensorflow_backend.py:197: The name tf.ConfigProto is deprecated. Please use tf.compat.v1.ConfigProto instead.\n",
      "\n",
      "WARNING:tensorflow:From /usr/local/lib/python3.6/dist-packages/keras/backend/tensorflow_backend.py:203: The name tf.Session is deprecated. Please use tf.compat.v1.Session instead.\n",
      "\n",
      "WARNING:tensorflow:From /usr/local/lib/python3.6/dist-packages/keras/backend/tensorflow_backend.py:207: The name tf.global_variables is deprecated. Please use tf.compat.v1.global_variables instead.\n",
      "\n",
      "WARNING:tensorflow:From /usr/local/lib/python3.6/dist-packages/keras/backend/tensorflow_backend.py:216: The name tf.is_variable_initialized is deprecated. Please use tf.compat.v1.is_variable_initialized instead.\n",
      "\n",
      "WARNING:tensorflow:From /usr/local/lib/python3.6/dist-packages/keras/backend/tensorflow_backend.py:223: The name tf.variables_initializer is deprecated. Please use tf.compat.v1.variables_initializer instead.\n",
      "\n",
      "WARNING:tensorflow:From /usr/local/lib/python3.6/dist-packages/keras/backend/tensorflow_backend.py:2041: The name tf.nn.fused_batch_norm is deprecated. Please use tf.compat.v1.nn.fused_batch_norm instead.\n",
      "\n",
      "WARNING:tensorflow:From /usr/local/lib/python3.6/dist-packages/keras/backend/tensorflow_backend.py:148: The name tf.placeholder_with_default is deprecated. Please use tf.compat.v1.placeholder_with_default instead.\n",
      "\n",
      "WARNING:tensorflow:From /usr/local/lib/python3.6/dist-packages/keras/backend/tensorflow_backend.py:4267: The name tf.nn.max_pool is deprecated. Please use tf.nn.max_pool2d instead.\n",
      "\n",
      "WARNING:tensorflow:From /usr/local/lib/python3.6/dist-packages/keras/backend/tensorflow_backend.py:4271: The name tf.nn.avg_pool is deprecated. Please use tf.nn.avg_pool2d instead.\n",
      "\n",
      "Downloading data from https://github.com/rcmalli/keras-vggface/releases/download/v2.0/rcmalli_vggface_tf_notop_resnet50.h5\n",
      "94699520/94694792 [==============================] - 2s 0us/step\n",
      "WARNING:tensorflow:From /usr/local/lib/python3.6/dist-packages/keras/backend/tensorflow_backend.py:3733: calling dropout (from tensorflow.python.ops.nn_ops) with keep_prob is deprecated and will be removed in a future version.\n",
      "Instructions for updating:\n",
      "Please use `rate` instead of `keep_prob`. Rate should be set to `rate = 1 - keep_prob`.\n",
      "WARNING:tensorflow:From /usr/local/lib/python3.6/dist-packages/keras/optimizers.py:793: The name tf.train.Optimizer is deprecated. Please use tf.compat.v1.train.Optimizer instead.\n",
      "\n",
      "WARNING:tensorflow:From /usr/local/lib/python3.6/dist-packages/keras/backend/tensorflow_backend.py:3657: The name tf.log is deprecated. Please use tf.math.log instead.\n",
      "\n",
      "WARNING:tensorflow:From /usr/local/lib/python3.6/dist-packages/tensorflow_core/python/ops/nn_impl.py:183: where (from tensorflow.python.ops.array_ops) is deprecated and will be removed in a future version.\n",
      "Instructions for updating:\n",
      "Use tf.where in 2.0, which has the same broadcast rule as np.where\n",
      "Model: \"model_1\"\n",
      "__________________________________________________________________________________________________\n",
      "Layer (type)                    Output Shape         Param #     Connected to                     \n",
      "==================================================================================================\n",
      "input_1 (InputLayer)            (None, 197, 197, 3)  0                                            \n",
      "__________________________________________________________________________________________________\n",
      "input_2 (InputLayer)            (None, 197, 197, 3)  0                                            \n",
      "__________________________________________________________________________________________________\n",
      "vggface_resnet50 (Model)        multiple             23561152    input_1[0][0]                    \n",
      "                                                                 input_2[0][0]                    \n",
      "__________________________________________________________________________________________________\n",
      "global_max_pooling2d_1 (GlobalM (None, 2048)         0           vggface_resnet50[1][0]           \n",
      "__________________________________________________________________________________________________\n",
      "global_average_pooling2d_1 (Glo (None, 2048)         0           vggface_resnet50[1][0]           \n",
      "__________________________________________________________________________________________________\n",
      "global_max_pooling2d_2 (GlobalM (None, 2048)         0           vggface_resnet50[2][0]           \n",
      "__________________________________________________________________________________________________\n",
      "global_average_pooling2d_2 (Glo (None, 2048)         0           vggface_resnet50[2][0]           \n",
      "__________________________________________________________________________________________________\n",
      "concatenate_1 (Concatenate)     (None, 4096)         0           global_max_pooling2d_1[0][0]     \n",
      "                                                                 global_average_pooling2d_1[0][0] \n",
      "__________________________________________________________________________________________________\n",
      "concatenate_2 (Concatenate)     (None, 4096)         0           global_max_pooling2d_2[0][0]     \n",
      "                                                                 global_average_pooling2d_2[0][0] \n",
      "__________________________________________________________________________________________________\n",
      "multiply_2 (Multiply)           (None, 4096)         0           concatenate_1[0][0]              \n",
      "                                                                 concatenate_1[0][0]              \n",
      "__________________________________________________________________________________________________\n",
      "multiply_3 (Multiply)           (None, 4096)         0           concatenate_2[0][0]              \n",
      "                                                                 concatenate_2[0][0]              \n",
      "__________________________________________________________________________________________________\n",
      "subtract_1 (Subtract)           (None, 4096)         0           concatenate_1[0][0]              \n",
      "                                                                 concatenate_2[0][0]              \n",
      "__________________________________________________________________________________________________\n",
      "subtract_2 (Subtract)           (None, 4096)         0           multiply_2[0][0]                 \n",
      "                                                                 multiply_3[0][0]                 \n",
      "__________________________________________________________________________________________________\n",
      "multiply_1 (Multiply)           (None, 4096)         0           subtract_1[0][0]                 \n",
      "                                                                 subtract_1[0][0]                 \n",
      "__________________________________________________________________________________________________\n",
      "concatenate_3 (Concatenate)     (None, 8192)         0           subtract_2[0][0]                 \n",
      "                                                                 multiply_1[0][0]                 \n",
      "__________________________________________________________________________________________________\n",
      "dense_1 (Dense)                 (None, 100)          819300      concatenate_3[0][0]              \n",
      "__________________________________________________________________________________________________\n",
      "dropout_1 (Dropout)             (None, 100)          0           dense_1[0][0]                    \n",
      "__________________________________________________________________________________________________\n",
      "dense_2 (Dense)                 (None, 1)            101         dropout_1[0][0]                  \n",
      "==================================================================================================\n",
      "Total params: 24,380,553\n",
      "Trainable params: 24,327,433\n",
      "Non-trainable params: 53,120\n",
      "__________________________________________________________________________________________________\n"
     ]
    }
   ],
   "source": [
    "curr_model = baseline_model()"
   ]
  },
  {
   "cell_type": "code",
   "execution_count": 0,
   "metadata": {
    "colab": {},
    "colab_type": "code",
    "id": "t0JKCMYOCXXj"
   },
   "outputs": [],
   "source": [
    "gen_train = gen(train, train_person_to_images_map, batch_size=8)\n",
    "gen_val = gen(val, val_person_to_images_map, batch_size=8)\n",
    "# gen_train, gen_val are the generators"
   ]
  },
  {
   "cell_type": "code",
   "execution_count": 0,
   "metadata": {
    "colab": {},
    "colab_type": "code",
    "id": "GGl-ULqg5NTw"
   },
   "outputs": [],
   "source": [
    "test_path = \"test/\"\n",
    "\n",
    "checkpoint = ModelCheckpoint('model_best_checkpoint.h5', monitor='val_acc', verbose=1, save_best_only=True, mode='max')\n",
    "reduce_on_plateau = ReduceLROnPlateau(monitor=\"val_acc\", mode=\"max\", factor=0.1, patience=20, verbose=1)\n",
    "callbacks_list = [checkpoint, reduce_on_plateau]"
   ]
  },
  {
   "cell_type": "code",
   "execution_count": 0,
   "metadata": {
    "colab": {
     "base_uri": "https://localhost:8080/",
     "height": 1000
    },
    "colab_type": "code",
    "executionInfo": {
     "elapsed": 1407,
     "status": "ok",
     "timestamp": 1574050047395,
     "user": {
      "displayName": "KAUSHIK M",
      "photoUrl": "https://lh3.googleusercontent.com/a-/AAuE7mARF6ftOpLEosQJbeoM5cRa9cneFv8lcUDieQnoJA=s64",
      "userId": "12157452214257167832"
     },
     "user_tz": -330
    },
    "id": "sVI6K_c5EGFA",
    "outputId": "9dd71f0e-2726-49ea-d1d8-407de55e6639"
   },
   "outputs": [
    {
     "name": "stdout",
     "output_type": "stream",
     "text": [
      "Epoch 1/100\n",
      "200/200 [==============================] - 68s 342ms/step - loss: 0.9521 - acc: 0.6359 - val_loss: 1.0692 - val_acc: 0.6150\n",
      "\n",
      "Epoch 00001: val_acc improved from 0.58813 to 0.61500, saving model to vgg_face.h5\n",
      "Epoch 2/100\n",
      "200/200 [==============================] - 65s 327ms/step - loss: 0.7311 - acc: 0.6531 - val_loss: 0.7998 - val_acc: 0.6262\n",
      "\n",
      "Epoch 00002: val_acc improved from 0.61500 to 0.62625, saving model to vgg_face.h5\n",
      "Epoch 3/100\n",
      "200/200 [==============================] - 65s 325ms/step - loss: 0.6436 - acc: 0.6709 - val_loss: 0.7346 - val_acc: 0.6481\n",
      "\n",
      "Epoch 00003: val_acc improved from 0.62625 to 0.64812, saving model to vgg_face.h5\n",
      "Epoch 4/100\n",
      "200/200 [==============================] - 65s 325ms/step - loss: 0.5767 - acc: 0.7028 - val_loss: 0.6141 - val_acc: 0.7031\n",
      "\n",
      "Epoch 00004: val_acc improved from 0.64812 to 0.70312, saving model to vgg_face.h5\n",
      "Epoch 5/100\n",
      "200/200 [==============================] - 64s 322ms/step - loss: 0.5605 - acc: 0.7144 - val_loss: 0.5777 - val_acc: 0.7106\n",
      "\n",
      "Epoch 00005: val_acc improved from 0.70312 to 0.71062, saving model to vgg_face.h5\n",
      "Epoch 6/100\n",
      "200/200 [==============================] - 65s 323ms/step - loss: 0.5266 - acc: 0.7341 - val_loss: 0.5847 - val_acc: 0.7019\n",
      "\n",
      "Epoch 00006: val_acc did not improve from 0.71062\n",
      "Epoch 7/100\n",
      "200/200 [==============================] - 65s 324ms/step - loss: 0.5033 - acc: 0.7484 - val_loss: 0.5629 - val_acc: 0.7075\n",
      "\n",
      "Epoch 00007: val_acc did not improve from 0.71062\n",
      "Epoch 8/100\n",
      "200/200 [==============================] - 66s 330ms/step - loss: 0.4898 - acc: 0.7553 - val_loss: 0.5492 - val_acc: 0.7256\n",
      "\n",
      "Epoch 00008: val_acc improved from 0.71062 to 0.72562, saving model to vgg_face.h5\n",
      "Epoch 9/100\n",
      "200/200 [==============================] - 66s 329ms/step - loss: 0.4842 - acc: 0.7612 - val_loss: 0.5560 - val_acc: 0.7188\n",
      "\n",
      "Epoch 00009: val_acc did not improve from 0.72562\n",
      "Epoch 10/100\n",
      "200/200 [==============================] - 64s 322ms/step - loss: 0.4647 - acc: 0.7744 - val_loss: 0.5399 - val_acc: 0.7356\n",
      "\n",
      "Epoch 00010: val_acc improved from 0.72562 to 0.73562, saving model to vgg_face.h5\n",
      "Epoch 11/100\n",
      "200/200 [==============================] - 65s 323ms/step - loss: 0.4513 - acc: 0.7844 - val_loss: 0.5325 - val_acc: 0.7356\n",
      "\n",
      "Epoch 00011: val_acc did not improve from 0.73562\n",
      "Epoch 12/100\n",
      "200/200 [==============================] - 65s 324ms/step - loss: 0.4319 - acc: 0.7975 - val_loss: 0.5622 - val_acc: 0.7356\n",
      "\n",
      "Epoch 00012: val_acc did not improve from 0.73562\n",
      "Epoch 13/100\n",
      "200/200 [==============================] - 66s 330ms/step - loss: 0.4464 - acc: 0.7887 - val_loss: 0.5464 - val_acc: 0.7344\n",
      "\n",
      "Epoch 00013: val_acc did not improve from 0.73562\n",
      "Epoch 14/100\n",
      "200/200 [==============================] - 66s 331ms/step - loss: 0.4266 - acc: 0.8100 - val_loss: 0.5052 - val_acc: 0.7594\n",
      "\n",
      "Epoch 00014: val_acc improved from 0.73562 to 0.75938, saving model to vgg_face.h5\n",
      "Epoch 15/100\n",
      "200/200 [==============================] - 65s 324ms/step - loss: 0.4328 - acc: 0.8016 - val_loss: 0.5293 - val_acc: 0.7369\n",
      "\n",
      "Epoch 00015: val_acc did not improve from 0.75938\n",
      "Epoch 16/100\n",
      "200/200 [==============================] - 65s 324ms/step - loss: 0.4201 - acc: 0.8028 - val_loss: 0.5265 - val_acc: 0.7394\n",
      "\n",
      "Epoch 00016: val_acc did not improve from 0.75938\n",
      "Epoch 17/100\n",
      "200/200 [==============================] - 66s 328ms/step - loss: 0.4030 - acc: 0.8134 - val_loss: 0.5160 - val_acc: 0.7481\n",
      "\n",
      "Epoch 00017: val_acc did not improve from 0.75938\n",
      "Epoch 18/100\n",
      "200/200 [==============================] - 66s 328ms/step - loss: 0.3998 - acc: 0.8122 - val_loss: 0.5312 - val_acc: 0.7438\n",
      "\n",
      "Epoch 00018: val_acc did not improve from 0.75938\n",
      "Epoch 19/100\n",
      "200/200 [==============================] - 66s 330ms/step - loss: 0.4071 - acc: 0.8119 - val_loss: 0.4800 - val_acc: 0.7731\n",
      "\n",
      "Epoch 00019: val_acc improved from 0.75938 to 0.77312, saving model to vgg_face.h5\n",
      "Epoch 20/100\n",
      "200/200 [==============================] - 65s 324ms/step - loss: 0.3885 - acc: 0.8234 - val_loss: 0.5040 - val_acc: 0.7594\n",
      "\n",
      "Epoch 00020: val_acc did not improve from 0.77312\n",
      "Epoch 21/100\n",
      "200/200 [==============================] - 65s 327ms/step - loss: 0.3929 - acc: 0.8197 - val_loss: 0.5075 - val_acc: 0.7569\n",
      "\n",
      "Epoch 00021: val_acc did not improve from 0.77312\n",
      "Epoch 22/100\n",
      "200/200 [==============================] - 65s 325ms/step - loss: 0.3915 - acc: 0.8247 - val_loss: 0.5131 - val_acc: 0.7688\n",
      "\n",
      "Epoch 00022: val_acc did not improve from 0.77312\n",
      "Epoch 23/100\n",
      "200/200 [==============================] - 65s 326ms/step - loss: 0.3834 - acc: 0.8259 - val_loss: 0.4851 - val_acc: 0.7706\n",
      "\n",
      "Epoch 00023: val_acc did not improve from 0.77312\n",
      "Epoch 24/100\n",
      "200/200 [==============================] - 66s 328ms/step - loss: 0.3739 - acc: 0.8244 - val_loss: 0.5095 - val_acc: 0.7619\n",
      "\n",
      "Epoch 00024: val_acc did not improve from 0.77312\n",
      "Epoch 25/100\n",
      "200/200 [==============================] - 65s 324ms/step - loss: 0.3943 - acc: 0.8256 - val_loss: 0.4928 - val_acc: 0.7669\n",
      "\n",
      "Epoch 00025: val_acc did not improve from 0.77312\n",
      "Epoch 26/100\n",
      "200/200 [==============================] - 66s 328ms/step - loss: 0.3511 - acc: 0.8413 - val_loss: 0.4911 - val_acc: 0.7625\n",
      "\n",
      "Epoch 00026: val_acc did not improve from 0.77312\n",
      "Epoch 27/100\n",
      "200/200 [==============================] - 64s 322ms/step - loss: 0.3651 - acc: 0.8344 - val_loss: 0.4797 - val_acc: 0.7756\n",
      "\n",
      "Epoch 00027: val_acc improved from 0.77312 to 0.77563, saving model to vgg_face.h5\n",
      "Epoch 28/100\n",
      "200/200 [==============================] - 65s 326ms/step - loss: 0.3700 - acc: 0.8387 - val_loss: 0.4880 - val_acc: 0.7612\n",
      "\n",
      "Epoch 00028: val_acc did not improve from 0.77563\n",
      "Epoch 29/100\n",
      "200/200 [==============================] - 65s 324ms/step - loss: 0.3655 - acc: 0.8363 - val_loss: 0.5497 - val_acc: 0.7481\n",
      "\n",
      "Epoch 00029: val_acc did not improve from 0.77563\n",
      "Epoch 30/100\n",
      "200/200 [==============================] - 65s 324ms/step - loss: 0.3265 - acc: 0.8581 - val_loss: 0.4998 - val_acc: 0.7781\n",
      "\n",
      "Epoch 00030: val_acc improved from 0.77563 to 0.77812, saving model to vgg_face.h5\n",
      "Epoch 31/100\n",
      "200/200 [==============================] - 64s 321ms/step - loss: 0.3574 - acc: 0.8431 - val_loss: 0.5130 - val_acc: 0.7588\n",
      "\n",
      "Epoch 00031: val_acc did not improve from 0.77812\n",
      "Epoch 32/100\n",
      "200/200 [==============================] - 65s 327ms/step - loss: 0.3405 - acc: 0.8422 - val_loss: 0.5263 - val_acc: 0.7481\n",
      "\n",
      "Epoch 00032: val_acc did not improve from 0.77812\n",
      "Epoch 33/100\n",
      "200/200 [==============================] - 65s 326ms/step - loss: 0.3520 - acc: 0.8453 - val_loss: 0.5561 - val_acc: 0.7550\n",
      "\n",
      "Epoch 00033: val_acc did not improve from 0.77812\n",
      "Epoch 34/100\n",
      "200/200 [==============================] - 66s 329ms/step - loss: 0.3221 - acc: 0.8594 - val_loss: 0.5272 - val_acc: 0.7688\n",
      "\n",
      "Epoch 00034: val_acc did not improve from 0.77812\n",
      "Epoch 35/100\n",
      "200/200 [==============================] - 65s 324ms/step - loss: 0.3384 - acc: 0.8556 - val_loss: 0.5046 - val_acc: 0.7644\n",
      "\n",
      "Epoch 00035: val_acc did not improve from 0.77812\n",
      "Epoch 36/100\n",
      "200/200 [==============================] - 64s 320ms/step - loss: 0.3200 - acc: 0.8638 - val_loss: 0.5276 - val_acc: 0.7744\n",
      "\n",
      "Epoch 00036: val_acc did not improve from 0.77812\n",
      "Epoch 37/100\n",
      "200/200 [==============================] - 64s 322ms/step - loss: 0.3159 - acc: 0.8638 - val_loss: 0.5507 - val_acc: 0.7631\n",
      "\n",
      "Epoch 00037: val_acc did not improve from 0.77812\n",
      "Epoch 38/100\n",
      "200/200 [==============================] - 64s 322ms/step - loss: 0.3248 - acc: 0.8603 - val_loss: 0.6025 - val_acc: 0.7338\n",
      "\n",
      "Epoch 00038: val_acc did not improve from 0.77812\n",
      "Epoch 39/100\n",
      "200/200 [==============================] - 65s 326ms/step - loss: 0.3122 - acc: 0.8547 - val_loss: 0.4833 - val_acc: 0.7900\n",
      "\n",
      "Epoch 00039: val_acc improved from 0.77812 to 0.79000, saving model to vgg_face.h5\n",
      "Epoch 40/100\n",
      "200/200 [==============================] - 64s 318ms/step - loss: 0.3046 - acc: 0.8697 - val_loss: 0.5029 - val_acc: 0.7806\n",
      "\n",
      "Epoch 00040: val_acc did not improve from 0.79000\n",
      "Epoch 41/100\n",
      "200/200 [==============================] - 64s 320ms/step - loss: 0.2975 - acc: 0.8762 - val_loss: 0.5236 - val_acc: 0.7694\n",
      "\n",
      "Epoch 00041: val_acc did not improve from 0.79000\n",
      "Epoch 42/100\n",
      "200/200 [==============================] - 67s 336ms/step - loss: 0.3025 - acc: 0.8738 - val_loss: 0.5329 - val_acc: 0.7638\n",
      "\n",
      "Epoch 00042: val_acc did not improve from 0.79000\n",
      "Epoch 43/100\n",
      "200/200 [==============================] - 65s 326ms/step - loss: 0.3054 - acc: 0.8681 - val_loss: 0.5301 - val_acc: 0.7638\n",
      "\n",
      "Epoch 00043: val_acc did not improve from 0.79000\n",
      "Epoch 44/100\n",
      "200/200 [==============================] - 64s 321ms/step - loss: 0.2988 - acc: 0.8725 - val_loss: 0.5929 - val_acc: 0.7375\n",
      "\n",
      "Epoch 00044: val_acc did not improve from 0.79000\n",
      "Epoch 45/100\n",
      "200/200 [==============================] - 65s 326ms/step - loss: 0.2919 - acc: 0.8769 - val_loss: 0.5157 - val_acc: 0.7688\n",
      "\n",
      "Epoch 00045: val_acc did not improve from 0.79000\n",
      "Epoch 46/100\n",
      "200/200 [==============================] - 65s 325ms/step - loss: 0.2944 - acc: 0.8725 - val_loss: 0.5293 - val_acc: 0.7631\n",
      "\n",
      "Epoch 00046: val_acc did not improve from 0.79000\n",
      "Epoch 47/100\n",
      "200/200 [==============================] - 64s 320ms/step - loss: 0.2826 - acc: 0.8769 - val_loss: 0.5589 - val_acc: 0.7512\n",
      "\n",
      "Epoch 00047: val_acc did not improve from 0.79000\n",
      "Epoch 48/100\n",
      "200/200 [==============================] - 64s 322ms/step - loss: 0.2770 - acc: 0.8803 - val_loss: 0.5589 - val_acc: 0.7481\n",
      "\n",
      "Epoch 00048: val_acc did not improve from 0.79000\n",
      "Epoch 49/100\n",
      "200/200 [==============================] - 63s 315ms/step - loss: 0.2835 - acc: 0.8809 - val_loss: 0.4947 - val_acc: 0.7612\n",
      "\n",
      "Epoch 00049: val_acc did not improve from 0.79000\n",
      "Epoch 50/100\n",
      "200/200 [==============================] - 64s 319ms/step - loss: 0.2770 - acc: 0.8850 - val_loss: 0.5240 - val_acc: 0.7688\n",
      "\n",
      "Epoch 00050: val_acc did not improve from 0.79000\n",
      "Epoch 51/100\n",
      "200/200 [==============================] - 64s 320ms/step - loss: 0.2756 - acc: 0.8803 - val_loss: 0.5979 - val_acc: 0.7531\n",
      "\n",
      "Epoch 00051: val_acc did not improve from 0.79000\n",
      "Epoch 52/100\n",
      "200/200 [==============================] - 64s 319ms/step - loss: 0.2787 - acc: 0.8841 - val_loss: 0.5968 - val_acc: 0.7556\n",
      "\n",
      "Epoch 00052: val_acc did not improve from 0.79000\n",
      "Epoch 53/100\n",
      "200/200 [==============================] - 63s 317ms/step - loss: 0.2584 - acc: 0.8947 - val_loss: 0.5877 - val_acc: 0.7412\n",
      "\n",
      "Epoch 00053: val_acc did not improve from 0.79000\n",
      "Epoch 54/100\n",
      "200/200 [==============================] - 64s 318ms/step - loss: 0.2539 - acc: 0.8994 - val_loss: 0.5534 - val_acc: 0.7569\n",
      "\n",
      "Epoch 00054: val_acc did not improve from 0.79000\n",
      "Epoch 55/100\n",
      "200/200 [==============================] - 64s 318ms/step - loss: 0.2632 - acc: 0.8913 - val_loss: 0.5615 - val_acc: 0.7694\n",
      "\n",
      "Epoch 00055: val_acc did not improve from 0.79000\n",
      "Epoch 56/100\n",
      "200/200 [==============================] - 64s 322ms/step - loss: 0.2465 - acc: 0.8947 - val_loss: 0.5655 - val_acc: 0.7512\n",
      "\n",
      "Epoch 00056: val_acc did not improve from 0.79000\n",
      "Epoch 57/100\n",
      "200/200 [==============================] - 64s 321ms/step - loss: 0.2612 - acc: 0.8894 - val_loss: 0.5754 - val_acc: 0.7688\n",
      "\n",
      "Epoch 00057: val_acc did not improve from 0.79000\n",
      "Epoch 58/100\n",
      "200/200 [==============================] - 63s 316ms/step - loss: 0.2521 - acc: 0.8947 - val_loss: 0.5671 - val_acc: 0.7650\n",
      "\n",
      "Epoch 00058: val_acc did not improve from 0.79000\n",
      "Epoch 59/100\n",
      "200/200 [==============================] - 63s 315ms/step - loss: 0.2416 - acc: 0.9047 - val_loss: 0.5627 - val_acc: 0.7719\n",
      "\n",
      "Epoch 00059: val_acc did not improve from 0.79000\n",
      "\n",
      "Epoch 00059: ReduceLROnPlateau reducing learning rate to 9.999999747378752e-07.\n",
      "Epoch 60/100\n",
      "200/200 [==============================] - 63s 317ms/step - loss: 0.2310 - acc: 0.9087 - val_loss: 0.6083 - val_acc: 0.7525\n",
      "\n",
      "Epoch 00060: val_acc did not improve from 0.79000\n",
      "Epoch 61/100\n",
      "200/200 [==============================] - 64s 319ms/step - loss: 0.2264 - acc: 0.9097 - val_loss: 0.5448 - val_acc: 0.7750\n",
      "\n",
      "Epoch 00061: val_acc did not improve from 0.79000\n",
      "Epoch 62/100\n",
      "200/200 [==============================] - 63s 317ms/step - loss: 0.2316 - acc: 0.9081 - val_loss: 0.5448 - val_acc: 0.7775\n",
      "\n",
      "Epoch 00062: val_acc did not improve from 0.79000\n",
      "Epoch 63/100\n",
      "200/200 [==============================] - 64s 319ms/step - loss: 0.2413 - acc: 0.9006 - val_loss: 0.5587 - val_acc: 0.7588\n",
      "\n",
      "Epoch 00063: val_acc did not improve from 0.79000\n",
      "Epoch 64/100\n",
      "200/200 [==============================] - 63s 315ms/step - loss: 0.2200 - acc: 0.9163 - val_loss: 0.5966 - val_acc: 0.7562\n",
      "\n",
      "Epoch 00064: val_acc did not improve from 0.79000\n",
      "Epoch 65/100\n",
      "200/200 [==============================] - 63s 316ms/step - loss: 0.2263 - acc: 0.9116 - val_loss: 0.5784 - val_acc: 0.7694\n",
      "\n",
      "Epoch 00065: val_acc did not improve from 0.79000\n",
      "Epoch 66/100\n",
      "200/200 [==============================] - 64s 321ms/step - loss: 0.2145 - acc: 0.9128 - val_loss: 0.6044 - val_acc: 0.7538\n",
      "\n",
      "Epoch 00066: val_acc did not improve from 0.79000\n",
      "Epoch 67/100\n",
      "200/200 [==============================] - 63s 317ms/step - loss: 0.2197 - acc: 0.9103 - val_loss: 0.5747 - val_acc: 0.7706\n",
      "\n",
      "Epoch 00067: val_acc did not improve from 0.79000\n",
      "Epoch 68/100\n",
      "200/200 [==============================] - 64s 319ms/step - loss: 0.2096 - acc: 0.9156 - val_loss: 0.5516 - val_acc: 0.7675\n",
      "\n",
      "Epoch 00068: val_acc did not improve from 0.79000\n",
      "Epoch 69/100\n",
      "200/200 [==============================] - 63s 313ms/step - loss: 0.2109 - acc: 0.9219 - val_loss: 0.5769 - val_acc: 0.7594\n",
      "\n",
      "Epoch 00069: val_acc did not improve from 0.79000\n",
      "Epoch 70/100\n",
      "200/200 [==============================] - 64s 318ms/step - loss: 0.1947 - acc: 0.9278 - val_loss: 0.6283 - val_acc: 0.7481\n",
      "\n",
      "Epoch 00070: val_acc did not improve from 0.79000\n",
      "Epoch 71/100\n",
      "200/200 [==============================] - 64s 320ms/step - loss: 0.2091 - acc: 0.9194 - val_loss: 0.5850 - val_acc: 0.7681\n",
      "\n",
      "Epoch 00071: val_acc did not improve from 0.79000\n",
      "Epoch 72/100\n",
      "200/200 [==============================] - 64s 319ms/step - loss: 0.2200 - acc: 0.9125 - val_loss: 0.5771 - val_acc: 0.7675\n",
      "\n",
      "Epoch 00072: val_acc did not improve from 0.79000\n",
      "Epoch 73/100\n",
      "200/200 [==============================] - 64s 320ms/step - loss: 0.1971 - acc: 0.9225 - val_loss: 0.5948 - val_acc: 0.7619\n",
      "\n",
      "Epoch 00073: val_acc did not improve from 0.79000\n",
      "Epoch 74/100\n",
      "200/200 [==============================] - 64s 321ms/step - loss: 0.2202 - acc: 0.9100 - val_loss: 0.6163 - val_acc: 0.7506\n",
      "\n",
      "Epoch 00074: val_acc did not improve from 0.79000\n",
      "Epoch 75/100\n",
      "200/200 [==============================] - 64s 318ms/step - loss: 0.1806 - acc: 0.9303 - val_loss: 0.5845 - val_acc: 0.7706\n",
      "\n",
      "Epoch 00075: val_acc did not improve from 0.79000\n",
      "Epoch 76/100\n",
      "200/200 [==============================] - 63s 316ms/step - loss: 0.1983 - acc: 0.9228 - val_loss: 0.6374 - val_acc: 0.7525\n",
      "\n",
      "Epoch 00076: val_acc did not improve from 0.79000\n",
      "Epoch 77/100\n",
      "200/200 [==============================] - 63s 316ms/step - loss: 0.1973 - acc: 0.9231 - val_loss: 0.6076 - val_acc: 0.7525\n",
      "\n",
      "Epoch 00077: val_acc did not improve from 0.79000\n",
      "Epoch 78/100\n",
      "200/200 [==============================] - 64s 320ms/step - loss: 0.2054 - acc: 0.9200 - val_loss: 0.6424 - val_acc: 0.7488\n",
      "\n",
      "Epoch 00078: val_acc did not improve from 0.79000\n",
      "Epoch 79/100\n",
      "200/200 [==============================] - 63s 317ms/step - loss: 0.1938 - acc: 0.9253 - val_loss: 0.6292 - val_acc: 0.7525\n",
      "\n",
      "Epoch 00079: val_acc did not improve from 0.79000\n",
      "\n",
      "Epoch 00079: ReduceLROnPlateau reducing learning rate to 9.999999974752428e-08.\n",
      "Epoch 80/100\n",
      "200/200 [==============================] - 64s 320ms/step - loss: 0.1892 - acc: 0.9263 - val_loss: 0.6718 - val_acc: 0.7550\n",
      "\n",
      "Epoch 00080: val_acc did not improve from 0.79000\n",
      "Epoch 81/100\n",
      "200/200 [==============================] - 64s 321ms/step - loss: 0.1906 - acc: 0.9222 - val_loss: 0.6409 - val_acc: 0.7581\n",
      "\n",
      "Epoch 00081: val_acc did not improve from 0.79000\n",
      "Epoch 82/100\n",
      "200/200 [==============================] - 63s 314ms/step - loss: 0.1846 - acc: 0.9281 - val_loss: 0.6556 - val_acc: 0.7412\n",
      "\n",
      "Epoch 00082: val_acc did not improve from 0.79000\n",
      "Epoch 83/100\n",
      "200/200 [==============================] - 63s 314ms/step - loss: 0.1813 - acc: 0.9266 - val_loss: 0.6069 - val_acc: 0.7706\n",
      "\n",
      "Epoch 00083: val_acc did not improve from 0.79000\n",
      "Epoch 84/100\n",
      "200/200 [==============================] - 64s 320ms/step - loss: 0.1798 - acc: 0.9347 - val_loss: 0.5880 - val_acc: 0.7581\n",
      "\n",
      "Epoch 00084: val_acc did not improve from 0.79000\n",
      "Epoch 85/100\n",
      "200/200 [==============================] - 64s 322ms/step - loss: 0.1888 - acc: 0.9284 - val_loss: 0.6058 - val_acc: 0.7638\n",
      "\n",
      "Epoch 00085: val_acc did not improve from 0.79000\n",
      "Epoch 86/100\n",
      "200/200 [==============================] - 63s 314ms/step - loss: 0.1877 - acc: 0.9281 - val_loss: 0.6137 - val_acc: 0.7719\n",
      "\n",
      "Epoch 00086: val_acc did not improve from 0.79000\n",
      "Epoch 87/100\n",
      "200/200 [==============================] - 64s 318ms/step - loss: 0.1753 - acc: 0.9316 - val_loss: 0.5802 - val_acc: 0.7650\n",
      "\n",
      "Epoch 00087: val_acc did not improve from 0.79000\n",
      "Epoch 88/100\n",
      "200/200 [==============================] - 64s 320ms/step - loss: 0.1989 - acc: 0.9225 - val_loss: 0.5941 - val_acc: 0.7575\n",
      "\n",
      "Epoch 00088: val_acc did not improve from 0.79000\n",
      "Epoch 89/100\n",
      "200/200 [==============================] - 64s 318ms/step - loss: 0.1830 - acc: 0.9316 - val_loss: 0.6324 - val_acc: 0.7469\n",
      "\n",
      "Epoch 00089: val_acc did not improve from 0.79000\n",
      "Epoch 90/100\n",
      "200/200 [==============================] - 64s 321ms/step - loss: 0.1702 - acc: 0.9319 - val_loss: 0.6236 - val_acc: 0.7700\n",
      "\n",
      "Epoch 00090: val_acc did not improve from 0.79000\n",
      "Epoch 91/100\n",
      "200/200 [==============================] - 64s 320ms/step - loss: 0.1825 - acc: 0.9281 - val_loss: 0.5799 - val_acc: 0.7688\n",
      "\n",
      "Epoch 00091: val_acc did not improve from 0.79000\n",
      "Epoch 92/100\n",
      "200/200 [==============================] - 63s 317ms/step - loss: 0.1773 - acc: 0.9303 - val_loss: 0.6431 - val_acc: 0.7656\n",
      "\n",
      "Epoch 00092: val_acc did not improve from 0.79000\n",
      "Epoch 93/100\n",
      "200/200 [==============================] - 63s 315ms/step - loss: 0.1986 - acc: 0.9259 - val_loss: 0.6276 - val_acc: 0.7538\n",
      "\n",
      "Epoch 00093: val_acc did not improve from 0.79000\n",
      "Epoch 94/100\n",
      "200/200 [==============================] - 64s 318ms/step - loss: 0.2080 - acc: 0.9184 - val_loss: 0.5968 - val_acc: 0.7569\n",
      "\n",
      "Epoch 00094: val_acc did not improve from 0.79000\n",
      "Epoch 95/100\n",
      "200/200 [==============================] - 64s 321ms/step - loss: 0.1876 - acc: 0.9231 - val_loss: 0.6220 - val_acc: 0.7550\n",
      "\n",
      "Epoch 00095: val_acc did not improve from 0.79000\n",
      "Epoch 96/100\n",
      "200/200 [==============================] - 64s 318ms/step - loss: 0.1972 - acc: 0.9241 - val_loss: 0.6231 - val_acc: 0.7569\n",
      "\n",
      "Epoch 00096: val_acc did not improve from 0.79000\n",
      "Epoch 97/100\n",
      "200/200 [==============================] - 64s 320ms/step - loss: 0.1936 - acc: 0.9284 - val_loss: 0.6386 - val_acc: 0.7469\n",
      "\n",
      "Epoch 00097: val_acc did not improve from 0.79000\n",
      "Epoch 98/100\n",
      "200/200 [==============================] - 64s 320ms/step - loss: 0.1817 - acc: 0.9325 - val_loss: 0.5651 - val_acc: 0.7775\n",
      "\n",
      "Epoch 00098: val_acc did not improve from 0.79000\n",
      "Epoch 99/100\n",
      "200/200 [==============================] - 64s 322ms/step - loss: 0.1909 - acc: 0.9281 - val_loss: 0.5677 - val_acc: 0.7650\n",
      "\n",
      "Epoch 00099: val_acc did not improve from 0.79000\n",
      "\n",
      "Epoch 00099: ReduceLROnPlateau reducing learning rate to 1.0000000116860975e-08.\n",
      "Epoch 100/100\n",
      "200/200 [==============================] - 64s 322ms/step - loss: 0.1783 - acc: 0.9356 - val_loss: 0.6076 - val_acc: 0.7675\n",
      "\n",
      "Epoch 00100: val_acc did not improve from 0.79000\n"
     ]
    }
   ],
   "source": [
    "import gc\n",
    "gc.collect()\n",
    "\n",
    "curr_model_hist=curr_model.fit_generator(gen_train, use_multiprocessing=True,\n",
    "                    validation_data=gen_val, epochs=100, verbose=1,\n",
    "                    workers = 4, callbacks=callbacks_list, steps_per_epoch=200, validation_steps=100)\n"
   ]
  },
  {
   "cell_type": "code",
   "execution_count": 0,
   "metadata": {
    "colab": {},
    "colab_type": "code",
    "id": "6xX3YvTAsHb6"
   },
   "outputs": [],
   "source": [
    "# https://www.journaldev.com/15638/python-pickle-example\n",
    "\n",
    "# open a file, where you ant to store the data\n",
    "file = open('model-1', 'wb')\n",
    "# dump information to that file\n",
    "pickle.dump(curr_model_hist, file)\n",
    "# close the file\n",
    "file.close()\n",
    "shutil.copy('model-1','drive/My Drive/AAIC/north-east-smile/')"
   ]
  },
  {
   "cell_type": "code",
   "execution_count": 0,
   "metadata": {
    "colab": {},
    "colab_type": "code",
    "id": "5bZ45Yu8slA4"
   },
   "outputs": [],
   "source": [
    "# open a file, where you stored the pickled data\n",
    "file = open('drive/My Drive/AAIC/north-east-smile/model-1', 'rb')\n",
    "\n",
    "# dump information to that file\n",
    "curr_model_hist = pickle.load(file)\n",
    "\n",
    "# close the file\n",
    "file.close()"
   ]
  },
  {
   "cell_type": "code",
   "execution_count": 0,
   "metadata": {
    "colab": {
     "base_uri": "https://localhost:8080/",
     "height": 640
    },
    "colab_type": "code",
    "executionInfo": {
     "elapsed": 807,
     "status": "ok",
     "timestamp": 1574060180736,
     "user": {
      "displayName": "KAUSHIK M",
      "photoUrl": "https://lh3.googleusercontent.com/a-/AAuE7mARF6ftOpLEosQJbeoM5cRa9cneFv8lcUDieQnoJA=s64",
      "userId": "12157452214257167832"
     },
     "user_tz": -330
    },
    "id": "4tb-w9BTZSxz",
    "outputId": "35e6c3b6-fee1-4c74-d891-46529acf337d"
   },
   "outputs": [
    {
     "data": {
      "image/png": "[encoded data removed]",
      "text/plain": [
       "<Figure size 432x288 with 1 Axes>"
      ]
     },
     "metadata": {
      "tags": []
     },
     "output_type": "display_data"
    },
    {
     "data": {
      "image/png": "[encoded data removed]",
      "text/plain": [
       "<Figure size 432x288 with 1 Axes>"
      ]
     },
     "metadata": {
      "tags": []
     },
     "output_type": "display_data"
    },
    {
     "name": "stderr",
     "output_type": "stream",
     "text": [
      "166it [43:39, 15.26s/it]\n"
     ]
    },
    {
     "name": "stdout",
     "output_type": "stream",
     "text": [
      "Warning: Looks like you're using an outdated API Version, please consider updating (server 1.5.6 / client 1.5.4)\n",
      "\r",
      "  0% 0.00/247k [00:00<?, ?B/s]\r",
      "100% 247k/247k [00:01<00:00, 185kB/s]\n",
      "Successfully submitted to Northeastern SMILE Lab - Recognizing Faces in the Wild"
     ]
    }
   ],
   "source": [
    "plot_accuracy(True)\n",
    "plot_loss(True)\n",
    "# plot_auc(True)\n",
    "sol_submit(curr_model_hist.model)"
   ]
  },
  {
   "cell_type": "markdown",
   "metadata": {
    "colab_type": "text",
    "id": "RHryACSW6bxs"
   },
   "source": [
    "<H1>2. Model 2 Training "
   ]
  },
  {
   "cell_type": "code",
   "execution_count": 0,
   "metadata": {
    "colab": {
     "base_uri": "https://localhost:8080/",
     "height": 961
    },
    "colab_type": "code",
    "executionInfo": {
     "elapsed": 19308,
     "status": "ok",
     "timestamp": 1574070242894,
     "user": {
      "displayName": "KAUSHIK M",
      "photoUrl": "https://lh3.googleusercontent.com/a-/AAuE7mARF6ftOpLEosQJbeoM5cRa9cneFv8lcUDieQnoJA=s64",
      "userId": "12157452214257167832"
     },
     "user_tz": -330
    },
    "id": "xeb1ajC26bPl",
    "outputId": "8514b93c-a1ee-4985-8a51-20188df495c6"
   },
   "outputs": [
    {
     "name": "stdout",
     "output_type": "stream",
     "text": [
      "Downloading data from https://github.com/rcmalli/keras-vggface/releases/download/v2.0/rcmalli_vggface_tf_notop_resnet50.h5\n",
      "94699520/94694792 [==============================] - 1s 0us/step\n",
      "WARNING:tensorflow:From <ipython-input-9-949b4dafc597>:39: py_func (from tensorflow.python.ops.script_ops) is deprecated and will be removed in a future version.\n",
      "Instructions for updating:\n",
      "tf.py_func is deprecated in TF V2. Instead, there are two\n",
      "    options available in V2.\n",
      "    - tf.py_function takes a python function which manipulates tf eager\n",
      "    tensors instead of numpy arrays. It's easy to convert a tf eager tensor to\n",
      "    an ndarray (just call tensor.numpy()) but having access to eager tensors\n",
      "    means `tf.py_function`s can use accelerators such as GPUs as well as\n",
      "    being differentiable using a gradient tape.\n",
      "    - tf.numpy_function maintains the semantics of the deprecated tf.py_func\n",
      "    (it is not differentiable, and manipulates numpy arrays). It drops the\n",
      "    stateful argument making all functions stateful.\n",
      "    \n",
      "Model: \"model_1\"\n",
      "__________________________________________________________________________________________________\n",
      "Layer (type)                    Output Shape         Param #     Connected to                     \n",
      "==================================================================================================\n",
      "input_1 (InputLayer)            (None, 224, 224, 3)  0                                            \n",
      "__________________________________________________________________________________________________\n",
      "input_2 (InputLayer)            (None, 224, 224, 3)  0                                            \n",
      "__________________________________________________________________________________________________\n",
      "vggface_resnet50 (Model)        multiple             23561152    input_1[0][0]                    \n",
      "                                                                 input_2[0][0]                    \n",
      "__________________________________________________________________________________________________\n",
      "add_17 (Add)                    (None, 1, 1, 2048)   0           vggface_resnet50[1][0]           \n",
      "                                                                 vggface_resnet50[2][0]           \n",
      "__________________________________________________________________________________________________\n",
      "subtract_1 (Subtract)           (None, 1, 1, 2048)   0           vggface_resnet50[1][0]           \n",
      "                                                                 vggface_resnet50[2][0]           \n",
      "__________________________________________________________________________________________________\n",
      "conv2d_1 (Conv2D)               (None, 1, 1, 100)    204900      add_17[0][0]                     \n",
      "__________________________________________________________________________________________________\n",
      "conv2d_2 (Conv2D)               (None, 1, 1, 100)    204900      subtract_1[0][0]                 \n",
      "__________________________________________________________________________________________________\n",
      "concatenate_1 (Concatenate)     (None, 1, 1, 200)    0           conv2d_1[0][0]                   \n",
      "                                                                 conv2d_2[0][0]                   \n",
      "__________________________________________________________________________________________________\n",
      "flatten_1 (Flatten)             (None, 200)          0           concatenate_1[0][0]              \n",
      "__________________________________________________________________________________________________\n",
      "dense_1 (Dense)                 (None, 100)          20100       flatten_1[0][0]                  \n",
      "__________________________________________________________________________________________________\n",
      "dropout_1 (Dropout)             (None, 100)          0           dense_1[0][0]                    \n",
      "__________________________________________________________________________________________________\n",
      "dense_2 (Dense)                 (None, 25)           2525        dropout_1[0][0]                  \n",
      "__________________________________________________________________________________________________\n",
      "dropout_2 (Dropout)             (None, 25)           0           dense_2[0][0]                    \n",
      "__________________________________________________________________________________________________\n",
      "dense_3 (Dense)                 (None, 1)            26          dropout_2[0][0]                  \n",
      "==================================================================================================\n",
      "Total params: 23,993,603\n",
      "Trainable params: 23,940,483\n",
      "Non-trainable params: 53,120\n",
      "__________________________________________________________________________________________________\n"
     ]
    }
   ],
   "source": [
    "curr_model = vgg_model_2()"
   ]
  },
  {
   "cell_type": "code",
   "execution_count": 0,
   "metadata": {
    "colab": {},
    "colab_type": "code",
    "id": "XUx_ndTd3KA-"
   },
   "outputs": [],
   "source": [
    "gen_train = gen(train, train_person_to_images_map, batch_size=8)\n",
    "gen_val = gen(val, val_person_to_images_map, batch_size=8)\n",
    "# gen_train, gen_val are the generators"
   ]
  },
  {
   "cell_type": "code",
   "execution_count": 0,
   "metadata": {
    "colab": {
     "base_uri": "https://localhost:8080/",
     "height": 1000
    },
    "colab_type": "code",
    "executionInfo": {
     "elapsed": 3605,
     "status": "ok",
     "timestamp": 1574069654625,
     "user": {
      "displayName": "KAUSHIK M",
      "photoUrl": "https://lh3.googleusercontent.com/a-/AAuE7mARF6ftOpLEosQJbeoM5cRa9cneFv8lcUDieQnoJA=s64",
      "userId": "12157452214257167832"
     },
     "user_tz": -330
    },
    "id": "UbfhLpyz3J6A",
    "outputId": "d5afaa00-4d02-4557-d697-468c46e772b0"
   },
   "outputs": [
    {
     "name": "stdout",
     "output_type": "stream",
     "text": [
      "Epoch 1/130\n",
      "200/200 [==============================] - 110s 552ms/step - loss: 1.3320 - acc: 0.5384 - auc: 0.5607 - val_loss: 0.7921 - val_acc: 0.6131 - val_auc: 0.6564\n",
      "\n",
      "Epoch 00001: val_acc improved from -inf to 0.61313, saving model to vgg_face.h5\n",
      "Epoch 2/130\n",
      "200/200 [==============================] - 71s 357ms/step - loss: 0.8657 - acc: 0.5609 - auc: 0.5965 - val_loss: 0.6920 - val_acc: 0.6019 - val_auc: 0.6317\n",
      "\n",
      "Epoch 00002: val_acc did not improve from 0.61313\n",
      "Epoch 3/130\n",
      "200/200 [==============================] - 72s 358ms/step - loss: 0.7352 - acc: 0.5806 - auc: 0.6188 - val_loss: 0.6471 - val_acc: 0.6269 - val_auc: 0.6650\n",
      "\n",
      "Epoch 00003: val_acc improved from 0.61313 to 0.62687, saving model to vgg_face.h5\n",
      "Epoch 4/130\n",
      "200/200 [==============================] - 71s 355ms/step - loss: 0.6995 - acc: 0.5994 - auc: 0.6411 - val_loss: 0.6397 - val_acc: 0.6225 - val_auc: 0.6544\n",
      "\n",
      "Epoch 00004: val_acc did not improve from 0.62687\n",
      "Epoch 5/130\n",
      "200/200 [==============================] - 71s 353ms/step - loss: 0.6557 - acc: 0.6200 - auc: 0.6647 - val_loss: 0.6309 - val_acc: 0.6394 - val_auc: 0.6898\n",
      "\n",
      "Epoch 00005: val_acc improved from 0.62687 to 0.63938, saving model to vgg_face.h5\n",
      "Epoch 6/130\n",
      "200/200 [==============================] - 71s 356ms/step - loss: 0.6597 - acc: 0.6156 - auc: 0.6583 - val_loss: 0.6129 - val_acc: 0.6544 - val_auc: 0.7059\n",
      "\n",
      "Epoch 00006: val_acc improved from 0.63938 to 0.65438, saving model to vgg_face.h5\n",
      "Epoch 7/130\n",
      "200/200 [==============================] - 71s 357ms/step - loss: 0.6320 - acc: 0.6294 - auc: 0.6895 - val_loss: 0.6261 - val_acc: 0.6456 - val_auc: 0.7003\n",
      "\n",
      "Epoch 00007: val_acc did not improve from 0.65438\n",
      "Epoch 8/130\n",
      "200/200 [==============================] - 71s 355ms/step - loss: 0.6226 - acc: 0.6566 - auc: 0.7048 - val_loss: 0.6122 - val_acc: 0.6556 - val_auc: 0.7063\n",
      "\n",
      "Epoch 00008: val_acc improved from 0.65438 to 0.65563, saving model to vgg_face.h5\n",
      "Epoch 9/130\n",
      "200/200 [==============================] - 70s 351ms/step - loss: 0.6197 - acc: 0.6466 - auc: 0.7035 - val_loss: 0.6152 - val_acc: 0.6544 - val_auc: 0.6945\n",
      "\n",
      "Epoch 00009: val_acc did not improve from 0.65563\n",
      "Epoch 10/130\n",
      "200/200 [==============================] - 71s 354ms/step - loss: 0.6048 - acc: 0.6619 - auc: 0.7161 - val_loss: 0.5972 - val_acc: 0.6756 - val_auc: 0.7330\n",
      "\n",
      "Epoch 00010: val_acc improved from 0.65563 to 0.67563, saving model to vgg_face.h5\n",
      "Epoch 11/130\n",
      "200/200 [==============================] - 71s 354ms/step - loss: 0.6022 - acc: 0.6675 - auc: 0.7145 - val_loss: 0.6116 - val_acc: 0.6631 - val_auc: 0.7127\n",
      "\n",
      "Epoch 00011: val_acc did not improve from 0.67563\n",
      "Epoch 12/130\n",
      "200/200 [==============================] - 71s 354ms/step - loss: 0.5944 - acc: 0.6719 - auc: 0.7334 - val_loss: 0.5808 - val_acc: 0.6875 - val_auc: 0.7478\n",
      "\n",
      "Epoch 00012: val_acc improved from 0.67563 to 0.68750, saving model to vgg_face.h5\n",
      "Epoch 13/130\n",
      "200/200 [==============================] - 70s 352ms/step - loss: 0.6013 - acc: 0.6647 - auc: 0.7195 - val_loss: 0.5784 - val_acc: 0.6825 - val_auc: 0.7766\n",
      "\n",
      "Epoch 00013: val_acc did not improve from 0.68750\n",
      "Epoch 14/130\n",
      "200/200 [==============================] - 71s 353ms/step - loss: 0.5856 - acc: 0.6719 - auc: 0.7416 - val_loss: 0.5875 - val_acc: 0.6725 - val_auc: 0.7405\n",
      "\n",
      "Epoch 00014: val_acc did not improve from 0.68750\n",
      "Epoch 15/130\n",
      "200/200 [==============================] - 71s 356ms/step - loss: 0.5660 - acc: 0.6984 - auc: 0.7586 - val_loss: 0.5584 - val_acc: 0.7031 - val_auc: 0.7662\n",
      "\n",
      "Epoch 00015: val_acc improved from 0.68750 to 0.70312, saving model to vgg_face.h5\n",
      "Epoch 16/130\n",
      "200/200 [==============================] - 71s 354ms/step - loss: 0.5715 - acc: 0.6937 - auc: 0.7582 - val_loss: 0.5520 - val_acc: 0.7125 - val_auc: 0.7797\n",
      "\n",
      "Epoch 00016: val_acc improved from 0.70312 to 0.71250, saving model to vgg_face.h5\n",
      "Epoch 17/130\n",
      "200/200 [==============================] - 71s 354ms/step - loss: 0.5571 - acc: 0.7041 - auc: 0.7709 - val_loss: 0.5318 - val_acc: 0.7356 - val_auc: 0.7989\n",
      "\n",
      "Epoch 00017: val_acc improved from 0.71250 to 0.73562, saving model to vgg_face.h5\n",
      "Epoch 18/130\n",
      "200/200 [==============================] - 71s 353ms/step - loss: 0.5302 - acc: 0.7234 - auc: 0.7913 - val_loss: 0.5365 - val_acc: 0.7219 - val_auc: 0.8052\n",
      "\n",
      "Epoch 00018: val_acc did not improve from 0.73562\n",
      "Epoch 19/130\n",
      "200/200 [==============================] - 71s 357ms/step - loss: 0.5434 - acc: 0.7131 - auc: 0.7837 - val_loss: 0.5482 - val_acc: 0.7106 - val_auc: 0.8037\n",
      "\n",
      "Epoch 00019: val_acc did not improve from 0.73562\n",
      "Epoch 20/130\n",
      "200/200 [==============================] - 72s 359ms/step - loss: 0.5252 - acc: 0.7291 - auc: 0.8039 - val_loss: 0.5251 - val_acc: 0.7250 - val_auc: 0.8059\n",
      "\n",
      "Epoch 00020: val_acc did not improve from 0.73562\n",
      "Epoch 21/130\n",
      "200/200 [==============================] - 71s 353ms/step - loss: 0.5306 - acc: 0.7231 - auc: 0.7968 - val_loss: 0.5663 - val_acc: 0.6987 - val_auc: 0.7702\n",
      "\n",
      "Epoch 00021: val_acc did not improve from 0.73562\n",
      "Epoch 22/130\n",
      "200/200 [==============================] - 71s 355ms/step - loss: 0.5226 - acc: 0.7438 - auc: 0.8016 - val_loss: 0.5455 - val_acc: 0.7081 - val_auc: 0.7917\n",
      "\n",
      "Epoch 00022: val_acc did not improve from 0.73562\n",
      "Epoch 23/130\n",
      "200/200 [==============================] - 71s 355ms/step - loss: 0.5389 - acc: 0.7219 - auc: 0.7947 - val_loss: 0.5236 - val_acc: 0.7125 - val_auc: 0.8072\n",
      "\n",
      "Epoch 00023: val_acc did not improve from 0.73562\n",
      "Epoch 24/130\n",
      "200/200 [==============================] - 72s 359ms/step - loss: 0.5295 - acc: 0.7409 - auc: 0.8005 - val_loss: 0.5287 - val_acc: 0.7400 - val_auc: 0.8137\n",
      "\n",
      "Epoch 00024: val_acc improved from 0.73562 to 0.74000, saving model to vgg_face.h5\n",
      "Epoch 25/130\n",
      "200/200 [==============================] - 72s 358ms/step - loss: 0.5136 - acc: 0.7403 - auc: 0.8075 - val_loss: 0.5298 - val_acc: 0.7344 - val_auc: 0.8027\n",
      "\n",
      "Epoch 00025: val_acc did not improve from 0.74000\n",
      "Epoch 26/130\n",
      "200/200 [==============================] - 71s 356ms/step - loss: 0.5023 - acc: 0.7512 - auc: 0.8184 - val_loss: 0.5436 - val_acc: 0.7362 - val_auc: 0.7989\n",
      "\n",
      "Epoch 00026: val_acc did not improve from 0.74000\n",
      "Epoch 27/130\n",
      "200/200 [==============================] - 71s 356ms/step - loss: 0.4886 - acc: 0.7534 - auc: 0.8349 - val_loss: 0.5588 - val_acc: 0.7131 - val_auc: 0.7855\n",
      "\n",
      "Epoch 00027: val_acc did not improve from 0.74000\n",
      "Epoch 28/130\n",
      "200/200 [==============================] - 72s 358ms/step - loss: 0.5096 - acc: 0.7406 - auc: 0.8184 - val_loss: 0.5069 - val_acc: 0.7581 - val_auc: 0.8241\n",
      "\n",
      "Epoch 00028: val_acc improved from 0.74000 to 0.75813, saving model to vgg_face.h5\n",
      "Epoch 29/130\n",
      "200/200 [==============================] - 71s 357ms/step - loss: 0.5087 - acc: 0.7453 - auc: 0.8185 - val_loss: 0.5366 - val_acc: 0.7250 - val_auc: 0.7903\n",
      "\n",
      "Epoch 00029: val_acc did not improve from 0.75813\n",
      "Epoch 30/130\n",
      "200/200 [==============================] - 71s 354ms/step - loss: 0.4910 - acc: 0.7625 - auc: 0.8330 - val_loss: 0.4992 - val_acc: 0.7700 - val_auc: 0.8348\n",
      "\n",
      "Epoch 00030: val_acc improved from 0.75813 to 0.77000, saving model to vgg_face.h5\n",
      "Epoch 31/130\n",
      "200/200 [==============================] - 71s 356ms/step - loss: 0.4822 - acc: 0.7650 - auc: 0.8340 - val_loss: 0.5385 - val_acc: 0.7206 - val_auc: 0.8039\n",
      "\n",
      "Epoch 00031: val_acc did not improve from 0.77000\n",
      "Epoch 32/130\n",
      "200/200 [==============================] - 71s 354ms/step - loss: 0.4850 - acc: 0.7600 - auc: 0.8365 - val_loss: 0.5309 - val_acc: 0.7319 - val_auc: 0.8020\n",
      "\n",
      "Epoch 00032: val_acc did not improve from 0.77000\n",
      "Epoch 33/130\n",
      "200/200 [==============================] - 71s 355ms/step - loss: 0.5007 - acc: 0.7475 - auc: 0.8196 - val_loss: 0.5058 - val_acc: 0.7538 - val_auc: 0.8263\n",
      "\n",
      "Epoch 00033: val_acc did not improve from 0.77000\n",
      "Epoch 34/130\n",
      "200/200 [==============================] - 71s 353ms/step - loss: 0.4739 - acc: 0.7797 - auc: 0.8477 - val_loss: 0.4890 - val_acc: 0.7581 - val_auc: 0.8339\n",
      "\n",
      "Epoch 00034: val_acc did not improve from 0.77000\n",
      "Epoch 35/130\n",
      "200/200 [==============================] - 70s 351ms/step - loss: 0.4715 - acc: 0.7703 - auc: 0.8440 - val_loss: 0.5181 - val_acc: 0.7375 - val_auc: 0.8142\n",
      "\n",
      "Epoch 00035: val_acc did not improve from 0.77000\n",
      "Epoch 36/130\n",
      "200/200 [==============================] - 71s 356ms/step - loss: 0.4734 - acc: 0.7697 - auc: 0.8375 - val_loss: 0.5330 - val_acc: 0.7319 - val_auc: 0.8098\n",
      "\n",
      "Epoch 00036: val_acc did not improve from 0.77000\n",
      "Epoch 37/130\n",
      "200/200 [==============================] - 71s 355ms/step - loss: 0.4801 - acc: 0.7700 - auc: 0.8398 - val_loss: 0.4931 - val_acc: 0.7525 - val_auc: 0.8416\n",
      "\n",
      "Epoch 00037: val_acc did not improve from 0.77000\n",
      "Epoch 38/130\n",
      "200/200 [==============================] - 71s 353ms/step - loss: 0.4665 - acc: 0.7775 - auc: 0.8499 - val_loss: 0.4786 - val_acc: 0.7775 - val_auc: 0.8567\n",
      "\n",
      "Epoch 00038: val_acc improved from 0.77000 to 0.77750, saving model to vgg_face.h5\n",
      "Epoch 39/130\n",
      "200/200 [==============================] - 70s 352ms/step - loss: 0.4614 - acc: 0.7738 - auc: 0.8514 - val_loss: 0.4782 - val_acc: 0.7594 - val_auc: 0.8530\n",
      "\n",
      "Epoch 00039: val_acc did not improve from 0.77750\n",
      "Epoch 40/130\n",
      "200/200 [==============================] - 71s 353ms/step - loss: 0.4467 - acc: 0.7962 - auc: 0.8646 - val_loss: 0.4795 - val_acc: 0.7769 - val_auc: 0.8406\n",
      "\n",
      "Epoch 00040: val_acc did not improve from 0.77750\n",
      "Epoch 41/130\n",
      "200/200 [==============================] - 71s 354ms/step - loss: 0.4564 - acc: 0.7775 - auc: 0.8555 - val_loss: 0.4907 - val_acc: 0.7594 - val_auc: 0.8414\n",
      "\n",
      "Epoch 00041: val_acc did not improve from 0.77750\n",
      "Epoch 42/130\n",
      "200/200 [==============================] - 70s 352ms/step - loss: 0.4511 - acc: 0.7734 - auc: 0.8537 - val_loss: 0.5253 - val_acc: 0.7444 - val_auc: 0.8113\n",
      "\n",
      "Epoch 00042: val_acc did not improve from 0.77750\n",
      "Epoch 43/130\n",
      "200/200 [==============================] - 71s 356ms/step - loss: 0.4620 - acc: 0.7772 - auc: 0.8463 - val_loss: 0.5138 - val_acc: 0.7412 - val_auc: 0.8133\n",
      "\n",
      "Epoch 00043: val_acc did not improve from 0.77750\n",
      "Epoch 44/130\n",
      "200/200 [==============================] - 70s 352ms/step - loss: 0.4492 - acc: 0.7841 - auc: 0.8513 - val_loss: 0.4736 - val_acc: 0.7788 - val_auc: 0.8566\n",
      "\n",
      "Epoch 00044: val_acc improved from 0.77750 to 0.77875, saving model to vgg_face.h5\n",
      "Epoch 45/130\n",
      "200/200 [==============================] - 71s 354ms/step - loss: 0.4387 - acc: 0.8003 - auc: 0.8693 - val_loss: 0.5393 - val_acc: 0.7338 - val_auc: 0.8033\n",
      "\n",
      "Epoch 00045: val_acc did not improve from 0.77875\n",
      "Epoch 46/130\n",
      "200/200 [==============================] - 71s 353ms/step - loss: 0.4713 - acc: 0.7791 - auc: 0.8416 - val_loss: 0.5099 - val_acc: 0.7525 - val_auc: 0.8241\n",
      "\n",
      "Epoch 00046: val_acc did not improve from 0.77875\n",
      "Epoch 47/130\n",
      "200/200 [==============================] - 71s 353ms/step - loss: 0.4308 - acc: 0.8038 - auc: 0.8729 - val_loss: 0.4840 - val_acc: 0.7544 - val_auc: 0.8273\n",
      "\n",
      "Epoch 00047: val_acc did not improve from 0.77875\n",
      "Epoch 48/130\n",
      "200/200 [==============================] - 70s 352ms/step - loss: 0.4427 - acc: 0.7937 - auc: 0.8641 - val_loss: 0.4743 - val_acc: 0.7775 - val_auc: 0.8491\n",
      "\n",
      "Epoch 00048: val_acc did not improve from 0.77875\n",
      "Epoch 49/130\n",
      "200/200 [==============================] - 71s 353ms/step - loss: 0.4555 - acc: 0.7891 - auc: 0.8566 - val_loss: 0.5145 - val_acc: 0.7406 - val_auc: 0.8141\n",
      "\n",
      "Epoch 00049: val_acc did not improve from 0.77875\n",
      "Epoch 50/130\n",
      "200/200 [==============================] - 71s 353ms/step - loss: 0.4305 - acc: 0.7988 - auc: 0.8709 - val_loss: 0.4949 - val_acc: 0.7450 - val_auc: 0.8387\n",
      "\n",
      "Epoch 00050: val_acc did not improve from 0.77875\n",
      "Epoch 51/130\n",
      "200/200 [==============================] - 71s 353ms/step - loss: 0.4158 - acc: 0.8056 - auc: 0.8825 - val_loss: 0.5382 - val_acc: 0.7562 - val_auc: 0.8241\n",
      "\n",
      "Epoch 00051: val_acc did not improve from 0.77875\n",
      "Epoch 52/130\n",
      "200/200 [==============================] - 70s 351ms/step - loss: 0.4263 - acc: 0.8006 - auc: 0.8766 - val_loss: 0.5248 - val_acc: 0.7525 - val_auc: 0.8280\n",
      "\n",
      "Epoch 00052: val_acc did not improve from 0.77875\n",
      "Epoch 53/130\n",
      "200/200 [==============================] - 71s 357ms/step - loss: 0.4242 - acc: 0.7975 - auc: 0.8740 - val_loss: 0.4924 - val_acc: 0.7531 - val_auc: 0.8316\n",
      "\n",
      "Epoch 00053: val_acc did not improve from 0.77875\n",
      "Epoch 54/130\n",
      "200/200 [==============================] - 71s 353ms/step - loss: 0.4128 - acc: 0.8100 - auc: 0.8807 - val_loss: 0.5124 - val_acc: 0.7456 - val_auc: 0.8187\n",
      "\n",
      "Epoch 00054: val_acc did not improve from 0.77875\n",
      "Epoch 55/130\n",
      "200/200 [==============================] - 71s 356ms/step - loss: 0.4051 - acc: 0.8119 - auc: 0.8833 - val_loss: 0.4581 - val_acc: 0.7881 - val_auc: 0.8638\n",
      "\n",
      "Epoch 00055: val_acc improved from 0.77875 to 0.78812, saving model to vgg_face.h5\n",
      "Epoch 56/130\n",
      "200/200 [==============================] - 70s 352ms/step - loss: 0.4282 - acc: 0.7969 - auc: 0.8709 - val_loss: 0.4729 - val_acc: 0.7800 - val_auc: 0.8459\n",
      "\n",
      "Epoch 00056: val_acc did not improve from 0.78812\n",
      "Epoch 57/130\n",
      "200/200 [==============================] - 71s 356ms/step - loss: 0.4253 - acc: 0.7994 - auc: 0.8751 - val_loss: 0.4959 - val_acc: 0.7681 - val_auc: 0.8423\n",
      "\n",
      "Epoch 00057: val_acc did not improve from 0.78812\n",
      "Epoch 58/130\n",
      "200/200 [==============================] - 71s 353ms/step - loss: 0.3929 - acc: 0.8228 - auc: 0.8916 - val_loss: 0.5229 - val_acc: 0.7462 - val_auc: 0.8408\n",
      "\n",
      "Epoch 00058: val_acc did not improve from 0.78812\n",
      "Epoch 59/130\n",
      "200/200 [==============================] - 70s 352ms/step - loss: 0.4024 - acc: 0.8181 - auc: 0.8899 - val_loss: 0.5174 - val_acc: 0.7725 - val_auc: 0.8372\n",
      "\n",
      "Epoch 00059: val_acc did not improve from 0.78812\n",
      "Epoch 60/130\n",
      "200/200 [==============================] - 71s 356ms/step - loss: 0.4212 - acc: 0.8156 - auc: 0.8810 - val_loss: 0.4680 - val_acc: 0.7812 - val_auc: 0.8539\n",
      "\n",
      "Epoch 00060: val_acc did not improve from 0.78812\n",
      "Epoch 61/130\n",
      "200/200 [==============================] - 71s 357ms/step - loss: 0.4041 - acc: 0.8153 - auc: 0.8902 - val_loss: 0.4773 - val_acc: 0.7706 - val_auc: 0.8403\n",
      "\n",
      "Epoch 00061: val_acc did not improve from 0.78812\n",
      "Epoch 62/130\n",
      "200/200 [==============================] - 71s 353ms/step - loss: 0.3931 - acc: 0.8137 - auc: 0.8955 - val_loss: 0.4987 - val_acc: 0.7638 - val_auc: 0.8256\n",
      "\n",
      "Epoch 00062: val_acc did not improve from 0.78812\n",
      "Epoch 63/130\n",
      "200/200 [==============================] - 70s 352ms/step - loss: 0.4129 - acc: 0.8113 - auc: 0.8795 - val_loss: 0.5206 - val_acc: 0.7544 - val_auc: 0.8323\n",
      "\n",
      "Epoch 00063: val_acc did not improve from 0.78812\n",
      "Epoch 64/130\n",
      "200/200 [==============================] - 71s 353ms/step - loss: 0.3930 - acc: 0.8197 - auc: 0.8944 - val_loss: 0.5352 - val_acc: 0.7481 - val_auc: 0.8227\n",
      "\n",
      "Epoch 00064: val_acc did not improve from 0.78812\n",
      "Epoch 65/130\n",
      "200/200 [==============================] - 70s 352ms/step - loss: 0.3948 - acc: 0.8262 - auc: 0.8935 - val_loss: 0.4884 - val_acc: 0.7837 - val_auc: 0.8469\n",
      "\n",
      "Epoch 00065: val_acc did not improve from 0.78812\n",
      "Epoch 66/130\n",
      "200/200 [==============================] - 71s 355ms/step - loss: 0.3893 - acc: 0.8328 - auc: 0.8983 - val_loss: 0.4902 - val_acc: 0.7569 - val_auc: 0.8322\n",
      "\n",
      "Epoch 00066: val_acc did not improve from 0.78812\n",
      "Epoch 67/130\n",
      "200/200 [==============================] - 70s 351ms/step - loss: 0.4101 - acc: 0.8175 - auc: 0.8870 - val_loss: 0.5183 - val_acc: 0.7631 - val_auc: 0.8381\n",
      "\n",
      "Epoch 00067: val_acc did not improve from 0.78812\n",
      "Epoch 68/130\n",
      "200/200 [==============================] - 70s 351ms/step - loss: 0.3910 - acc: 0.8297 - auc: 0.8955 - val_loss: 0.4841 - val_acc: 0.7744 - val_auc: 0.8570\n",
      "\n",
      "Epoch 00068: val_acc did not improve from 0.78812\n",
      "Epoch 69/130\n",
      "200/200 [==============================] - 70s 351ms/step - loss: 0.3874 - acc: 0.8163 - auc: 0.8927 - val_loss: 0.4876 - val_acc: 0.7788 - val_auc: 0.8552\n",
      "\n",
      "Epoch 00069: val_acc did not improve from 0.78812\n",
      "Epoch 70/130\n",
      "200/200 [==============================] - 71s 357ms/step - loss: 0.3884 - acc: 0.8225 - auc: 0.8931 - val_loss: 0.4767 - val_acc: 0.7781 - val_auc: 0.8570\n",
      "\n",
      "Epoch 00070: val_acc did not improve from 0.78812\n",
      "Epoch 71/130\n",
      "200/200 [==============================] - 70s 351ms/step - loss: 0.3862 - acc: 0.8322 - auc: 0.8973 - val_loss: 0.5318 - val_acc: 0.7769 - val_auc: 0.8517\n",
      "\n",
      "Epoch 00071: val_acc did not improve from 0.78812\n",
      "Epoch 72/130\n",
      "200/200 [==============================] - 71s 353ms/step - loss: 0.3656 - acc: 0.8409 - auc: 0.9070 - val_loss: 0.5284 - val_acc: 0.7550 - val_auc: 0.8386\n",
      "\n",
      "Epoch 00072: val_acc did not improve from 0.78812\n",
      "Epoch 73/130\n",
      "200/200 [==============================] - 70s 351ms/step - loss: 0.3896 - acc: 0.8334 - auc: 0.8951 - val_loss: 0.4947 - val_acc: 0.7812 - val_auc: 0.8477\n",
      "\n",
      "Epoch 00073: val_acc did not improve from 0.78812\n",
      "Epoch 74/130\n",
      "167/200 [========================>.....] - ETA: 9s - loss: 0.3774 - acc: 0.8357 - auc: 0.8988Epoch 1/130\n",
      "200/200 [==============================] - 110s 552ms/step - loss: 1.3320 - acc: 0.5384 - auc: 0.5607 - val_loss: 0.7921 - val_acc: 0.6131 - val_auc: 0.6564\n",
      "\n",
      "Epoch 00001: val_acc improved from -inf to 0.61313, saving model to vgg_face.h5\n",
      "Epoch 2/130\n",
      "200/200 [==============================] - 71s 357ms/step - loss: 0.8657 - acc: 0.5609 - auc: 0.5965 - val_loss: 0.6920 - val_acc: 0.6019 - val_auc: 0.6317\n",
      "\n",
      "Epoch 00002: val_acc did not improve from 0.61313\n",
      "Epoch 3/130\n",
      "200/200 [==============================] - 72s 358ms/step - loss: 0.7352 - acc: 0.5806 - auc: 0.6188 - val_loss: 0.6471 - val_acc: 0.6269 - val_auc: 0.6650\n",
      "\n",
      "Epoch 00003: val_acc improved from 0.61313 to 0.62687, saving model to vgg_face.h5\n",
      "Epoch 4/130\n",
      "200/200 [==============================] - 71s 355ms/step - loss: 0.6995 - acc: 0.5994 - auc: 0.6411 - val_loss: 0.6397 - val_acc: 0.6225 - val_auc: 0.6544\n",
      "\n",
      "Epoch 00004: val_acc did not improve from 0.62687\n",
      "Epoch 5/130\n",
      "200/200 [==============================] - 71s 353ms/step - loss: 0.6557 - acc: 0.6200 - auc: 0.6647 - val_loss: 0.6309 - val_acc: 0.6394 - val_auc: 0.6898\n",
      "\n",
      "Epoch 00005: val_acc improved from 0.62687 to 0.63938, saving model to vgg_face.h5\n",
      "Epoch 6/130\n",
      "200/200 [==============================] - 71s 356ms/step - loss: 0.6597 - acc: 0.6156 - auc: 0.6583 - val_loss: 0.6129 - val_acc: 0.6544 - val_auc: 0.7059\n",
      "\n",
      "Epoch 00006: val_acc improved from 0.63938 to 0.65438, saving model to vgg_face.h5\n",
      "Epoch 7/130\n",
      "200/200 [==============================] - 71s 357ms/step - loss: 0.6320 - acc: 0.6294 - auc: 0.6895 - val_loss: 0.6261 - val_acc: 0.6456 - val_auc: 0.7003\n",
      "\n",
      "Epoch 00007: val_acc did not improve from 0.65438\n",
      "Epoch 8/130\n",
      "200/200 [==============================] - 71s 355ms/step - loss: 0.6226 - acc: 0.6566 - auc: 0.7048 - val_loss: 0.6122 - val_acc: 0.6556 - val_auc: 0.7063\n",
      "\n",
      "Epoch 00008: val_acc improved from 0.65438 to 0.65563, saving model to vgg_face.h5\n",
      "Epoch 9/130\n",
      "200/200 [==============================] - 70s 351ms/step - loss: 0.6197 - acc: 0.6466 - auc: 0.7035 - val_loss: 0.6152 - val_acc: 0.6544 - val_auc: 0.6945\n",
      "\n",
      "Epoch 00009: val_acc did not improve from 0.65563\n",
      "Epoch 10/130\n",
      "200/200 [==============================] - 71s 354ms/step - loss: 0.6048 - acc: 0.6619 - auc: 0.7161 - val_loss: 0.5972 - val_acc: 0.6756 - val_auc: 0.7330\n",
      "\n",
      "Epoch 00010: val_acc improved from 0.65563 to 0.67563, saving model to vgg_face.h5\n",
      "Epoch 11/130\n",
      "200/200 [==============================] - 71s 354ms/step - loss: 0.6022 - acc: 0.6675 - auc: 0.7145 - val_loss: 0.6116 - val_acc: 0.6631 - val_auc: 0.7127\n",
      "\n",
      "Epoch 00011: val_acc did not improve from 0.67563\n",
      "Epoch 12/130\n",
      "200/200 [==============================] - 71s 354ms/step - loss: 0.5944 - acc: 0.6719 - auc: 0.7334 - val_loss: 0.5808 - val_acc: 0.6875 - val_auc: 0.7478\n",
      "\n",
      "Epoch 00012: val_acc improved from 0.67563 to 0.68750, saving model to vgg_face.h5\n",
      "Epoch 13/130\n",
      "200/200 [==============================] - 70s 352ms/step - loss: 0.6013 - acc: 0.6647 - auc: 0.7195 - val_loss: 0.5784 - val_acc: 0.6825 - val_auc: 0.7766\n",
      "\n",
      "Epoch 00013: val_acc did not improve from 0.68750\n",
      "Epoch 14/130\n",
      "200/200 [==============================] - 71s 353ms/step - loss: 0.5856 - acc: 0.6719 - auc: 0.7416 - val_loss: 0.5875 - val_acc: 0.6725 - val_auc: 0.7405\n",
      "\n",
      "Epoch 00014: val_acc did not improve from 0.68750\n",
      "Epoch 15/130\n",
      "200/200 [==============================] - 71s 356ms/step - loss: 0.5660 - acc: 0.6984 - auc: 0.7586 - val_loss: 0.5584 - val_acc: 0.7031 - val_auc: 0.7662\n",
      "\n",
      "Epoch 00015: val_acc improved from 0.68750 to 0.70312, saving model to vgg_face.h5\n",
      "Epoch 16/130\n",
      "200/200 [==============================] - 71s 354ms/step - loss: 0.5715 - acc: 0.6937 - auc: 0.7582 - val_loss: 0.5520 - val_acc: 0.7125 - val_auc: 0.7797\n",
      "\n",
      "Epoch 00016: val_acc improved from 0.70312 to 0.71250, saving model to vgg_face.h5\n",
      "Epoch 17/130\n",
      "200/200 [==============================] - 71s 354ms/step - loss: 0.5571 - acc: 0.7041 - auc: 0.7709 - val_loss: 0.5318 - val_acc: 0.7356 - val_auc: 0.7989\n",
      "\n",
      "Epoch 00017: val_acc improved from 0.71250 to 0.73562, saving model to vgg_face.h5\n",
      "Epoch 18/130\n",
      "200/200 [==============================] - 71s 353ms/step - loss: 0.5302 - acc: 0.7234 - auc: 0.7913 - val_loss: 0.5365 - val_acc: 0.7219 - val_auc: 0.8052\n",
      "\n",
      "Epoch 00018: val_acc did not improve from 0.73562\n",
      "Epoch 19/130\n",
      "200/200 [==============================] - 71s 357ms/step - loss: 0.5434 - acc: 0.7131 - auc: 0.7837 - val_loss: 0.5482 - val_acc: 0.7106 - val_auc: 0.8037\n",
      "\n",
      "Epoch 00019: val_acc did not improve from 0.73562\n",
      "Epoch 20/130\n",
      "200/200 [==============================] - 72s 359ms/step - loss: 0.5252 - acc: 0.7291 - auc: 0.8039 - val_loss: 0.5251 - val_acc: 0.7250 - val_auc: 0.8059\n",
      "\n",
      "Epoch 00020: val_acc did not improve from 0.73562\n",
      "Epoch 21/130\n",
      "200/200 [==============================] - 71s 353ms/step - loss: 0.5306 - acc: 0.7231 - auc: 0.7968 - val_loss: 0.5663 - val_acc: 0.6987 - val_auc: 0.7702\n",
      "\n",
      "Epoch 00021: val_acc did not improve from 0.73562\n",
      "Epoch 22/130\n",
      "200/200 [==============================] - 71s 355ms/step - loss: 0.5226 - acc: 0.7438 - auc: 0.8016 - val_loss: 0.5455 - val_acc: 0.7081 - val_auc: 0.7917\n",
      "\n",
      "Epoch 00022: val_acc did not improve from 0.73562\n",
      "Epoch 23/130\n",
      "200/200 [==============================] - 71s 355ms/step - loss: 0.5389 - acc: 0.7219 - auc: 0.7947 - val_loss: 0.5236 - val_acc: 0.7125 - val_auc: 0.8072\n",
      "\n",
      "Epoch 00023: val_acc did not improve from 0.73562\n",
      "Epoch 24/130\n",
      "200/200 [==============================] - 72s 359ms/step - loss: 0.5295 - acc: 0.7409 - auc: 0.8005 - val_loss: 0.5287 - val_acc: 0.7400 - val_auc: 0.8137\n",
      "\n",
      "Epoch 00024: val_acc improved from 0.73562 to 0.74000, saving model to vgg_face.h5\n",
      "Epoch 25/130\n",
      "200/200 [==============================] - 72s 358ms/step - loss: 0.5136 - acc: 0.7403 - auc: 0.8075 - val_loss: 0.5298 - val_acc: 0.7344 - val_auc: 0.8027\n",
      "\n",
      "Epoch 00025: val_acc did not improve from 0.74000\n",
      "Epoch 26/130\n",
      "200/200 [==============================] - 71s 356ms/step - loss: 0.5023 - acc: 0.7512 - auc: 0.8184 - val_loss: 0.5436 - val_acc: 0.7362 - val_auc: 0.7989\n",
      "\n",
      "Epoch 00026: val_acc did not improve from 0.74000\n",
      "Epoch 27/130\n",
      "200/200 [==============================] - 71s 356ms/step - loss: 0.4886 - acc: 0.7534 - auc: 0.8349 - val_loss: 0.5588 - val_acc: 0.7131 - val_auc: 0.7855\n",
      "\n",
      "Epoch 00027: val_acc did not improve from 0.74000\n",
      "Epoch 28/130\n",
      "200/200 [==============================] - 72s 358ms/step - loss: 0.5096 - acc: 0.7406 - auc: 0.8184 - val_loss: 0.5069 - val_acc: 0.7581 - val_auc: 0.8241\n",
      "\n",
      "Epoch 00028: val_acc improved from 0.74000 to 0.75813, saving model to vgg_face.h5\n",
      "Epoch 29/130\n",
      "200/200 [==============================] - 71s 357ms/step - loss: 0.5087 - acc: 0.7453 - auc: 0.8185 - val_loss: 0.5366 - val_acc: 0.7250 - val_auc: 0.7903\n",
      "\n",
      "Epoch 00029: val_acc did not improve from 0.75813\n",
      "Epoch 30/130\n",
      "200/200 [==============================] - 71s 354ms/step - loss: 0.4910 - acc: 0.7625 - auc: 0.8330 - val_loss: 0.4992 - val_acc: 0.7700 - val_auc: 0.8348\n",
      "\n",
      "Epoch 00030: val_acc improved from 0.75813 to 0.77000, saving model to vgg_face.h5\n",
      "Epoch 31/130\n",
      "200/200 [==============================] - 71s 356ms/step - loss: 0.4822 - acc: 0.7650 - auc: 0.8340 - val_loss: 0.5385 - val_acc: 0.7206 - val_auc: 0.8039\n",
      "\n",
      "Epoch 00031: val_acc did not improve from 0.77000\n",
      "Epoch 32/130\n",
      "200/200 [==============================] - 71s 354ms/step - loss: 0.4850 - acc: 0.7600 - auc: 0.8365 - val_loss: 0.5309 - val_acc: 0.7319 - val_auc: 0.8020\n",
      "\n",
      "Epoch 00032: val_acc did not improve from 0.77000\n",
      "Epoch 33/130\n",
      "200/200 [==============================] - 71s 355ms/step - loss: 0.5007 - acc: 0.7475 - auc: 0.8196 - val_loss: 0.5058 - val_acc: 0.7538 - val_auc: 0.8263\n",
      "\n",
      "Epoch 00033: val_acc did not improve from 0.77000\n",
      "Epoch 34/130\n",
      "200/200 [==============================] - 71s 353ms/step - loss: 0.4739 - acc: 0.7797 - auc: 0.8477 - val_loss: 0.4890 - val_acc: 0.7581 - val_auc: 0.8339\n",
      "\n",
      "Epoch 00034: val_acc did not improve from 0.77000\n",
      "Epoch 35/130\n",
      "200/200 [==============================] - 70s 351ms/step - loss: 0.4715 - acc: 0.7703 - auc: 0.8440 - val_loss: 0.5181 - val_acc: 0.7375 - val_auc: 0.8142\n",
      "\n",
      "Epoch 00035: val_acc did not improve from 0.77000\n",
      "Epoch 36/130\n",
      "200/200 [==============================] - 71s 356ms/step - loss: 0.4734 - acc: 0.7697 - auc: 0.8375 - val_loss: 0.5330 - val_acc: 0.7319 - val_auc: 0.8098\n",
      "\n",
      "Epoch 00036: val_acc did not improve from 0.77000\n",
      "Epoch 37/130\n",
      "200/200 [==============================] - 71s 355ms/step - loss: 0.4801 - acc: 0.7700 - auc: 0.8398 - val_loss: 0.4931 - val_acc: 0.7525 - val_auc: 0.8416\n",
      "\n",
      "Epoch 00037: val_acc did not improve from 0.77000\n",
      "Epoch 38/130\n",
      "200/200 [==============================] - 71s 353ms/step - loss: 0.4665 - acc: 0.7775 - auc: 0.8499 - val_loss: 0.4786 - val_acc: 0.7775 - val_auc: 0.8567\n",
      "\n",
      "Epoch 00038: val_acc improved from 0.77000 to 0.77750, saving model to vgg_face.h5\n",
      "Epoch 39/130\n",
      "200/200 [==============================] - 70s 352ms/step - loss: 0.4614 - acc: 0.7738 - auc: 0.8514 - val_loss: 0.4782 - val_acc: 0.7594 - val_auc: 0.8530\n",
      "\n",
      "Epoch 00039: val_acc did not improve from 0.77750\n",
      "Epoch 40/130\n",
      "200/200 [==============================] - 71s 353ms/step - loss: 0.4467 - acc: 0.7962 - auc: 0.8646 - val_loss: 0.4795 - val_acc: 0.7769 - val_auc: 0.8406\n",
      "\n",
      "Epoch 00040: val_acc did not improve from 0.77750\n",
      "Epoch 41/130\n",
      "200/200 [==============================] - 71s 354ms/step - loss: 0.4564 - acc: 0.7775 - auc: 0.8555 - val_loss: 0.4907 - val_acc: 0.7594 - val_auc: 0.8414\n",
      "\n",
      "Epoch 00041: val_acc did not improve from 0.77750\n",
      "Epoch 42/130\n",
      "200/200 [==============================] - 70s 352ms/step - loss: 0.4511 - acc: 0.7734 - auc: 0.8537 - val_loss: 0.5253 - val_acc: 0.7444 - val_auc: 0.8113\n",
      "\n",
      "Epoch 00042: val_acc did not improve from 0.77750\n",
      "Epoch 43/130\n",
      "200/200 [==============================] - 71s 356ms/step - loss: 0.4620 - acc: 0.7772 - auc: 0.8463 - val_loss: 0.5138 - val_acc: 0.7412 - val_auc: 0.8133\n",
      "\n",
      "Epoch 00043: val_acc did not improve from 0.77750\n",
      "Epoch 44/130\n",
      "200/200 [==============================] - 70s 352ms/step - loss: 0.4492 - acc: 0.7841 - auc: 0.8513 - val_loss: 0.4736 - val_acc: 0.7788 - val_auc: 0.8566\n",
      "\n",
      "Epoch 00044: val_acc improved from 0.77750 to 0.77875, saving model to vgg_face.h5\n",
      "Epoch 45/130\n",
      "200/200 [==============================] - 71s 354ms/step - loss: 0.4387 - acc: 0.8003 - auc: 0.8693 - val_loss: 0.5393 - val_acc: 0.7338 - val_auc: 0.8033\n",
      "\n",
      "Epoch 00045: val_acc did not improve from 0.77875\n",
      "Epoch 46/130\n",
      "200/200 [==============================] - 71s 353ms/step - loss: 0.4713 - acc: 0.7791 - auc: 0.8416 - val_loss: 0.5099 - val_acc: 0.7525 - val_auc: 0.8241\n",
      "\n",
      "Epoch 00046: val_acc did not improve from 0.77875\n",
      "Epoch 47/130\n",
      "200/200 [==============================] - 71s 353ms/step - loss: 0.4308 - acc: 0.8038 - auc: 0.8729 - val_loss: 0.4840 - val_acc: 0.7544 - val_auc: 0.8273\n",
      "\n",
      "Epoch 00047: val_acc did not improve from 0.77875\n",
      "Epoch 48/130\n",
      "200/200 [==============================] - 70s 352ms/step - loss: 0.4427 - acc: 0.7937 - auc: 0.8641 - val_loss: 0.4743 - val_acc: 0.7775 - val_auc: 0.8491\n",
      "\n",
      "Epoch 00048: val_acc did not improve from 0.77875\n",
      "Epoch 49/130\n",
      "200/200 [==============================] - 71s 353ms/step - loss: 0.4555 - acc: 0.7891 - auc: 0.8566 - val_loss: 0.5145 - val_acc: 0.7406 - val_auc: 0.8141\n",
      "\n",
      "Epoch 00049: val_acc did not improve from 0.77875\n",
      "Epoch 50/130\n",
      "200/200 [==============================] - 71s 353ms/step - loss: 0.4305 - acc: 0.7988 - auc: 0.8709 - val_loss: 0.4949 - val_acc: 0.7450 - val_auc: 0.8387\n",
      "\n",
      "Epoch 00050: val_acc did not improve from 0.77875\n",
      "Epoch 51/130\n",
      "200/200 [==============================] - 71s 353ms/step - loss: 0.4158 - acc: 0.8056 - auc: 0.8825 - val_loss: 0.5382 - val_acc: 0.7562 - val_auc: 0.8241\n",
      "\n",
      "Epoch 00051: val_acc did not improve from 0.77875\n",
      "Epoch 52/130\n",
      "200/200 [==============================] - 70s 351ms/step - loss: 0.4263 - acc: 0.8006 - auc: 0.8766 - val_loss: 0.5248 - val_acc: 0.7525 - val_auc: 0.8280\n",
      "\n",
      "Epoch 00052: val_acc did not improve from 0.77875\n",
      "Epoch 53/130\n",
      "200/200 [==============================] - 71s 357ms/step - loss: 0.4242 - acc: 0.7975 - auc: 0.8740 - val_loss: 0.4924 - val_acc: 0.7531 - val_auc: 0.8316\n",
      "\n",
      "Epoch 00053: val_acc did not improve from 0.77875\n",
      "Epoch 54/130\n",
      "200/200 [==============================] - 71s 353ms/step - loss: 0.4128 - acc: 0.8100 - auc: 0.8807 - val_loss: 0.5124 - val_acc: 0.7456 - val_auc: 0.8187\n",
      "\n",
      "Epoch 00054: val_acc did not improve from 0.77875\n",
      "Epoch 55/130\n",
      "200/200 [==============================] - 71s 356ms/step - loss: 0.4051 - acc: 0.8119 - auc: 0.8833 - val_loss: 0.4581 - val_acc: 0.7881 - val_auc: 0.8638\n",
      "\n",
      "Epoch 00055: val_acc improved from 0.77875 to 0.78812, saving model to vgg_face.h5\n",
      "Epoch 56/130\n",
      "200/200 [==============================] - 70s 352ms/step - loss: 0.4282 - acc: 0.7969 - auc: 0.8709 - val_loss: 0.4729 - val_acc: 0.7800 - val_auc: 0.8459\n",
      "\n",
      "Epoch 00056: val_acc did not improve from 0.78812\n",
      "Epoch 57/130\n",
      "200/200 [==============================] - 71s 356ms/step - loss: 0.4253 - acc: 0.7994 - auc: 0.8751 - val_loss: 0.4959 - val_acc: 0.7681 - val_auc: 0.8423\n",
      "\n",
      "Epoch 00057: val_acc did not improve from 0.78812\n",
      "Epoch 58/130\n",
      "200/200 [==============================] - 71s 353ms/step - loss: 0.3929 - acc: 0.8228 - auc: 0.8916 - val_loss: 0.5229 - val_acc: 0.7462 - val_auc: 0.8408\n",
      "\n",
      "Epoch 00058: val_acc did not improve from 0.78812\n",
      "Epoch 59/130\n",
      "200/200 [==============================] - 70s 352ms/step - loss: 0.4024 - acc: 0.8181 - auc: 0.8899 - val_loss: 0.5174 - val_acc: 0.7725 - val_auc: 0.8372\n",
      "\n",
      "Epoch 00059: val_acc did not improve from 0.78812\n",
      "Epoch 60/130\n",
      "200/200 [==============================] - 71s 356ms/step - loss: 0.4212 - acc: 0.8156 - auc: 0.8810 - val_loss: 0.4680 - val_acc: 0.7812 - val_auc: 0.8539\n",
      "\n",
      "Epoch 00060: val_acc did not improve from 0.78812\n",
      "Epoch 61/130\n",
      "200/200 [==============================] - 71s 357ms/step - loss: 0.4041 - acc: 0.8153 - auc: 0.8902 - val_loss: 0.4773 - val_acc: 0.7706 - val_auc: 0.8403\n",
      "\n",
      "Epoch 00061: val_acc did not improve from 0.78812\n",
      "Epoch 62/130\n",
      "200/200 [==============================] - 71s 353ms/step - loss: 0.3931 - acc: 0.8137 - auc: 0.8955 - val_loss: 0.4987 - val_acc: 0.7638 - val_auc: 0.8256\n",
      "\n",
      "Epoch 00062: val_acc did not improve from 0.78812\n",
      "Epoch 63/130\n",
      "200/200 [==============================] - 70s 352ms/step - loss: 0.4129 - acc: 0.8113 - auc: 0.8795 - val_loss: 0.5206 - val_acc: 0.7544 - val_auc: 0.8323\n",
      "\n",
      "Epoch 00063: val_acc did not improve from 0.78812\n",
      "Epoch 64/130\n",
      "200/200 [==============================] - 71s 353ms/step - loss: 0.3930 - acc: 0.8197 - auc: 0.8944 - val_loss: 0.5352 - val_acc: 0.7481 - val_auc: 0.8227\n",
      "\n",
      "Epoch 00064: val_acc did not improve from 0.78812\n",
      "Epoch 65/130\n",
      "200/200 [==============================] - 70s 352ms/step - loss: 0.3948 - acc: 0.8262 - auc: 0.8935 - val_loss: 0.4884 - val_acc: 0.7837 - val_auc: 0.8469\n",
      "\n",
      "Epoch 00065: val_acc did not improve from 0.78812\n",
      "Epoch 66/130\n",
      "200/200 [==============================] - 71s 355ms/step - loss: 0.3893 - acc: 0.8328 - auc: 0.8983 - val_loss: 0.4902 - val_acc: 0.7569 - val_auc: 0.8322\n",
      "\n",
      "Epoch 00066: val_acc did not improve from 0.78812\n",
      "Epoch 67/130\n",
      "200/200 [==============================] - 70s 351ms/step - loss: 0.4101 - acc: 0.8175 - auc: 0.8870 - val_loss: 0.5183 - val_acc: 0.7631 - val_auc: 0.8381\n",
      "\n",
      "Epoch 00067: val_acc did not improve from 0.78812\n",
      "Epoch 68/130\n",
      "200/200 [==============================] - 70s 351ms/step - loss: 0.3910 - acc: 0.8297 - auc: 0.8955 - val_loss: 0.4841 - val_acc: 0.7744 - val_auc: 0.8570\n",
      "\n",
      "Epoch 00068: val_acc did not improve from 0.78812\n",
      "Epoch 69/130\n",
      "200/200 [==============================] - 70s 351ms/step - loss: 0.3874 - acc: 0.8163 - auc: 0.8927 - val_loss: 0.4876 - val_acc: 0.7788 - val_auc: 0.8552\n",
      "\n",
      "Epoch 00069: val_acc did not improve from 0.78812\n",
      "Epoch 70/130\n",
      "200/200 [==============================] - 71s 357ms/step - loss: 0.3884 - acc: 0.8225 - auc: 0.8931 - val_loss: 0.4767 - val_acc: 0.7781 - val_auc: 0.8570\n",
      "\n",
      "Epoch 00070: val_acc did not improve from 0.78812\n",
      "Epoch 71/130\n",
      "200/200 [==============================] - 70s 351ms/step - loss: 0.3862 - acc: 0.8322 - auc: 0.8973 - val_loss: 0.5318 - val_acc: 0.7769 - val_auc: 0.8517\n",
      "\n",
      "Epoch 00071: val_acc did not improve from 0.78812\n",
      "Epoch 72/130\n",
      "200/200 [==============================] - 71s 353ms/step - loss: 0.3656 - acc: 0.8409 - auc: 0.9070 - val_loss: 0.5284 - val_acc: 0.7550 - val_auc: 0.8386\n",
      "\n",
      "Epoch 00072: val_acc did not improve from 0.78812\n",
      "Epoch 73/130\n",
      "200/200 [==============================] - 70s 351ms/step - loss: 0.3896 - acc: 0.8334 - auc: 0.8951 - val_loss: 0.4947 - val_acc: 0.7812 - val_auc: 0.8477\n",
      "\n",
      "Epoch 00073: val_acc did not improve from 0.78812\n",
      "Epoch 74/130\n",
      "200/200 [==============================] - 70s 351ms/step - loss: 0.3694 - acc: 0.8425 - auc: 0.9044 - val_loss: 0.5430 - val_acc: 0.7675 - val_auc: 0.8445\n",
      "200/200 [==============================] - 70s 351ms/step - loss: 0.3694 - acc: 0.8425 - auc: 0.9044 - val_loss: 0.5430 - val_acc: 0.7675 - val_auc: 0.8445\n",
      "\n",
      "Epoch 00074: val_acc did not improve from 0.78812\n",
      "Epoch 75/130\n",
      "\n",
      "Epoch 00074: val_acc did not improve from 0.78812\n",
      "Epoch 75/130\n",
      "200/200 [==============================] - 70s 350ms/step - loss: 0.3444 - acc: 0.8512 - auc: 0.9179 - val_loss: 0.5285 - val_acc: 0.7650 - val_auc: 0.8345\n",
      "200/200 [==============================] - 70s 350ms/step - loss: 0.3444 - acc: 0.8512 - auc: 0.9179 - val_loss: 0.5285 - val_acc: 0.7650 - val_auc: 0.8345\n",
      "\n",
      "Epoch 00075: val_acc did not improve from 0.78812\n",
      "\n",
      "Epoch 00075: val_acc did not improve from 0.78812\n",
      "\n",
      "Epoch 00075: ReduceLROnPlateau reducing learning rate to 9.999999747378752e-07.\n",
      "Epoch 76/130\n",
      "\n",
      "Epoch 00075: ReduceLROnPlateau reducing learning rate to 9.999999747378752e-07.\n",
      "Epoch 76/130\n",
      "200/200 [==============================] - 71s 353ms/step - loss: 0.3691 - acc: 0.8387 - auc: 0.9070 - val_loss: 0.5571 - val_acc: 0.7625 - val_auc: 0.8342\n",
      "200/200 [==============================] - 71s 353ms/step - loss: 0.3691 - acc: 0.8387 - auc: 0.9070 - val_loss: 0.5571 - val_acc: 0.7625 - val_auc: 0.8342\n",
      "\n",
      "Epoch 00076: val_acc did not improve from 0.78812\n",
      "Epoch 77/130\n",
      "\n",
      "Epoch 00076: val_acc did not improve from 0.78812\n",
      "Epoch 77/130\n",
      "200/200 [==============================] - 70s 350ms/step - loss: 0.3597 - acc: 0.8456 - auc: 0.9102 - val_loss: 0.5271 - val_acc: 0.7812 - val_auc: 0.8520\n",
      "200/200 [==============================] - 70s 350ms/step - loss: 0.3597 - acc: 0.8456 - auc: 0.9102 - val_loss: 0.5271 - val_acc: 0.7812 - val_auc: 0.8520\n",
      "\n",
      "Epoch 00077: val_acc did not improve from 0.78812\n",
      "Epoch 78/130\n",
      "\n",
      "Epoch 00077: val_acc did not improve from 0.78812\n",
      "Epoch 78/130\n",
      "200/200 [==============================] - 70s 352ms/step - loss: 0.3713 - acc: 0.8425 - auc: 0.8979 - val_loss: 0.5332 - val_acc: 0.7769 - val_auc: 0.8520\n",
      "200/200 [==============================] - 70s 352ms/step - loss: 0.3713 - acc: 0.8425 - auc: 0.8979 - val_loss: 0.5332 - val_acc: 0.7769 - val_auc: 0.8520\n",
      "\n",
      "Epoch 00078: val_acc did not improve from 0.78812\n",
      "Epoch 79/130\n",
      "\n",
      "Epoch 00078: val_acc did not improve from 0.78812\n",
      "Epoch 79/130\n",
      "200/200 [==============================] - 71s 355ms/step - loss: 0.3541 - acc: 0.8469 - auc: 0.9134 - val_loss: 0.4731 - val_acc: 0.7869 - val_auc: 0.8656\n",
      "200/200 [==============================] - 71s 355ms/step - loss: 0.3541 - acc: 0.8469 - auc: 0.9134 - val_loss: 0.4731 - val_acc: 0.7869 - val_auc: 0.8656\n",
      "\n",
      "Epoch 00079: val_acc did not improve from 0.78812\n",
      "Epoch 80/130\n",
      "\n",
      "Epoch 00079: val_acc did not improve from 0.78812\n",
      "Epoch 80/130\n",
      "200/200 [==============================] - 70s 352ms/step - loss: 0.3621 - acc: 0.8391 - auc: 0.9069 - val_loss: 0.5513 - val_acc: 0.7669 - val_auc: 0.8277\n",
      "200/200 [==============================] - 70s 352ms/step - loss: 0.3621 - acc: 0.8391 - auc: 0.9069 - val_loss: 0.5513 - val_acc: 0.7669 - val_auc: 0.8277\n",
      "\n",
      "Epoch 00080: val_acc did not improve from 0.78812\n",
      "Epoch 81/130\n",
      "\n",
      "Epoch 00080: val_acc did not improve from 0.78812\n",
      "Epoch 81/130\n",
      "200/200 [==============================] - 72s 358ms/step - loss: 0.3379 - acc: 0.8625 - auc: 0.9196 - val_loss: 0.5014 - val_acc: 0.7800 - val_auc: 0.8448\n",
      "200/200 [==============================] - 72s 358ms/step - loss: 0.3379 - acc: 0.8625 - auc: 0.9196 - val_loss: 0.5014 - val_acc: 0.7800 - val_auc: 0.8448\n",
      "\n",
      "Epoch 00081: val_acc did not improve from 0.78812\n",
      "Epoch 82/130\n",
      "\n",
      "Epoch 00081: val_acc did not improve from 0.78812\n",
      "Epoch 82/130\n",
      "200/200 [==============================] - 72s 358ms/step - loss: 0.3584 - acc: 0.8481 - auc: 0.9098 - val_loss: 0.5344 - val_acc: 0.7775 - val_auc: 0.8528\n",
      "200/200 [==============================] - 72s 358ms/step - loss: 0.3584 - acc: 0.8481 - auc: 0.9098 - val_loss: 0.5344 - val_acc: 0.7775 - val_auc: 0.8528\n",
      "\n",
      "Epoch 00082: val_acc did not improve from 0.78812\n",
      "Epoch 83/130\n",
      "\n",
      "Epoch 00082: val_acc did not improve from 0.78812\n",
      "Epoch 83/130\n",
      "200/200 [==============================] - 71s 355ms/step - loss: 0.3373 - acc: 0.8538 - auc: 0.9190 - val_loss: 0.5312 - val_acc: 0.7662 - val_auc: 0.8413\n",
      "200/200 [==============================] - 71s 355ms/step - loss: 0.3373 - acc: 0.8538 - auc: 0.9190 - val_loss: 0.5312 - val_acc: 0.7662 - val_auc: 0.8413\n",
      "\n",
      "Epoch 00083: val_acc did not improve from 0.78812\n",
      "Epoch 84/130\n",
      "\n",
      "Epoch 00083: val_acc did not improve from 0.78812\n",
      "Epoch 84/130\n",
      "200/200 [==============================] - 71s 355ms/step - loss: 0.3490 - acc: 0.8447 - auc: 0.9151 - val_loss: 0.5204 - val_acc: 0.7738 - val_auc: 0.8478\n",
      "200/200 [==============================] - 71s 355ms/step - loss: 0.3490 - acc: 0.8447 - auc: 0.9151 - val_loss: 0.5204 - val_acc: 0.7738 - val_auc: 0.8478\n",
      "\n",
      "Epoch 00084: val_acc did not improve from 0.78812\n",
      "Epoch 85/130\n",
      "\n",
      "Epoch 00084: val_acc did not improve from 0.78812\n",
      "Epoch 85/130\n",
      "200/200 [==============================] - 71s 353ms/step - loss: 0.3395 - acc: 0.8594 - auc: 0.9201 - val_loss: 0.4910 - val_acc: 0.7731 - val_auc: 0.8552\n",
      "200/200 [==============================] - 71s 353ms/step - loss: 0.3395 - acc: 0.8594 - auc: 0.9201 - val_loss: 0.4910 - val_acc: 0.7731 - val_auc: 0.8552\n",
      "\n",
      "Epoch 00085: val_acc did not improve from 0.78812\n",
      "Epoch 86/130\n",
      "\n",
      "Epoch 00085: val_acc did not improve from 0.78812\n",
      "Epoch 86/130\n",
      "200/200 [==============================] - 70s 352ms/step - loss: 0.3162 - acc: 0.8634 - auc: 0.9328 - val_loss: 0.5673 - val_acc: 0.7688 - val_auc: 0.8451\n",
      "200/200 [==============================] - 70s 352ms/step - loss: 0.3162 - acc: 0.8634 - auc: 0.9328 - val_loss: 0.5673 - val_acc: 0.7688 - val_auc: 0.8451\n",
      "\n",
      "Epoch 00086: val_acc did not improve from 0.78812\n",
      "Epoch 87/130\n",
      "\n",
      "Epoch 00086: val_acc did not improve from 0.78812\n",
      "Epoch 87/130\n",
      "200/200 [==============================] - 70s 351ms/step - loss: 0.3479 - acc: 0.8609 - auc: 0.9174 - val_loss: 0.5243 - val_acc: 0.7688 - val_auc: 0.8469\n",
      "200/200 [==============================] - 70s 351ms/step - loss: 0.3479 - acc: 0.8609 - auc: 0.9174 - val_loss: 0.5243 - val_acc: 0.7688 - val_auc: 0.8469\n",
      "\n",
      "Epoch 00087: val_acc did not improve from 0.78812\n",
      "Epoch 88/130\n",
      "\n",
      "Epoch 00087: val_acc did not improve from 0.78812\n",
      "Epoch 88/130\n",
      "200/200 [==============================] - 71s 354ms/step - loss: 0.3223 - acc: 0.8672 - auc: 0.9239 - val_loss: 0.5179 - val_acc: 0.7781 - val_auc: 0.8503\n",
      "200/200 [==============================] - 71s 354ms/step - loss: 0.3223 - acc: 0.8672 - auc: 0.9239 - val_loss: 0.5179 - val_acc: 0.7781 - val_auc: 0.8503\n",
      "\n",
      "Epoch 00088: val_acc did not improve from 0.78812\n",
      "Epoch 89/130\n",
      "\n",
      "Epoch 00088: val_acc did not improve from 0.78812\n",
      "Epoch 89/130\n",
      "200/200 [==============================] - 71s 355ms/step - loss: 0.3557 - acc: 0.8434 - auc: 0.9107 - val_loss: 0.5040 - val_acc: 0.7781 - val_auc: 0.8530\n",
      "200/200 [==============================] - 71s 355ms/step - loss: 0.3557 - acc: 0.8434 - auc: 0.9107 - val_loss: 0.5040 - val_acc: 0.7781 - val_auc: 0.8530\n",
      "\n",
      "Epoch 00089: val_acc did not improve from 0.78812\n",
      "Epoch 90/130\n",
      "\n",
      "Epoch 00089: val_acc did not improve from 0.78812\n",
      "Epoch 90/130\n",
      "200/200 [==============================] - 71s 353ms/step - loss: 0.3229 - acc: 0.8675 - auc: 0.9245 - val_loss: 0.4840 - val_acc: 0.7781 - val_auc: 0.8564\n",
      "200/200 [==============================] - 71s 353ms/step - loss: 0.3229 - acc: 0.8675 - auc: 0.9245 - val_loss: 0.4840 - val_acc: 0.7781 - val_auc: 0.8564\n",
      "\n",
      "Epoch 00090: val_acc did not improve from 0.78812\n",
      "Epoch 91/130\n",
      "\n",
      "Epoch 00090: val_acc did not improve from 0.78812\n",
      "Epoch 91/130\n",
      "200/200 [==============================] - 70s 352ms/step - loss: 0.3176 - acc: 0.8669 - auc: 0.9277 - val_loss: 0.5014 - val_acc: 0.7981 - val_auc: 0.8733\n",
      "200/200 [==============================] - 70s 352ms/step - loss: 0.3176 - acc: 0.8669 - auc: 0.9277 - val_loss: 0.5014 - val_acc: 0.7981 - val_auc: 0.8733\n",
      "\n",
      "Epoch 00091: val_acc improved from 0.78812 to 0.79812, saving model to vgg_face.h5\n",
      "\n",
      "Epoch 00091: val_acc improved from 0.78812 to 0.79812, saving model to vgg_face.h5\n",
      "Epoch 92/130\n",
      "Epoch 92/130\n",
      "200/200 [==============================] - 71s 354ms/step - loss: 0.3341 - acc: 0.8619 - auc: 0.9188 - val_loss: 0.4899 - val_acc: 0.7819 - val_auc: 0.8611\n",
      "200/200 [==============================] - 71s 354ms/step - loss: 0.3341 - acc: 0.8619 - auc: 0.9188 - val_loss: 0.4899 - val_acc: 0.7819 - val_auc: 0.8611\n",
      "\n",
      "Epoch 00092: val_acc did not improve from 0.79812\n",
      "Epoch 93/130\n",
      "\n",
      "Epoch 00092: val_acc did not improve from 0.79812\n",
      "Epoch 93/130\n",
      "200/200 [==============================] - 71s 354ms/step - loss: 0.3212 - acc: 0.8659 - auc: 0.9260 - val_loss: 0.5205 - val_acc: 0.7781 - val_auc: 0.8522\n",
      "200/200 [==============================] - 71s 354ms/step - loss: 0.3212 - acc: 0.8659 - auc: 0.9260 - val_loss: 0.5205 - val_acc: 0.7781 - val_auc: 0.8522\n",
      "\n",
      "Epoch 00093: val_acc did not improve from 0.79812\n",
      "Epoch 94/130\n",
      "\n",
      "Epoch 00093: val_acc did not improve from 0.79812\n",
      "Epoch 94/130\n",
      "200/200 [==============================] - 71s 355ms/step - loss: 0.3324 - acc: 0.8631 - auc: 0.9237 - val_loss: 0.5698 - val_acc: 0.7706 - val_auc: 0.8469\n",
      "200/200 [==============================] - 71s 355ms/step - loss: 0.3324 - acc: 0.8631 - auc: 0.9237 - val_loss: 0.5698 - val_acc: 0.7706 - val_auc: 0.8469\n",
      "\n",
      "Epoch 00094: val_acc did not improve from 0.79812\n",
      "Epoch 95/130\n",
      "\n",
      "Epoch 00094: val_acc did not improve from 0.79812\n",
      "Epoch 95/130\n",
      "200/200 [==============================] - 71s 356ms/step - loss: 0.3379 - acc: 0.8600 - auc: 0.9183 - val_loss: 0.5071 - val_acc: 0.7819 - val_auc: 0.8544\n",
      "200/200 [==============================] - 71s 356ms/step - loss: 0.3379 - acc: 0.8600 - auc: 0.9183 - val_loss: 0.5071 - val_acc: 0.7819 - val_auc: 0.8544\n",
      "\n",
      "Epoch 00095: val_acc did not improve from 0.79812\n",
      "Epoch 96/130\n",
      "\n",
      "Epoch 00095: val_acc did not improve from 0.79812\n",
      "Epoch 96/130\n",
      "200/200 [==============================] - 71s 355ms/step - loss: 0.3190 - acc: 0.8688 - auc: 0.9266 - val_loss: 0.5093 - val_acc: 0.7712 - val_auc: 0.8486\n",
      "200/200 [==============================] - 71s 355ms/step - loss: 0.3190 - acc: 0.8688 - auc: 0.9266 - val_loss: 0.5093 - val_acc: 0.7712 - val_auc: 0.8486\n",
      "\n",
      "Epoch 00096: val_acc did not improve from 0.79812\n",
      "Epoch 97/130\n",
      "\n",
      "Epoch 00096: val_acc did not improve from 0.79812\n",
      "Epoch 97/130\n",
      "200/200 [==============================] - 71s 356ms/step - loss: 0.3173 - acc: 0.8722 - auc: 0.9303 - val_loss: 0.5544 - val_acc: 0.7794 - val_auc: 0.8495\n",
      "200/200 [==============================] - 71s 356ms/step - loss: 0.3173 - acc: 0.8722 - auc: 0.9303 - val_loss: 0.5544 - val_acc: 0.7794 - val_auc: 0.8495\n",
      "\n",
      "Epoch 00097: val_acc did not improve from 0.79812\n",
      "Epoch 98/130\n",
      "\n",
      "Epoch 00097: val_acc did not improve from 0.79812\n",
      "Epoch 98/130\n",
      "200/200 [==============================] - 71s 355ms/step - loss: 0.3190 - acc: 0.8625 - auc: 0.9252 - val_loss: 0.5324 - val_acc: 0.7700 - val_auc: 0.8534\n",
      "200/200 [==============================] - 71s 355ms/step - loss: 0.3190 - acc: 0.8625 - auc: 0.9252 - val_loss: 0.5324 - val_acc: 0.7700 - val_auc: 0.8534\n",
      "\n",
      "Epoch 00098: val_acc did not improve from 0.79812\n",
      "Epoch 99/130\n",
      "\n",
      "Epoch 00098: val_acc did not improve from 0.79812\n",
      "Epoch 99/130\n",
      "200/200 [==============================] - 71s 355ms/step - loss: 0.3147 - acc: 0.8669 - auc: 0.9321 - val_loss: 0.5087 - val_acc: 0.7656 - val_auc: 0.8439\n",
      "200/200 [==============================] - 71s 355ms/step - loss: 0.3147 - acc: 0.8669 - auc: 0.9321 - val_loss: 0.5087 - val_acc: 0.7656 - val_auc: 0.8439\n",
      "\n",
      "Epoch 00099: val_acc did not improve from 0.79812\n",
      "Epoch 100/130\n",
      "\n",
      "Epoch 00099: val_acc did not improve from 0.79812\n",
      "Epoch 100/130\n",
      "200/200 [==============================] - 73s 366ms/step - loss: 0.3264 - acc: 0.8691 - auc: 0.9282 - val_loss: 0.5962 - val_acc: 0.7769 - val_auc: 0.8475\n",
      "200/200 [==============================] - 73s 366ms/step - loss: 0.3264 - acc: 0.8691 - auc: 0.9282 - val_loss: 0.5962 - val_acc: 0.7769 - val_auc: 0.8475\n",
      "\n",
      "Epoch 00100: val_acc did not improve from 0.79812\n",
      "Epoch 101/130\n",
      "\n",
      "Epoch 00100: val_acc did not improve from 0.79812\n",
      "Epoch 101/130\n",
      "200/200 [==============================] - 71s 356ms/step - loss: 0.3372 - acc: 0.8572 - auc: 0.9177 - val_loss: 0.5191 - val_acc: 0.7575 - val_auc: 0.8378\n",
      "200/200 [==============================] - 71s 356ms/step - loss: 0.3372 - acc: 0.8572 - auc: 0.9177 - val_loss: 0.5191 - val_acc: 0.7575 - val_auc: 0.8378\n",
      "\n",
      "Epoch 00101: val_acc did not improve from 0.79812\n",
      "Epoch 102/130\n",
      "\n",
      "Epoch 00101: val_acc did not improve from 0.79812\n",
      "Epoch 102/130\n",
      "200/200 [==============================] - 71s 356ms/step - loss: 0.3190 - acc: 0.8641 - auc: 0.9282 - val_loss: 0.5102 - val_acc: 0.7887 - val_auc: 0.8592\n",
      "200/200 [==============================] - 71s 356ms/step - loss: 0.3190 - acc: 0.8641 - auc: 0.9282 - val_loss: 0.5102 - val_acc: 0.7887 - val_auc: 0.8592\n",
      "\n",
      "Epoch 00102: val_acc did not improve from 0.79812\n",
      "Epoch 103/130\n",
      "\n",
      "Epoch 00102: val_acc did not improve from 0.79812\n",
      "Epoch 103/130\n",
      "200/200 [==============================] - 71s 356ms/step - loss: 0.3268 - acc: 0.8691 - auc: 0.9255 - val_loss: 0.5342 - val_acc: 0.7837 - val_auc: 0.8494\n",
      "200/200 [==============================] - 71s 356ms/step - loss: 0.3268 - acc: 0.8691 - auc: 0.9255 - val_loss: 0.5342 - val_acc: 0.7837 - val_auc: 0.8494\n",
      "\n",
      "Epoch 00103: val_acc did not improve from 0.79812\n",
      "Epoch 104/130\n",
      "\n",
      "Epoch 00103: val_acc did not improve from 0.79812\n",
      "Epoch 104/130\n",
      "200/200 [==============================] - 71s 357ms/step - loss: 0.3134 - acc: 0.8684 - auc: 0.9295 - val_loss: 0.5123 - val_acc: 0.7788 - val_auc: 0.8597\n",
      "200/200 [==============================] - 71s 357ms/step - loss: 0.3134 - acc: 0.8684 - auc: 0.9295 - val_loss: 0.5123 - val_acc: 0.7788 - val_auc: 0.8597\n",
      "\n",
      "Epoch 00104: val_acc did not improve from 0.79812\n",
      "Epoch 105/130\n",
      "\n",
      "Epoch 00104: val_acc did not improve from 0.79812\n",
      "Epoch 105/130\n",
      "200/200 [==============================] - 71s 354ms/step - loss: 0.3208 - acc: 0.8678 - auc: 0.9245 - val_loss: 0.5563 - val_acc: 0.7719 - val_auc: 0.8609\n",
      "200/200 [==============================] - 71s 354ms/step - loss: 0.3208 - acc: 0.8678 - auc: 0.9245 - val_loss: 0.5563 - val_acc: 0.7719 - val_auc: 0.8609\n",
      "\n",
      "Epoch 00105: val_acc did not improve from 0.79812\n",
      "Epoch 106/130\n",
      "\n",
      "Epoch 00105: val_acc did not improve from 0.79812\n",
      "Epoch 106/130\n",
      "200/200 [==============================] - 71s 353ms/step - loss: 0.3172 - acc: 0.8678 - auc: 0.9280 - val_loss: 0.4889 - val_acc: 0.7963 - val_auc: 0.8717\n",
      "200/200 [==============================] - 71s 353ms/step - loss: 0.3172 - acc: 0.8678 - auc: 0.9280 - val_loss: 0.4889 - val_acc: 0.7963 - val_auc: 0.8717\n",
      "\n",
      "Epoch 00106: val_acc did not improve from 0.79812\n",
      "Epoch 107/130\n",
      "\n",
      "Epoch 00106: val_acc did not improve from 0.79812\n",
      "Epoch 107/130\n",
      "200/200 [==============================] - 71s 354ms/step - loss: 0.3072 - acc: 0.8694 - auc: 0.9348 - val_loss: 0.5380 - val_acc: 0.7562 - val_auc: 0.8458\n",
      "200/200 [==============================] - 71s 354ms/step - loss: 0.3072 - acc: 0.8694 - auc: 0.9348 - val_loss: 0.5380 - val_acc: 0.7562 - val_auc: 0.8458\n",
      "\n",
      "Epoch 00107: val_acc did not improve from 0.79812\n",
      "Epoch 108/130\n",
      "\n",
      "Epoch 00107: val_acc did not improve from 0.79812\n",
      "Epoch 108/130\n",
      "200/200 [==============================] - 71s 354ms/step - loss: 0.3178 - acc: 0.8741 - auc: 0.9259 - val_loss: 0.5125 - val_acc: 0.7925 - val_auc: 0.8628\n",
      "200/200 [==============================] - 71s 354ms/step - loss: 0.3178 - acc: 0.8741 - auc: 0.9259 - val_loss: 0.5125 - val_acc: 0.7925 - val_auc: 0.8628\n",
      "\n",
      "Epoch 00108: val_acc did not improve from 0.79812\n",
      "Epoch 109/130\n",
      "\n",
      "Epoch 00108: val_acc did not improve from 0.79812\n",
      "Epoch 109/130\n",
      "200/200 [==============================] - 70s 352ms/step - loss: 0.3170 - acc: 0.8697 - auc: 0.9217 - val_loss: 0.5331 - val_acc: 0.7731 - val_auc: 0.8538\n",
      "200/200 [==============================] - 70s 352ms/step - loss: 0.3170 - acc: 0.8697 - auc: 0.9217 - val_loss: 0.5331 - val_acc: 0.7731 - val_auc: 0.8538\n",
      "\n",
      "Epoch 00109: val_acc did not improve from 0.79812\n",
      "Epoch 110/130\n",
      "\n",
      "Epoch 00109: val_acc did not improve from 0.79812\n",
      "Epoch 110/130\n",
      "200/200 [==============================] - 72s 358ms/step - loss: 0.3080 - acc: 0.8728 - auc: 0.9338 - val_loss: 0.5371 - val_acc: 0.7625 - val_auc: 0.8517\n",
      "200/200 [==============================] - 72s 358ms/step - loss: 0.3080 - acc: 0.8728 - auc: 0.9338 - val_loss: 0.5371 - val_acc: 0.7625 - val_auc: 0.8517\n",
      "\n",
      "Epoch 00110: val_acc did not improve from 0.79812\n",
      "Epoch 111/130\n",
      "\n",
      "Epoch 00110: val_acc did not improve from 0.79812\n",
      "Epoch 111/130\n",
      "200/200 [==============================] - 71s 356ms/step - loss: 0.3198 - acc: 0.8625 - auc: 0.9274 - val_loss: 0.4643 - val_acc: 0.7837 - val_auc: 0.8606\n",
      "200/200 [==============================] - 71s 356ms/step - loss: 0.3198 - acc: 0.8625 - auc: 0.9274 - val_loss: 0.4643 - val_acc: 0.7837 - val_auc: 0.8606\n",
      "\n",
      "Epoch 00111: val_acc did not improve from 0.79812\n",
      "\n",
      "Epoch 00111: ReduceLROnPlateau reducing learning rate to 9.999999974752428e-08.\n",
      "Epoch 112/130\n",
      "\n",
      "Epoch 00111: val_acc did not improve from 0.79812\n",
      "\n",
      "Epoch 00111: ReduceLROnPlateau reducing learning rate to 9.999999974752428e-08.\n",
      "Epoch 112/130\n",
      "200/200 [==============================] - 71s 356ms/step - loss: 0.3052 - acc: 0.8766 - auc: 0.9323 - val_loss: 0.5787 - val_acc: 0.7550 - val_auc: 0.8398\n",
      "200/200 [==============================] - 71s 356ms/step - loss: 0.3052 - acc: 0.8766 - auc: 0.9323 - val_loss: 0.5787 - val_acc: 0.7550 - val_auc: 0.8398\n",
      "\n",
      "Epoch 00112: val_acc did not improve from 0.79812\n",
      "Epoch 113/130\n",
      "\n",
      "Epoch 00112: val_acc did not improve from 0.79812\n",
      "Epoch 113/130\n",
      "200/200 [==============================] - 71s 353ms/step - loss: 0.3309 - acc: 0.8656 - auc: 0.9181 - val_loss: 0.5738 - val_acc: 0.7719 - val_auc: 0.8506\n",
      "200/200 [==============================] - 71s 353ms/step - loss: 0.3309 - acc: 0.8656 - auc: 0.9181 - val_loss: 0.5738 - val_acc: 0.7719 - val_auc: 0.8506\n",
      "\n",
      "Epoch 00113: val_acc did not improve from 0.79812\n",
      "Epoch 114/130\n",
      "\n",
      "Epoch 00113: val_acc did not improve from 0.79812\n",
      "Epoch 114/130\n",
      "200/200 [==============================] - 70s 352ms/step - loss: 0.3245 - acc: 0.8688 - auc: 0.9249 - val_loss: 0.5413 - val_acc: 0.7581 - val_auc: 0.8445\n",
      "200/200 [==============================] - 70s 352ms/step - loss: 0.3245 - acc: 0.8688 - auc: 0.9249 - val_loss: 0.5413 - val_acc: 0.7581 - val_auc: 0.8445\n",
      "\n",
      "Epoch 00114: val_acc did not improve from 0.79812\n",
      "Epoch 115/130\n",
      "\n",
      "Epoch 00114: val_acc did not improve from 0.79812\n",
      "Epoch 115/130\n",
      "200/200 [==============================] - 70s 352ms/step - loss: 0.3251 - acc: 0.8641 - auc: 0.9255 - val_loss: 0.5762 - val_acc: 0.7775 - val_auc: 0.8569\n",
      "200/200 [==============================] - 70s 352ms/step - loss: 0.3251 - acc: 0.8641 - auc: 0.9255 - val_loss: 0.5762 - val_acc: 0.7775 - val_auc: 0.8569\n",
      "\n",
      "Epoch 00115: val_acc did not improve from 0.79812\n",
      "Epoch 116/130\n",
      "\n",
      "Epoch 00115: val_acc did not improve from 0.79812\n",
      "Epoch 116/130\n",
      "200/200 [==============================] - 72s 358ms/step - loss: 0.3185 - acc: 0.8691 - auc: 0.9303 - val_loss: 0.5462 - val_acc: 0.7600 - val_auc: 0.8420\n",
      "200/200 [==============================] - 72s 358ms/step - loss: 0.3185 - acc: 0.8691 - auc: 0.9303 - val_loss: 0.5462 - val_acc: 0.7600 - val_auc: 0.8420\n",
      "\n",
      "Epoch 00116: val_acc did not improve from 0.79812\n",
      "Epoch 117/130\n",
      "\n",
      "Epoch 00116: val_acc did not improve from 0.79812\n",
      "Epoch 117/130\n",
      "200/200 [==============================] - 71s 353ms/step - loss: 0.3134 - acc: 0.8663 - auc: 0.9329 - val_loss: 0.5529 - val_acc: 0.7781 - val_auc: 0.8553\n",
      "200/200 [==============================] - 71s 353ms/step - loss: 0.3134 - acc: 0.8663 - auc: 0.9329 - val_loss: 0.5529 - val_acc: 0.7781 - val_auc: 0.8553\n",
      "\n",
      "Epoch 00117: val_acc did not improve from 0.79812\n",
      "Epoch 118/130\n",
      "\n",
      "Epoch 00117: val_acc did not improve from 0.79812\n",
      "Epoch 118/130\n",
      "200/200 [==============================] - 71s 353ms/step - loss: 0.3016 - acc: 0.8694 - auc: 0.9338 - val_loss: 0.4980 - val_acc: 0.7775 - val_auc: 0.8639\n",
      "200/200 [==============================] - 71s 353ms/step - loss: 0.3016 - acc: 0.8694 - auc: 0.9338 - val_loss: 0.4980 - val_acc: 0.7775 - val_auc: 0.8639\n",
      "\n",
      "Epoch 00118: val_acc did not improve from 0.79812\n",
      "Epoch 119/130\n",
      "\n",
      "Epoch 00118: val_acc did not improve from 0.79812\n",
      "Epoch 119/130\n",
      "200/200 [==============================] - 71s 353ms/step - loss: 0.2925 - acc: 0.8741 - auc: 0.9402 - val_loss: 0.5607 - val_acc: 0.7731 - val_auc: 0.8611\n",
      "200/200 [==============================] - 71s 353ms/step - loss: 0.2925 - acc: 0.8741 - auc: 0.9402 - val_loss: 0.5607 - val_acc: 0.7731 - val_auc: 0.8611\n",
      "\n",
      "Epoch 00119: val_acc did not improve from 0.79812\n",
      "Epoch 120/130\n",
      "\n",
      "Epoch 00119: val_acc did not improve from 0.79812\n",
      "Epoch 120/130\n",
      "200/200 [==============================] - 70s 352ms/step - loss: 0.3273 - acc: 0.8641 - auc: 0.9252 - val_loss: 0.4790 - val_acc: 0.7794 - val_auc: 0.8628\n",
      "200/200 [==============================] - 70s 352ms/step - loss: 0.3273 - acc: 0.8641 - auc: 0.9252 - val_loss: 0.4790 - val_acc: 0.7794 - val_auc: 0.8628\n",
      "\n",
      "Epoch 00120: val_acc did not improve from 0.79812\n",
      "Epoch 121/130\n",
      "\n",
      "Epoch 00120: val_acc did not improve from 0.79812\n",
      "Epoch 121/130\n",
      "200/200 [==============================] - 71s 356ms/step - loss: 0.3134 - acc: 0.8753 - auc: 0.9254 - val_loss: 0.5800 - val_acc: 0.7575 - val_auc: 0.8391\n",
      "200/200 [==============================] - 71s 356ms/step - loss: 0.3134 - acc: 0.8753 - auc: 0.9254 - val_loss: 0.5800 - val_acc: 0.7575 - val_auc: 0.8391\n",
      "\n",
      "Epoch 00121: val_acc did not improve from 0.79812\n",
      "Epoch 122/130\n",
      "\n",
      "Epoch 00121: val_acc did not improve from 0.79812\n",
      "Epoch 122/130\n",
      "200/200 [==============================] - 72s 359ms/step - loss: 0.2892 - acc: 0.8844 - auc: 0.9416 - val_loss: 0.5204 - val_acc: 0.7806 - val_auc: 0.8561\n",
      "200/200 [==============================] - 72s 359ms/step - loss: 0.2892 - acc: 0.8844 - auc: 0.9416 - val_loss: 0.5204 - val_acc: 0.7806 - val_auc: 0.8561\n",
      "\n",
      "Epoch 00122: val_acc did not improve from 0.79812\n",
      "Epoch 123/130\n",
      "\n",
      "Epoch 00122: val_acc did not improve from 0.79812\n",
      "Epoch 123/130\n",
      "200/200 [==============================] - 70s 352ms/step - loss: 0.3082 - acc: 0.8712 - auc: 0.9348 - val_loss: 0.5915 - val_acc: 0.7644 - val_auc: 0.8398\n",
      "200/200 [==============================] - 70s 352ms/step - loss: 0.3082 - acc: 0.8712 - auc: 0.9348 - val_loss: 0.5915 - val_acc: 0.7644 - val_auc: 0.8398\n",
      "\n",
      "Epoch 00123: val_acc did not improve from 0.79812\n",
      "Epoch 124/130\n",
      "\n",
      "Epoch 00123: val_acc did not improve from 0.79812\n",
      "Epoch 124/130\n",
      "200/200 [==============================] - 71s 353ms/step - loss: 0.3011 - acc: 0.8744 - auc: 0.9394 - val_loss: 0.5404 - val_acc: 0.7519 - val_auc: 0.8291\n",
      "200/200 [==============================] - 71s 353ms/step - loss: 0.3011 - acc: 0.8744 - auc: 0.9394 - val_loss: 0.5404 - val_acc: 0.7519 - val_auc: 0.8291\n",
      "\n",
      "Epoch 00124: val_acc did not improve from 0.79812\n",
      "Epoch 125/130\n",
      "\n",
      "Epoch 00124: val_acc did not improve from 0.79812\n",
      "Epoch 125/130\n",
      "200/200 [==============================] - 71s 356ms/step - loss: 0.3060 - acc: 0.8694 - auc: 0.9320 - val_loss: 0.5426 - val_acc: 0.7681 - val_auc: 0.8520\n",
      "200/200 [==============================] - 71s 356ms/step - loss: 0.3060 - acc: 0.8694 - auc: 0.9320 - val_loss: 0.5426 - val_acc: 0.7681 - val_auc: 0.8520\n",
      "\n",
      "Epoch 00125: val_acc did not improve from 0.79812\n",
      "Epoch 126/130\n",
      "\n",
      "Epoch 00125: val_acc did not improve from 0.79812\n",
      "Epoch 126/130\n",
      "200/200 [==============================] - 70s 350ms/step - loss: 0.3287 - acc: 0.8600 - auc: 0.9235 - val_loss: 0.6010 - val_acc: 0.7506 - val_auc: 0.8308\n",
      "200/200 [==============================] - 70s 350ms/step - loss: 0.3287 - acc: 0.8600 - auc: 0.9235 - val_loss: 0.6010 - val_acc: 0.7506 - val_auc: 0.8308\n",
      "\n",
      "Epoch 00126: val_acc did not improve from 0.79812\n",
      "Epoch 127/130\n",
      "\n",
      "Epoch 00126: val_acc did not improve from 0.79812\n",
      "Epoch 127/130\n",
      "200/200 [==============================] - 71s 354ms/step - loss: 0.3038 - acc: 0.8803 - auc: 0.9309 - val_loss: 0.5416 - val_acc: 0.7750 - val_auc: 0.8550\n",
      "200/200 [==============================] - 71s 354ms/step - loss: 0.3038 - acc: 0.8803 - auc: 0.9309 - val_loss: 0.5416 - val_acc: 0.7750 - val_auc: 0.8550\n",
      "\n",
      "Epoch 00127: val_acc did not improve from 0.79812\n",
      "Epoch 128/130\n",
      "\n",
      "Epoch 00127: val_acc did not improve from 0.79812\n",
      "Epoch 128/130\n",
      "200/200 [==============================] - 73s 363ms/step - loss: 0.3163 - acc: 0.8694 - auc: 0.9284 - val_loss: 0.5137 - val_acc: 0.7644 - val_auc: 0.8553\n",
      "200/200 [==============================] - 73s 363ms/step - loss: 0.3163 - acc: 0.8694 - auc: 0.9284 - val_loss: 0.5137 - val_acc: 0.7644 - val_auc: 0.8553\n",
      "\n",
      "Epoch 00128: val_acc did not improve from 0.79812\n",
      "Epoch 129/130\n",
      "\n",
      "Epoch 00128: val_acc did not improve from 0.79812\n",
      "Epoch 129/130\n",
      "200/200 [==============================] - 81s 404ms/step - loss: 0.3213 - acc: 0.8609 - auc: 0.9256 - val_loss: 0.6122 - val_acc: 0.7606 - val_auc: 0.8422\n",
      "200/200 [==============================] - 81s 404ms/step - loss: 0.3213 - acc: 0.8609 - auc: 0.9256 - val_loss: 0.6122 - val_acc: 0.7606 - val_auc: 0.8422\n",
      "\n",
      "Epoch 00129: val_acc did not improve from 0.79812\n",
      "Epoch 130/130\n",
      "\n",
      "Epoch 00129: val_acc did not improve from 0.79812\n",
      "Epoch 130/130\n",
      "200/200 [==============================] - 72s 361ms/step - loss: 0.3069 - acc: 0.8753 - auc: 0.9359 - val_loss: 0.5539 - val_acc: 0.7863 - val_auc: 0.8543\n",
      "200/200 [==============================] - 72s 361ms/step - loss: 0.3069 - acc: 0.8753 - auc: 0.9359 - val_loss: 0.5539 - val_acc: 0.7863 - val_auc: 0.8543\n",
      "\n",
      "Epoch 00130: val_acc did not improve from 0.79812\n",
      "\n",
      "Epoch 00130: val_acc did not improve from 0.79812\n"
     ]
    }
   ],
   "source": [
    "\n",
    "gc.collect()\n",
    "\n",
    "curr_model_hist=curr_model.fit_generator(gen_train, use_multiprocessing=True,\n",
    "                    validation_data=gen_val, epochs=130, verbose=1,\n",
    "                    workers = 4, callbacks=callbacks_list, steps_per_epoch=200, validation_steps=100)\n"
   ]
  },
  {
   "cell_type": "code",
   "execution_count": 0,
   "metadata": {
    "colab": {},
    "colab_type": "code",
    "id": "Arz6GAYt3gEG"
   },
   "outputs": [],
   "source": [
    "# https://www.journaldev.com/15638/python-pickle-example\n",
    "\n",
    "# open a file, where you ant to store the data\n",
    "file = open('model-2', 'wb')\n",
    "# dump information to that file\n",
    "pickle.dump(curr_model_hist.history, file)\n",
    "# close the file\n",
    "file.close()\n",
    "shutil.copy('model-2','drive/My Drive/AAIC/north-east-smile/')"
   ]
  },
  {
   "cell_type": "code",
   "execution_count": 0,
   "metadata": {
    "colab": {},
    "colab_type": "code",
    "id": "WsrBYXDD9TfO"
   },
   "outputs": [],
   "source": [
    "temp={}\n",
    "# open a file, where you stored the pickled data\n",
    "file = open('drive/My Drive/AAIC/north-east-smile/model-2', 'rb')\n",
    "\n",
    "# dump information to that file\n",
    "temp = pickle.load(file)\n",
    "# file = open('drive/My Drive/AAIC/north-east-smile/model-2.model', 'rb')\n",
    "# close the file\n",
    "file.close()"
   ]
  },
  {
   "cell_type": "code",
   "execution_count": 0,
   "metadata": {
    "colab": {
     "base_uri": "https://localhost:8080/",
     "height": 851
    },
    "colab_type": "code",
    "executionInfo": {
     "elapsed": 1888,
     "status": "ok",
     "timestamp": 1574072650845,
     "user": {
      "displayName": "KAUSHIK M",
      "photoUrl": "https://lh3.googleusercontent.com/a-/AAuE7mARF6ftOpLEosQJbeoM5cRa9cneFv8lcUDieQnoJA=s64",
      "userId": "12157452214257167832"
     },
     "user_tz": -330
    },
    "id": "j1xc3z4z3ya_",
    "outputId": "44a99559-b4f2-4e63-9940-88a185e7ac33"
   },
   "outputs": [
    {
     "data": {
      "image/png": "[encoded data removed]",
      "text/plain": [
       "<Figure size 432x288 with 1 Axes>"
      ]
     },
     "metadata": {
      "tags": []
     },
     "output_type": "display_data"
    },
    {
     "data": {
      "image/png": "[encoded data removed]",
      "text/plain": [
       "<Figure size 432x288 with 1 Axes>"
      ]
     },
     "metadata": {
      "tags": []
     },
     "output_type": "display_data"
    },
    {
     "data": {
      "image/png": "[encoded data removed]",
      "text/plain": [
       "<Figure size 432x288 with 1 Axes>"
      ]
     },
     "metadata": {
      "tags": []
     },
     "output_type": "display_data"
    }
   ],
   "source": [
    "plot_accuracy(True)\n",
    "plot_loss(True)\n",
    "plot_auc(True)\n",
    "# sol_submit(curr_model_hist.model)"
   ]
  },
  {
   "cell_type": "code",
   "execution_count": 0,
   "metadata": {
    "colab": {
     "base_uri": "https://localhost:8080/",
     "height": 84
    },
    "colab_type": "code",
    "executionInfo": {
     "elapsed": 826,
     "status": "ok",
     "timestamp": 1574072778131,
     "user": {
      "displayName": "KAUSHIK M",
      "photoUrl": "https://lh3.googleusercontent.com/a-/AAuE7mARF6ftOpLEosQJbeoM5cRa9cneFv8lcUDieQnoJA=s64",
      "userId": "12157452214257167832"
     },
     "user_tz": -330
    },
    "id": "d0Y4UI51DFw0",
    "outputId": "48623c7c-d1e8-4259-d29e-5e193dd59fe7"
   },
   "outputs": [
    {
     "name": "stdout",
     "output_type": "stream",
     "text": [
      "166it [43:39, 15.26s/it]\n",
      "Warning: Looks like you're using an outdated API Version, please consider updating (server 1.5.6 / client 1.5.4)\n",
      "100% 247k/247k [00:01<00:00, 185kB/s]\n",
      "Successfully submitted to Northeastern SMILE Lab - Recognizing Faces in the Wild\n"
     ]
    }
   ],
   "source": [
    "sol_submit(curr_model_hist.model)"
   ]
  },
  {
   "cell_type": "markdown",
   "metadata": {
    "colab_type": "text",
    "id": "SKT1Aiy1Ffr6"
   },
   "source": [
    "<H1> 3. Model 3 Training"
   ]
  },
  {
   "cell_type": "code",
   "execution_count": 0,
   "metadata": {
    "colab": {
     "base_uri": "https://localhost:8080/",
     "height": 806
    },
    "colab_type": "code",
    "executionInfo": {
     "elapsed": 37568,
     "status": "ok",
     "timestamp": 1574075163234,
     "user": {
      "displayName": "KAUSHIK M",
      "photoUrl": "https://lh3.googleusercontent.com/a-/AAuE7mARF6ftOpLEosQJbeoM5cRa9cneFv8lcUDieQnoJA=s64",
      "userId": "12157452214257167832"
     },
     "user_tz": -330
    },
    "id": "wfmB4l3ZFjrs",
    "outputId": "4bdaa90f-61c8-43a5-f075-b87ba4026bbe"
   },
   "outputs": [
    {
     "name": "stdout",
     "output_type": "stream",
     "text": [
      "Model: \"model_2\"\n",
      "__________________________________________________________________________________________________\n",
      "Layer (type)                    Output Shape         Param #     Connected to                     \n",
      "==================================================================================================\n",
      "input_4 (InputLayer)            (None, 224, 224, 3)  0                                            \n",
      "__________________________________________________________________________________________________\n",
      "input_5 (InputLayer)            (None, 224, 224, 3)  0                                            \n",
      "__________________________________________________________________________________________________\n",
      "vggface_resnet50 (Model)        multiple             23561152    input_4[0][0]                    \n",
      "                                                                 input_5[0][0]                    \n",
      "__________________________________________________________________________________________________\n",
      "global_max_pooling2d_1 (GlobalM (None, 2048)         0           vggface_resnet50[1][0]           \n",
      "__________________________________________________________________________________________________\n",
      "global_average_pooling2d_1 (Glo (None, 2048)         0           vggface_resnet50[1][0]           \n",
      "__________________________________________________________________________________________________\n",
      "global_max_pooling2d_2 (GlobalM (None, 2048)         0           vggface_resnet50[2][0]           \n",
      "__________________________________________________________________________________________________\n",
      "global_average_pooling2d_2 (Glo (None, 2048)         0           vggface_resnet50[2][0]           \n",
      "__________________________________________________________________________________________________\n",
      "concatenate_2 (Concatenate)     (None, 4096)         0           global_max_pooling2d_1[0][0]     \n",
      "                                                                 global_average_pooling2d_1[0][0] \n",
      "__________________________________________________________________________________________________\n",
      "concatenate_3 (Concatenate)     (None, 4096)         0           global_max_pooling2d_2[0][0]     \n",
      "                                                                 global_average_pooling2d_2[0][0] \n",
      "__________________________________________________________________________________________________\n",
      "subtract_2 (Subtract)           (None, 4096)         0           concatenate_2[0][0]              \n",
      "                                                                 concatenate_3[0][0]              \n",
      "__________________________________________________________________________________________________\n",
      "multiply_2 (Multiply)           (None, 4096)         0           concatenate_2[0][0]              \n",
      "                                                                 concatenate_3[0][0]              \n",
      "__________________________________________________________________________________________________\n",
      "multiply_1 (Multiply)           (None, 4096)         0           subtract_2[0][0]                 \n",
      "                                                                 subtract_2[0][0]                 \n",
      "__________________________________________________________________________________________________\n",
      "concatenate_4 (Concatenate)     (None, 8192)         0           multiply_2[0][0]                 \n",
      "                                                                 multiply_1[0][0]                 \n",
      "__________________________________________________________________________________________________\n",
      "dense_4 (Dense)                 (None, 100)          819300      concatenate_4[0][0]              \n",
      "__________________________________________________________________________________________________\n",
      "dropout_3 (Dropout)             (None, 100)          0           dense_4[0][0]                    \n",
      "__________________________________________________________________________________________________\n",
      "dense_5 (Dense)                 (None, 1)            101         dropout_3[0][0]                  \n",
      "==================================================================================================\n",
      "Total params: 24,380,553\n",
      "Trainable params: 24,327,433\n",
      "Non-trainable params: 53,120\n",
      "__________________________________________________________________________________________________\n"
     ]
    }
   ],
   "source": [
    "curr_model = vgg_model_3()"
   ]
  },
  {
   "cell_type": "code",
   "execution_count": 0,
   "metadata": {
    "colab": {
     "base_uri": "https://localhost:8080/",
     "height": 1000
    },
    "colab_type": "code",
    "executionInfo": {
     "elapsed": 1496,
     "status": "ok",
     "timestamp": 1574128211387,
     "user": {
      "displayName": "KAUSHIK M",
      "photoUrl": "https://lh3.googleusercontent.com/a-/AAuE7mARF6ftOpLEosQJbeoM5cRa9cneFv8lcUDieQnoJA=s64",
      "userId": "12157452214257167832"
     },
     "user_tz": -330
    },
    "id": "idMbVAulKJLJ",
    "outputId": "5e979251-d78a-4c40-98cd-6fd668023a6f"
   },
   "outputs": [
    {
     "name": "stdout",
     "output_type": "stream",
     "text": [
      "Epoch 1/100\n",
      "200/200 [==============================] - 222s 1s/step - loss: 1.7666 - acc: 0.6178 - auc: 0.6614 - val_loss: 1.9295 - val_acc: 0.5781 - val_auc: 0.6205\n",
      "\n",
      "Epoch 00001: val_acc improved from -inf to 0.57812, saving model to vgg_face.h5\n",
      "Epoch 2/100\n",
      "200/200 [==============================] - 218s 1s/step - loss: 0.9592 - acc: 0.6413 - auc: 0.7081 - val_loss: 1.1416 - val_acc: 0.6125 - val_auc: 0.6606\n",
      "\n",
      "Epoch 00002: val_acc improved from 0.57812 to 0.61250, saving model to vgg_face.h5\n",
      "Epoch 3/100\n",
      "200/200 [==============================] - 217s 1s/step - loss: 0.7061 - acc: 0.6769 - auc: 0.7462 - val_loss: 0.9431 - val_acc: 0.6238 - val_auc: 0.7091\n",
      "\n",
      "Epoch 00003: val_acc improved from 0.61250 to 0.62375, saving model to vgg_face.h5\n",
      "Epoch 4/100\n",
      "200/200 [==============================] - 217s 1s/step - loss: 0.6072 - acc: 0.6994 - auc: 0.7754 - val_loss: 0.7891 - val_acc: 0.6494 - val_auc: 0.7134\n",
      "\n",
      "Epoch 00004: val_acc improved from 0.62375 to 0.64938, saving model to vgg_face.h5\n",
      "Epoch 5/100\n",
      "200/200 [==============================] - 217s 1s/step - loss: 0.5503 - acc: 0.7300 - auc: 0.8082 - val_loss: 0.6499 - val_acc: 0.6787 - val_auc: 0.7648\n",
      "\n",
      "Epoch 00005: val_acc improved from 0.64938 to 0.67875, saving model to vgg_face.h5\n",
      "Epoch 6/100\n",
      "200/200 [==============================] - 217s 1s/step - loss: 0.5457 - acc: 0.7225 - auc: 0.8049 - val_loss: 0.6434 - val_acc: 0.6919 - val_auc: 0.7647\n",
      "\n",
      "Epoch 00006: val_acc improved from 0.67875 to 0.69188, saving model to vgg_face.h5\n",
      "Epoch 7/100\n",
      "200/200 [==============================] - 217s 1s/step - loss: 0.5091 - acc: 0.7434 - auc: 0.8271 - val_loss: 0.6437 - val_acc: 0.6975 - val_auc: 0.7708\n",
      "\n",
      "Epoch 00007: val_acc improved from 0.69188 to 0.69750, saving model to vgg_face.h5\n",
      "Epoch 8/100\n",
      "200/200 [==============================] - 217s 1s/step - loss: 0.4961 - acc: 0.7553 - auc: 0.8343 - val_loss: 0.6010 - val_acc: 0.7037 - val_auc: 0.7987\n",
      "\n",
      "Epoch 00008: val_acc improved from 0.69750 to 0.70375, saving model to vgg_face.h5\n",
      "Epoch 9/100\n",
      "200/200 [==============================] - 218s 1s/step - loss: 0.4908 - acc: 0.7691 - auc: 0.8460 - val_loss: 0.5808 - val_acc: 0.7000 - val_auc: 0.8003\n",
      "\n",
      "Epoch 00009: val_acc did not improve from 0.70375\n",
      "Epoch 10/100\n",
      "200/200 [==============================] - 217s 1s/step - loss: 0.4800 - acc: 0.7550 - auc: 0.8495 - val_loss: 0.5784 - val_acc: 0.7219 - val_auc: 0.8152\n",
      "\n",
      "Epoch 00010: val_acc improved from 0.70375 to 0.72188, saving model to vgg_face.h5\n",
      "Epoch 11/100\n",
      "200/200 [==============================] - 218s 1s/step - loss: 0.4647 - acc: 0.7716 - auc: 0.8563 - val_loss: 0.6223 - val_acc: 0.6944 - val_auc: 0.7913\n",
      "\n",
      "Epoch 00011: val_acc did not improve from 0.72188\n",
      "Epoch 12/100\n",
      "200/200 [==============================] - 217s 1s/step - loss: 0.4550 - acc: 0.7738 - auc: 0.8664 - val_loss: 0.6193 - val_acc: 0.6969 - val_auc: 0.8195\n",
      "\n",
      "Epoch 00012: val_acc did not improve from 0.72188\n",
      "Epoch 13/100\n",
      "200/200 [==============================] - 218s 1s/step - loss: 0.4471 - acc: 0.7872 - auc: 0.8691 - val_loss: 0.6111 - val_acc: 0.7188 - val_auc: 0.8178\n",
      "\n",
      "Epoch 00013: val_acc did not improve from 0.72188\n",
      "Epoch 14/100\n",
      "200/200 [==============================] - 218s 1s/step - loss: 0.4446 - acc: 0.7850 - auc: 0.8753 - val_loss: 0.5870 - val_acc: 0.7294 - val_auc: 0.8217\n",
      "\n",
      "Epoch 00014: val_acc improved from 0.72188 to 0.72937, saving model to vgg_face.h5\n",
      "Epoch 15/100\n",
      "200/200 [==============================] - 218s 1s/step - loss: 0.4135 - acc: 0.8041 - auc: 0.8919 - val_loss: 0.6053 - val_acc: 0.7181 - val_auc: 0.8333\n",
      "\n",
      "Epoch 00015: val_acc did not improve from 0.72937\n",
      "Epoch 16/100\n",
      "200/200 [==============================] - 218s 1s/step - loss: 0.4182 - acc: 0.8003 - auc: 0.8942 - val_loss: 0.5639 - val_acc: 0.7394 - val_auc: 0.8325\n",
      "\n",
      "Epoch 00016: val_acc improved from 0.72937 to 0.73938, saving model to vgg_face.h5\n",
      "Epoch 17/100\n",
      "200/200 [==============================] - 218s 1s/step - loss: 0.4059 - acc: 0.8097 - auc: 0.8974 - val_loss: 0.5617 - val_acc: 0.7331 - val_auc: 0.8139\n",
      "\n",
      "Epoch 00017: val_acc did not improve from 0.73938\n",
      "Epoch 18/100\n",
      "200/200 [==============================] - 218s 1s/step - loss: 0.3858 - acc: 0.8231 - auc: 0.9084 - val_loss: 0.7054 - val_acc: 0.6706 - val_auc: 0.8189\n",
      "\n",
      "Epoch 00018: val_acc did not improve from 0.73938\n",
      "Epoch 19/100\n",
      "200/200 [==============================] - 218s 1s/step - loss: 0.3948 - acc: 0.8163 - auc: 0.9066 - val_loss: 0.5913 - val_acc: 0.7381 - val_auc: 0.8291\n",
      "\n",
      "Epoch 00019: val_acc did not improve from 0.73938\n",
      "Epoch 20/100\n",
      "200/200 [==============================] - 218s 1s/step - loss: 0.3799 - acc: 0.8247 - auc: 0.9123 - val_loss: 0.6696 - val_acc: 0.6875 - val_auc: 0.8228\n",
      "\n",
      "Epoch 00020: val_acc did not improve from 0.73938\n",
      "Epoch 21/100\n",
      "200/200 [==============================] - 218s 1s/step - loss: 0.3723 - acc: 0.8306 - auc: 0.9139 - val_loss: 0.5348 - val_acc: 0.7425 - val_auc: 0.8444\n",
      "\n",
      "Epoch 00021: val_acc improved from 0.73938 to 0.74250, saving model to vgg_face.h5\n",
      "Epoch 22/100\n",
      "200/200 [==============================] - 217s 1s/step - loss: 0.3808 - acc: 0.8256 - auc: 0.9113 - val_loss: 0.5599 - val_acc: 0.7350 - val_auc: 0.8450\n",
      "\n",
      "Epoch 00022: val_acc did not improve from 0.74250\n",
      "Epoch 23/100\n",
      "200/200 [==============================] - 218s 1s/step - loss: 0.3750 - acc: 0.8306 - auc: 0.9148 - val_loss: 0.5986 - val_acc: 0.7306 - val_auc: 0.8205\n",
      "\n",
      "Epoch 00023: val_acc did not improve from 0.74250\n",
      "Epoch 24/100\n",
      "200/200 [==============================] - 218s 1s/step - loss: 0.3613 - acc: 0.8350 - auc: 0.9240 - val_loss: 0.6426 - val_acc: 0.7169 - val_auc: 0.8356\n",
      "\n",
      "Epoch 00024: val_acc did not improve from 0.74250\n",
      "Epoch 25/100\n",
      "200/200 [==============================] - 218s 1s/step - loss: 0.3480 - acc: 0.8431 - auc: 0.9220 - val_loss: 0.6566 - val_acc: 0.7188 - val_auc: 0.8244\n",
      "\n",
      "Epoch 00025: val_acc did not improve from 0.74250\n",
      "Epoch 26/100\n",
      "200/200 [==============================] - 218s 1s/step - loss: 0.3565 - acc: 0.8381 - auc: 0.9225 - val_loss: 0.6206 - val_acc: 0.7144 - val_auc: 0.8145\n",
      "\n",
      "Epoch 00026: val_acc did not improve from 0.74250\n",
      "Epoch 27/100\n",
      "200/200 [==============================] - 218s 1s/step - loss: 0.3418 - acc: 0.8369 - auc: 0.9295 - val_loss: 0.6718 - val_acc: 0.7069 - val_auc: 0.8298\n",
      "\n",
      "Epoch 00027: val_acc did not improve from 0.74250\n",
      "Epoch 28/100\n",
      "200/200 [==============================] - 218s 1s/step - loss: 0.3194 - acc: 0.8600 - auc: 0.9347 - val_loss: 0.6761 - val_acc: 0.7144 - val_auc: 0.8264\n",
      "\n",
      "Epoch 00028: val_acc did not improve from 0.74250\n",
      "Epoch 29/100\n",
      "200/200 [==============================] - 218s 1s/step - loss: 0.3300 - acc: 0.8525 - auc: 0.9348 - val_loss: 0.7007 - val_acc: 0.6950 - val_auc: 0.8209\n",
      "\n",
      "Epoch 00029: val_acc did not improve from 0.74250\n",
      "Epoch 30/100\n",
      "200/200 [==============================] - 217s 1s/step - loss: 0.3210 - acc: 0.8512 - auc: 0.9369 - val_loss: 0.6210 - val_acc: 0.7244 - val_auc: 0.8303\n",
      "\n",
      "Epoch 00030: val_acc did not improve from 0.74250\n",
      "Epoch 31/100\n",
      "200/200 [==============================] - 217s 1s/step - loss: 0.3113 - acc: 0.8684 - auc: 0.9433 - val_loss: 0.7424 - val_acc: 0.7019 - val_auc: 0.8147\n",
      "\n",
      "Epoch 00031: val_acc did not improve from 0.74250\n",
      "Epoch 32/100\n",
      "200/200 [==============================] - 217s 1s/step - loss: 0.3067 - acc: 0.8650 - auc: 0.9434 - val_loss: 0.6754 - val_acc: 0.7188 - val_auc: 0.8241\n",
      "\n",
      "Epoch 00032: val_acc did not improve from 0.74250\n",
      "Epoch 33/100\n",
      "200/200 [==============================] - 216s 1s/step - loss: 0.3090 - acc: 0.8669 - auc: 0.9417 - val_loss: 0.6922 - val_acc: 0.7275 - val_auc: 0.8439\n",
      "\n",
      "Epoch 00033: val_acc did not improve from 0.74250\n",
      "Epoch 34/100\n",
      "200/200 [==============================] - 216s 1s/step - loss: 0.2955 - acc: 0.8794 - auc: 0.9492 - val_loss: 0.7357 - val_acc: 0.7019 - val_auc: 0.7937\n",
      "\n",
      "Epoch 00034: val_acc did not improve from 0.74250\n",
      "Epoch 35/100\n",
      "200/200 [==============================] - 217s 1s/step - loss: 0.3029 - acc: 0.8697 - auc: 0.9452 - val_loss: 0.7091 - val_acc: 0.6925 - val_auc: 0.8142\n",
      "\n",
      "Epoch 00035: val_acc did not improve from 0.74250\n",
      "Epoch 36/100\n",
      "200/200 [==============================] - 216s 1s/step - loss: 0.2957 - acc: 0.8747 - auc: 0.9481 - val_loss: 0.7885 - val_acc: 0.6844 - val_auc: 0.7895\n",
      "\n",
      "Epoch 00036: val_acc did not improve from 0.74250\n",
      "Epoch 37/100\n",
      "200/200 [==============================] - 217s 1s/step - loss: 0.2800 - acc: 0.8769 - auc: 0.9538 - val_loss: 0.7515 - val_acc: 0.6900 - val_auc: 0.8198\n",
      "\n",
      "Epoch 00037: val_acc did not improve from 0.74250\n",
      "Epoch 38/100\n",
      "200/200 [==============================] - 217s 1s/step - loss: 0.2885 - acc: 0.8784 - auc: 0.9503 - val_loss: 0.7689 - val_acc: 0.6969 - val_auc: 0.8272\n",
      "\n",
      "Epoch 00038: val_acc did not improve from 0.74250\n",
      "Epoch 39/100\n",
      "200/200 [==============================] - 217s 1s/step - loss: 0.2619 - acc: 0.8925 - auc: 0.9575 - val_loss: 0.6832 - val_acc: 0.7000 - val_auc: 0.8061\n",
      "\n",
      "Epoch 00039: val_acc did not improve from 0.74250\n",
      "Epoch 40/100\n",
      "200/200 [==============================] - 217s 1s/step - loss: 0.2939 - acc: 0.8728 - auc: 0.9462 - val_loss: 0.9163 - val_acc: 0.6637 - val_auc: 0.8080\n",
      "\n",
      "Epoch 00040: val_acc did not improve from 0.74250\n",
      "Epoch 41/100\n",
      "200/200 [==============================] - 217s 1s/step - loss: 0.2908 - acc: 0.8709 - auc: 0.9477 - val_loss: 0.6476 - val_acc: 0.7206 - val_auc: 0.8278\n",
      "\n",
      "Epoch 00041: val_acc did not improve from 0.74250\n",
      "\n",
      "Epoch 00041: ReduceLROnPlateau reducing learning rate to 9.999999747378752e-07.\n",
      "Epoch 42/100\n",
      "200/200 [==============================] - 219s 1s/step - loss: 0.2536 - acc: 0.8947 - auc: 0.9592 - val_loss: 0.6945 - val_acc: 0.7025 - val_auc: 0.8267\n",
      "\n",
      "Epoch 00042: val_acc did not improve from 0.74250\n",
      "Epoch 43/100\n",
      "200/200 [==============================] - 216s 1s/step - loss: 0.2455 - acc: 0.9041 - auc: 0.9616 - val_loss: 0.7781 - val_acc: 0.6937 - val_auc: 0.8336\n",
      "\n",
      "Epoch 00043: val_acc did not improve from 0.74250\n",
      "Epoch 44/100\n",
      "200/200 [==============================] - 216s 1s/step - loss: 0.2465 - acc: 0.8956 - auc: 0.9637 - val_loss: 0.7665 - val_acc: 0.7081 - val_auc: 0.8277\n",
      "\n",
      "Epoch 00044: val_acc did not improve from 0.74250\n",
      "Epoch 45/100\n",
      "200/200 [==============================] - 217s 1s/step - loss: 0.2543 - acc: 0.8916 - auc: 0.9586 - val_loss: 0.7384 - val_acc: 0.6837 - val_auc: 0.8314\n",
      "\n",
      "Epoch 00045: val_acc did not improve from 0.74250\n",
      "Epoch 46/100\n",
      "200/200 [==============================] - 217s 1s/step - loss: 0.2433 - acc: 0.9012 - auc: 0.9634 - val_loss: 0.8381 - val_acc: 0.6869 - val_auc: 0.8197\n",
      "\n",
      "Epoch 00046: val_acc did not improve from 0.74250\n",
      "Epoch 47/100\n",
      "200/200 [==============================] - 217s 1s/step - loss: 0.2430 - acc: 0.8950 - auc: 0.9648 - val_loss: 0.7949 - val_acc: 0.6975 - val_auc: 0.8509\n",
      "\n",
      "Epoch 00047: val_acc did not improve from 0.74250\n",
      "Epoch 48/100\n",
      "200/200 [==============================] - 217s 1s/step - loss: 0.2227 - acc: 0.9056 - auc: 0.9716 - val_loss: 0.7874 - val_acc: 0.6969 - val_auc: 0.8228\n",
      "\n",
      "Epoch 00048: val_acc did not improve from 0.74250\n",
      "Epoch 49/100\n",
      "200/200 [==============================] - 217s 1s/step - loss: 0.2239 - acc: 0.9084 - auc: 0.9695 - val_loss: 0.8142 - val_acc: 0.6919 - val_auc: 0.8317\n",
      "\n",
      "Epoch 00049: val_acc did not improve from 0.74250\n",
      "Epoch 50/100\n",
      "200/200 [==============================] - 217s 1s/step - loss: 0.2350 - acc: 0.9059 - auc: 0.9665 - val_loss: 0.8628 - val_acc: 0.6756 - val_auc: 0.8369\n",
      "\n",
      "Epoch 00050: val_acc did not improve from 0.74250\n",
      "Epoch 51/100\n",
      "200/200 [==============================] - 217s 1s/step - loss: 0.2021 - acc: 0.9216 - auc: 0.9764 - val_loss: 0.8269 - val_acc: 0.6937 - val_auc: 0.8297\n",
      "\n",
      "Epoch 00051: val_acc did not improve from 0.74250\n",
      "Epoch 52/100\n",
      "200/200 [==============================] - 216s 1s/step - loss: 0.2071 - acc: 0.9106 - auc: 0.9745 - val_loss: 0.8325 - val_acc: 0.7044 - val_auc: 0.8436\n",
      "\n",
      "Epoch 00052: val_acc did not improve from 0.74250\n",
      "Epoch 53/100\n",
      "200/200 [==============================] - 217s 1s/step - loss: 0.2196 - acc: 0.9122 - auc: 0.9673 - val_loss: 0.9107 - val_acc: 0.6725 - val_auc: 0.8166\n",
      "\n",
      "Epoch 00053: val_acc did not improve from 0.74250\n",
      "Epoch 54/100\n",
      "200/200 [==============================] - 217s 1s/step - loss: 0.2063 - acc: 0.9191 - auc: 0.9733 - val_loss: 0.8500 - val_acc: 0.6825 - val_auc: 0.8327\n",
      "\n",
      "Epoch 00054: val_acc did not improve from 0.74250\n",
      "Epoch 55/100\n",
      "200/200 [==============================] - 217s 1s/step - loss: 0.1843 - acc: 0.9263 - auc: 0.9798 - val_loss: 0.8168 - val_acc: 0.7025 - val_auc: 0.8434\n",
      "\n",
      "Epoch 00055: val_acc did not improve from 0.74250\n",
      "Epoch 56/100\n",
      "200/200 [==============================] - 217s 1s/step - loss: 0.1960 - acc: 0.9247 - auc: 0.9780 - val_loss: 0.9111 - val_acc: 0.6869 - val_auc: 0.8222\n",
      "\n",
      "Epoch 00056: val_acc did not improve from 0.74250\n",
      "Epoch 57/100\n",
      "200/200 [==============================] - 217s 1s/step - loss: 0.1932 - acc: 0.9206 - auc: 0.9762 - val_loss: 0.9402 - val_acc: 0.6825 - val_auc: 0.8213\n",
      "\n",
      "Epoch 00057: val_acc did not improve from 0.74250\n",
      "Epoch 58/100\n",
      "200/200 [==============================] - 217s 1s/step - loss: 0.1824 - acc: 0.9272 - auc: 0.9802 - val_loss: 0.8938 - val_acc: 0.6987 - val_auc: 0.8325\n",
      "\n",
      "Epoch 00058: val_acc did not improve from 0.74250\n",
      "Epoch 59/100\n",
      "200/200 [==============================] - 217s 1s/step - loss: 0.1911 - acc: 0.9275 - auc: 0.9794 - val_loss: 0.9049 - val_acc: 0.6875 - val_auc: 0.8347\n",
      "\n",
      "Epoch 00059: val_acc did not improve from 0.74250\n",
      "Epoch 60/100\n",
      "200/200 [==============================] - 217s 1s/step - loss: 0.1975 - acc: 0.9216 - auc: 0.9752 - val_loss: 0.9702 - val_acc: 0.6794 - val_auc: 0.8263\n",
      "\n",
      "Epoch 00060: val_acc did not improve from 0.74250\n",
      "Epoch 61/100\n",
      "200/200 [==============================] - 216s 1s/step - loss: 0.2017 - acc: 0.9169 - auc: 0.9748 - val_loss: 0.8696 - val_acc: 0.6937 - val_auc: 0.8480\n",
      "\n",
      "Epoch 00061: val_acc did not improve from 0.74250\n",
      "\n",
      "Epoch 00061: ReduceLROnPlateau reducing learning rate to 9.999999974752428e-08.\n",
      "Epoch 62/100\n",
      "200/200 [==============================] - 216s 1s/step - loss: 0.1875 - acc: 0.9272 - auc: 0.9778 - val_loss: 0.9287 - val_acc: 0.6737 - val_auc: 0.8350\n",
      "\n",
      "Epoch 00062: val_acc did not improve from 0.74250\n",
      "Epoch 63/100\n",
      "200/200 [==============================] - 217s 1s/step - loss: 0.1970 - acc: 0.9209 - auc: 0.9756 - val_loss: 0.9054 - val_acc: 0.6863 - val_auc: 0.8425\n",
      "\n",
      "Epoch 00063: val_acc did not improve from 0.74250\n",
      "Epoch 64/100\n",
      "200/200 [==============================] - 217s 1s/step - loss: 0.1798 - acc: 0.9275 - auc: 0.9816 - val_loss: 0.9400 - val_acc: 0.6737 - val_auc: 0.8266\n",
      "\n",
      "Epoch 00064: val_acc did not improve from 0.74250\n",
      "Epoch 65/100\n",
      "200/200 [==============================] - 217s 1s/step - loss: 0.2078 - acc: 0.9166 - auc: 0.9734 - val_loss: 0.8330 - val_acc: 0.6981 - val_auc: 0.8462\n",
      "\n",
      "Epoch 00065: val_acc did not improve from 0.74250\n",
      "Epoch 66/100\n",
      "200/200 [==============================] - 217s 1s/step - loss: 0.1883 - acc: 0.9244 - auc: 0.9786 - val_loss: 0.9490 - val_acc: 0.6769 - val_auc: 0.8275\n",
      "\n",
      "Epoch 00066: val_acc did not improve from 0.74250\n",
      "Epoch 67/100\n",
      "200/200 [==============================] - 217s 1s/step - loss: 0.1957 - acc: 0.9269 - auc: 0.9761 - val_loss: 0.9436 - val_acc: 0.6613 - val_auc: 0.8217\n",
      "\n",
      "Epoch 00067: val_acc did not improve from 0.74250\n",
      "Epoch 68/100\n",
      "200/200 [==============================] - 217s 1s/step - loss: 0.2124 - acc: 0.9150 - auc: 0.9712 - val_loss: 0.9086 - val_acc: 0.6794 - val_auc: 0.8386\n",
      "\n",
      "Epoch 00068: val_acc did not improve from 0.74250\n",
      "Epoch 69/100\n",
      "200/200 [==============================] - 217s 1s/step - loss: 0.1835 - acc: 0.9281 - auc: 0.9784 - val_loss: 0.9506 - val_acc: 0.6919 - val_auc: 0.8291\n",
      "\n",
      "Epoch 00069: val_acc did not improve from 0.74250\n",
      "Epoch 70/100\n",
      "200/200 [==============================] - 217s 1s/step - loss: 0.2035 - acc: 0.9222 - auc: 0.9741 - val_loss: 0.9467 - val_acc: 0.6769 - val_auc: 0.8261\n",
      "\n",
      "Epoch 00070: val_acc did not improve from 0.74250\n",
      "Epoch 71/100\n",
      "200/200 [==============================] - 217s 1s/step - loss: 0.1898 - acc: 0.9256 - auc: 0.9774 - val_loss: 0.9375 - val_acc: 0.6806 - val_auc: 0.8372\n",
      "\n",
      "Epoch 00071: val_acc did not improve from 0.74250\n",
      "Epoch 72/100\n",
      "200/200 [==============================] - 219s 1s/step - loss: 0.2028 - acc: 0.9231 - auc: 0.9745 - val_loss: 0.9135 - val_acc: 0.6769 - val_auc: 0.8273\n",
      "\n",
      "Epoch 00072: val_acc did not improve from 0.74250\n",
      "Epoch 73/100\n",
      "200/200 [==============================] - 220s 1s/step - loss: 0.1946 - acc: 0.9278 - auc: 0.9750 - val_loss: 0.9834 - val_acc: 0.6819 - val_auc: 0.8225\n",
      "\n",
      "Epoch 00073: val_acc did not improve from 0.74250\n",
      "Epoch 74/100\n",
      "200/200 [==============================] - 220s 1s/step - loss: 0.1915 - acc: 0.9228 - auc: 0.9755 - val_loss: 0.8561 - val_acc: 0.6944 - val_auc: 0.8333\n",
      "\n",
      "Epoch 00074: val_acc did not improve from 0.74250\n",
      "Epoch 75/100\n",
      "200/200 [==============================] - 220s 1s/step - loss: 0.2009 - acc: 0.9247 - auc: 0.9758 - val_loss: 0.8738 - val_acc: 0.6963 - val_auc: 0.8384\n",
      "\n",
      "Epoch 00075: val_acc did not improve from 0.74250\n",
      "Epoch 76/100\n",
      "200/200 [==============================] - 218s 1s/step - loss: 0.1925 - acc: 0.9263 - auc: 0.9762 - val_loss: 0.8372 - val_acc: 0.7006 - val_auc: 0.8553\n",
      "\n",
      "Epoch 00076: val_acc did not improve from 0.74250\n",
      "Epoch 77/100\n",
      "200/200 [==============================] - 217s 1s/step - loss: 0.1928 - acc: 0.9259 - auc: 0.9771 - val_loss: 0.9137 - val_acc: 0.6875 - val_auc: 0.8270\n",
      "\n",
      "Epoch 00077: val_acc did not improve from 0.74250\n",
      "Epoch 78/100\n",
      "200/200 [==============================] - 217s 1s/step - loss: 0.1958 - acc: 0.9253 - auc: 0.9762 - val_loss: 0.8637 - val_acc: 0.6913 - val_auc: 0.8394\n",
      "\n",
      "Epoch 00078: val_acc did not improve from 0.74250\n",
      "Epoch 79/100\n",
      "200/200 [==============================] - 217s 1s/step - loss: 0.1931 - acc: 0.9228 - auc: 0.9766 - val_loss: 0.8803 - val_acc: 0.6969 - val_auc: 0.8453\n",
      "\n",
      "Epoch 00079: val_acc did not improve from 0.74250\n",
      "Epoch 80/100\n",
      "200/200 [==============================] - 217s 1s/step - loss: 0.1999 - acc: 0.9153 - auc: 0.9741 - val_loss: 0.9092 - val_acc: 0.6906 - val_auc: 0.8284\n",
      "\n",
      "Epoch 00080: val_acc did not improve from 0.74250\n",
      "Epoch 81/100\n",
      "200/200 [==============================] - 217s 1s/step - loss: 0.1909 - acc: 0.9256 - auc: 0.9765 - val_loss: 0.8750 - val_acc: 0.6975 - val_auc: 0.8352\n",
      "\n",
      "Epoch 00081: val_acc did not improve from 0.74250\n",
      "\n",
      "Epoch 00081: ReduceLROnPlateau reducing learning rate to 1.0000000116860975e-08.\n",
      "Epoch 82/100\n",
      "200/200 [==============================] - 217s 1s/step - loss: 0.2011 - acc: 0.9206 - auc: 0.9759 - val_loss: 0.8803 - val_acc: 0.6869 - val_auc: 0.8325\n",
      "\n",
      "Epoch 00082: val_acc did not improve from 0.74250\n",
      "Epoch 83/100\n",
      "200/200 [==============================] - 218s 1s/step - loss: 0.1992 - acc: 0.9209 - auc: 0.9755 - val_loss: 0.9356 - val_acc: 0.6887 - val_auc: 0.8263\n",
      "\n",
      "Epoch 00083: val_acc did not improve from 0.74250\n",
      "Epoch 84/100\n",
      "200/200 [==============================] - 219s 1s/step - loss: 0.1868 - acc: 0.9244 - auc: 0.9795 - val_loss: 0.9218 - val_acc: 0.6925 - val_auc: 0.8291\n",
      "\n",
      "Epoch 00084: val_acc did not improve from 0.74250\n",
      "Epoch 85/100\n",
      "200/200 [==============================] - 220s 1s/step - loss: 0.1824 - acc: 0.9303 - auc: 0.9780 - val_loss: 0.9124 - val_acc: 0.6906 - val_auc: 0.8442\n",
      "\n",
      "Epoch 00085: val_acc did not improve from 0.74250\n",
      "Epoch 86/100\n",
      "200/200 [==============================] - 219s 1s/step - loss: 0.1913 - acc: 0.9200 - auc: 0.9784 - val_loss: 0.9412 - val_acc: 0.6775 - val_auc: 0.8248\n",
      "\n",
      "Epoch 00086: val_acc did not improve from 0.74250\n",
      "Epoch 87/100\n",
      "200/200 [==============================] - 220s 1s/step - loss: 0.1784 - acc: 0.9331 - auc: 0.9810 - val_loss: 0.9434 - val_acc: 0.6744 - val_auc: 0.8075\n",
      "\n",
      "Epoch 00087: val_acc did not improve from 0.74250\n",
      "Epoch 88/100\n",
      "200/200 [==============================] - 219s 1s/step - loss: 0.1933 - acc: 0.9244 - auc: 0.9755 - val_loss: 0.9211 - val_acc: 0.6869 - val_auc: 0.8267\n",
      "\n",
      "Epoch 00088: val_acc did not improve from 0.74250\n",
      "Epoch 89/100\n",
      "200/200 [==============================] - 219s 1s/step - loss: 0.1777 - acc: 0.9319 - auc: 0.9816 - val_loss: 0.8823 - val_acc: 0.6850 - val_auc: 0.8511\n",
      "\n",
      "Epoch 00089: val_acc did not improve from 0.74250\n",
      "Epoch 90/100\n",
      "200/200 [==============================] - 218s 1s/step - loss: 0.1940 - acc: 0.9300 - auc: 0.9742 - val_loss: 0.9038 - val_acc: 0.7013 - val_auc: 0.8352\n",
      "\n",
      "Epoch 00090: val_acc did not improve from 0.74250\n",
      "Epoch 91/100\n",
      "200/200 [==============================] - 219s 1s/step - loss: 0.1853 - acc: 0.9250 - auc: 0.9819 - val_loss: 0.8391 - val_acc: 0.6950 - val_auc: 0.8483\n",
      "\n",
      "Epoch 00091: val_acc did not improve from 0.74250\n",
      "Epoch 92/100\n",
      "200/200 [==============================] - 219s 1s/step - loss: 0.1923 - acc: 0.9228 - auc: 0.9779 - val_loss: 0.8832 - val_acc: 0.6981 - val_auc: 0.8456\n",
      "\n",
      "Epoch 00092: val_acc did not improve from 0.74250\n",
      "Epoch 93/100\n",
      "200/200 [==============================] - 220s 1s/step - loss: 0.1929 - acc: 0.9259 - auc: 0.9748 - val_loss: 0.9139 - val_acc: 0.6931 - val_auc: 0.8220\n",
      "\n",
      "Epoch 00093: val_acc did not improve from 0.74250\n",
      "Epoch 94/100\n",
      "200/200 [==============================] - 219s 1s/step - loss: 0.1837 - acc: 0.9288 - auc: 0.9800 - val_loss: 0.9135 - val_acc: 0.6869 - val_auc: 0.8417\n",
      "\n",
      "Epoch 00094: val_acc did not improve from 0.74250\n",
      "Epoch 95/100\n",
      "200/200 [==============================] - 220s 1s/step - loss: 0.1918 - acc: 0.9212 - auc: 0.9779 - val_loss: 0.9814 - val_acc: 0.6913 - val_auc: 0.8269\n",
      "\n",
      "Epoch 00095: val_acc did not improve from 0.74250\n",
      "Epoch 96/100\n",
      "200/200 [==============================] - 220s 1s/step - loss: 0.1890 - acc: 0.9234 - auc: 0.9783 - val_loss: 0.9064 - val_acc: 0.6756 - val_auc: 0.8269\n",
      "\n",
      "Epoch 00096: val_acc did not improve from 0.74250\n",
      "Epoch 97/100\n",
      "200/200 [==============================] - 220s 1s/step - loss: 0.1887 - acc: 0.9225 - auc: 0.9784 - val_loss: 0.8981 - val_acc: 0.6875 - val_auc: 0.8372\n",
      "\n",
      "Epoch 00097: val_acc did not improve from 0.74250\n",
      "Epoch 98/100\n",
      "200/200 [==============================] - 219s 1s/step - loss: 0.1869 - acc: 0.9266 - auc: 0.9766 - val_loss: 0.8646 - val_acc: 0.7050 - val_auc: 0.8522\n",
      "\n",
      "Epoch 00098: val_acc did not improve from 0.74250\n",
      "Epoch 99/100\n",
      "200/200 [==============================] - 220s 1s/step - loss: 0.1980 - acc: 0.9194 - auc: 0.9734 - val_loss: 0.9097 - val_acc: 0.6887 - val_auc: 0.8445\n",
      "\n",
      "Epoch 00099: val_acc did not improve from 0.74250\n",
      "Epoch 100/100\n",
      "200/200 [==============================] - 220s 1s/step - loss: 0.1824 - acc: 0.9231 - auc: 0.9798 - val_loss: 0.9320 - val_acc: 0.6800 - val_auc: 0.8387\n",
      "\n",
      "Epoch 00100: val_acc did not improve from 0.74250\n"
     ]
    }
   ],
   "source": [
    "gc.collect()\n",
    "\n",
    "curr_model_hist=curr_model.fit_generator(gen(train, train_person_to_images_map, batch_size=16), use_multiprocessing=True,\n",
    "                    validation_data=gen(val, val_person_to_images_map, batch_size=16),epochs=100, verbose=1,\n",
    "                    workers = 4, callbacks=callbacks_list, steps_per_epoch=200, validation_steps=100)"
   ]
  },
  {
   "cell_type": "code",
   "execution_count": 0,
   "metadata": {
    "colab": {},
    "colab_type": "code",
    "id": "WWTci3s3IuBM"
   },
   "outputs": [],
   "source": [
    "curr_model_hist.model.save('drive/My Drive/AAIC/north-east-smile/model-3')"
   ]
  },
  {
   "cell_type": "code",
   "execution_count": 0,
   "metadata": {
    "colab": {},
    "colab_type": "code",
    "id": "Nt2z2fkUIsVr"
   },
   "outputs": [],
   "source": [
    "temp=curr_model_hist.history\n",
    "# open a file, where you ant to store the data\n",
    "file = open('drive/My Drive/AAIC/north-east-smile/model-3-hist', 'wb')\n",
    "# dump information to that file\n",
    "pickle.dump(str(temp), file)\n",
    "# close the file\n",
    "file.close()"
   ]
  },
  {
   "cell_type": "code",
   "execution_count": 0,
   "metadata": {
    "colab": {},
    "colab_type": "code",
    "id": "3I4Uvjc6S93a"
   },
   "outputs": [],
   "source": [
    "file = open('drive/My Drive/AAIC/north-east-smile/model-3-hist', 'rb')\n",
    "# dump information to that file\n",
    "history_dict=pickle.load( file)\n",
    "# close the file\n",
    "file.close()"
   ]
  },
  {
   "cell_type": "code",
   "execution_count": 0,
   "metadata": {
    "colab": {},
    "colab_type": "code",
    "id": "vJ6aq3JfKgVC"
   },
   "outputs": [],
   "source": [
    "from keras.models import load_model\n",
    "curr_model_hist.history=history_dict\n",
    "curr_model_hist.model=load_model('drive/My Drive/AAIC/north-east-smile/model-3',custom_objects={ 'auc': auc })"
   ]
  },
  {
   "cell_type": "code",
   "execution_count": 0,
   "metadata": {
    "colab": {
     "base_uri": "https://localhost:8080/",
     "height": 851
    },
    "colab_type": "code",
    "executionInfo": {
     "elapsed": 2102,
     "status": "ok",
     "timestamp": 1574127926437,
     "user": {
      "displayName": "KAUSHIK M",
      "photoUrl": "https://lh3.googleusercontent.com/a-/AAuE7mARF6ftOpLEosQJbeoM5cRa9cneFv8lcUDieQnoJA=s64",
      "userId": "12157452214257167832"
     },
     "user_tz": -330
    },
    "id": "sq-gFBRgMVIn",
    "outputId": "af91e4d7-5f3c-41b1-f3c2-77c81488face"
   },
   "outputs": [
    {
     "data": {
      "image/png": "[encoded data removed]",
      "text/plain": [
       "<Figure size 432x288 with 1 Axes>"
      ]
     },
     "metadata": {
      "tags": []
     },
     "output_type": "display_data"
    },
    {
     "data": {
      "image/png": "[encoded data removed]",
      "text/plain": [
       "<Figure size 432x288 with 1 Axes>"
      ]
     },
     "metadata": {
      "tags": []
     },
     "output_type": "display_data"
    },
    {
     "data": {
      "image/png": "[encoded data removed]",
      "text/plain": [
       "<Figure size 432x288 with 1 Axes>"
      ]
     },
     "metadata": {
      "tags": []
     },
     "output_type": "display_data"
    }
   ],
   "source": [
    "plot_accuracy(True)\n",
    "plot_loss(True)\n",
    "plot_auc(True)"
   ]
  },
  {
   "cell_type": "code",
   "execution_count": 0,
   "metadata": {
    "colab": {
     "base_uri": "https://localhost:8080/",
     "height": 104
    },
    "colab_type": "code",
    "executionInfo": {
     "elapsed": 1045,
     "status": "ok",
     "timestamp": 1574128047237,
     "user": {
      "displayName": "KAUSHIK M",
      "photoUrl": "https://lh3.googleusercontent.com/a-/AAuE7mARF6ftOpLEosQJbeoM5cRa9cneFv8lcUDieQnoJA=s64",
      "userId": "12157452214257167832"
     },
     "user_tz": -330
    },
    "id": "GrxkbZ8fFkNy",
    "outputId": "571ea3f7-cc0f-4f9b-9dfb-5f6cde72e71f"
   },
   "outputs": [
    {
     "name": "stdout",
     "output_type": "stream",
     "text": [
      "166it [01:59,  1.13s/it]\n",
      "Warning: Looks like you're using an outdated API Version, please consider updating (server 1.5.6 / client 1.5.4)\n",
      "100% 249k/249k [00:05<00:00, 42.9kB/s]\n",
      "Successfully submitted to Northeastern SMILE Lab - Recognizing Faces in the Wild\n"
     ]
    }
   ],
   "source": [
    "sol_submit(curr_model_hist.model)"
   ]
  },
  {
   "cell_type": "markdown",
   "metadata": {
    "colab_type": "text",
    "id": "7lYrUGPNVPnp"
   },
   "source": [
    "<H1>4. Model 4 training"
   ]
  },
  {
   "cell_type": "code",
   "execution_count": 0,
   "metadata": {
    "colab": {
     "base_uri": "https://localhost:8080/",
     "height": 1000
    },
    "colab_type": "code",
    "executionInfo": {
     "elapsed": 69170,
     "status": "ok",
     "timestamp": 1574128426142,
     "user": {
      "displayName": "KAUSHIK M",
      "photoUrl": "https://lh3.googleusercontent.com/a-/AAuE7mARF6ftOpLEosQJbeoM5cRa9cneFv8lcUDieQnoJA=s64",
      "userId": "12157452214257167832"
     },
     "user_tz": -330
    },
    "id": "xivTqu5-Wt12",
    "outputId": "7fc29364-72fd-4fff-b33c-67f7b380ea5f"
   },
   "outputs": [
    {
     "name": "stdout",
     "output_type": "stream",
     "text": [
      "Model: \"model_2\"\n",
      "__________________________________________________________________________________________________\n",
      "Layer (type)                    Output Shape         Param #     Connected to                     \n",
      "==================================================================================================\n",
      "input_4 (InputLayer)            (None, 224, 224, 3)  0                                            \n",
      "__________________________________________________________________________________________________\n",
      "input_5 (InputLayer)            (None, 224, 224, 3)  0                                            \n",
      "__________________________________________________________________________________________________\n",
      "vggface_resnet50 (Model)        (None, 1, 1, 2048)   23561152    input_4[0][0]                    \n",
      "                                                                 input_5[0][0]                    \n",
      "__________________________________________________________________________________________________\n",
      "global_average_pooling2d_3 (Glo (None, 2048)         0           vggface_resnet50[1][0]           \n",
      "__________________________________________________________________________________________________\n",
      "global_average_pooling2d_4 (Glo (None, 2048)         0           vggface_resnet50[1][0]           \n",
      "__________________________________________________________________________________________________\n",
      "global_max_pooling2d_3 (GlobalM (None, 2048)         0           vggface_resnet50[2][0]           \n",
      "__________________________________________________________________________________________________\n",
      "global_average_pooling2d_5 (Glo (None, 2048)         0           vggface_resnet50[2][0]           \n",
      "__________________________________________________________________________________________________\n",
      "concatenate_4 (Concatenate)     (None, 4096)         0           global_average_pooling2d_3[0][0] \n",
      "                                                                 global_average_pooling2d_4[0][0] \n",
      "__________________________________________________________________________________________________\n",
      "concatenate_5 (Concatenate)     (None, 4096)         0           global_max_pooling2d_3[0][0]     \n",
      "                                                                 global_average_pooling2d_5[0][0] \n",
      "__________________________________________________________________________________________________\n",
      "multiply_5 (Multiply)           (None, 4096)         0           concatenate_4[0][0]              \n",
      "                                                                 concatenate_4[0][0]              \n",
      "__________________________________________________________________________________________________\n",
      "multiply_6 (Multiply)           (None, 4096)         0           concatenate_5[0][0]              \n",
      "                                                                 concatenate_5[0][0]              \n",
      "__________________________________________________________________________________________________\n",
      "subtract_3 (Subtract)           (None, 4096)         0           concatenate_4[0][0]              \n",
      "                                                                 concatenate_5[0][0]              \n",
      "__________________________________________________________________________________________________\n",
      "subtract_4 (Subtract)           (None, 4096)         0           multiply_5[0][0]                 \n",
      "                                                                 multiply_6[0][0]                 \n",
      "__________________________________________________________________________________________________\n",
      "multiply_4 (Multiply)           (None, 4096)         0           subtract_3[0][0]                 \n",
      "                                                                 subtract_3[0][0]                 \n",
      "__________________________________________________________________________________________________\n",
      "concatenate_6 (Concatenate)     (None, 8192)         0           subtract_4[0][0]                 \n",
      "                                                                 multiply_4[0][0]                 \n",
      "__________________________________________________________________________________________________\n",
      "reshape_1 (Reshape)             (None, 8192, 1)      0           concatenate_6[0][0]              \n",
      "__________________________________________________________________________________________________\n",
      "conv1d_1 (Conv1D)               (None, 1024, 100)    900         reshape_1[0][0]                  \n",
      "__________________________________________________________________________________________________\n",
      "conv1d_2 (Conv1D)               (None, 1017, 100)    80100       conv1d_1[0][0]                   \n",
      "__________________________________________________________________________________________________\n",
      "lstm_1 (LSTM)                   (None, 1017, 128)    117248      conv1d_2[0][0]                   \n",
      "__________________________________________________________________________________________________\n",
      "dropout_2 (Dropout)             (None, 1017, 128)    0           lstm_1[0][0]                     \n",
      "__________________________________________________________________________________________________\n",
      "lstm_2 (LSTM)                   (None, 1017, 128)    131584      dropout_2[0][0]                  \n",
      "__________________________________________________________________________________________________\n",
      "batch_normalization_1 (BatchNor (None, 1017, 128)    512         lstm_2[0][0]                     \n",
      "__________________________________________________________________________________________________\n",
      "flatten_1 (Flatten)             (None, 130176)       0           batch_normalization_1[0][0]      \n",
      "__________________________________________________________________________________________________\n",
      "dense_3 (Dense)                 (None, 100)          13017700    flatten_1[0][0]                  \n",
      "__________________________________________________________________________________________________\n",
      "dense_4 (Dense)                 (None, 1)            101         dense_3[0][0]                    \n",
      "==================================================================================================\n",
      "Total params: 36,909,297\n",
      "Trainable params: 36,855,921\n",
      "Non-trainable params: 53,376\n",
      "__________________________________________________________________________________________________\n"
     ]
    }
   ],
   "source": [
    "curr_model = siamese_model()"
   ]
  },
  {
   "cell_type": "code",
   "execution_count": 0,
   "metadata": {
    "colab": {},
    "colab_type": "code",
    "id": "HxX8c-0QXLVH"
   },
   "outputs": [],
   "source": [
    "from keras_vggface.utils import preprocess_input\n",
    "\n",
    "gc.collect()\n",
    "\n",
    "curr_model_hist=curr_model.fit_generator(gen(train, train_person_to_images_map, batch_size=16), use_multiprocessing=True,\n",
    "                    validation_data=gen(val, val_person_to_images_map, batch_size=16),epochs=20, verbose=1,\n",
    "                    workers = 4, callbacks=callbacks_list, steps_per_epoch=200, validation_steps=100)"
   ]
  },
  {
   "cell_type": "code",
   "execution_count": 0,
   "metadata": {
    "colab": {},
    "colab_type": "code",
    "id": "HqBKNvGeXLEn"
   },
   "outputs": [],
   "source": [
    "curr_model_hist.model.save('drive/My Drive/AAIC/north-east-smile/model-4')"
   ]
  },
  {
   "cell_type": "code",
   "execution_count": 0,
   "metadata": {
    "colab": {},
    "colab_type": "code",
    "id": "qwCMJRnPXYDc"
   },
   "outputs": [],
   "source": [
    "temp=curr_model_hist.history\n",
    "# open a file, where you ant to store the data\n",
    "file = open('drive/My Drive/AAIC/north-east-smile/model-4-hist', 'wb')\n",
    "# dump information to that file\n",
    "pickle.dump(str(temp), file)\n",
    "# close the file\n",
    "file.close()"
   ]
  },
  {
   "cell_type": "code",
   "execution_count": 0,
   "metadata": {
    "colab": {},
    "colab_type": "code",
    "id": "noureXSYXeJq"
   },
   "outputs": [],
   "source": [
    "file = open('drive/My Drive/AAIC/north-east-smile/model-4-hist', 'rb')\n",
    "# dump information to that file\n",
    "history_dict=pickle.load( file)\n",
    "# close the file\n",
    "file.close()"
   ]
  },
  {
   "cell_type": "code",
   "execution_count": 0,
   "metadata": {
    "colab": {},
    "colab_type": "code",
    "id": "L8ND-ghuWrMB"
   },
   "outputs": [],
   "source": [
    "from keras.models import load_model\n",
    "curr_model_hist.history=history_dict\n",
    "curr_model_hist.model=load_model('drive/My Drive/AAIC/north-east-smile/model-4',custom_objects={ 'auc': auc })"
   ]
  },
  {
   "cell_type": "code",
   "execution_count": 0,
   "metadata": {
    "colab": {
     "base_uri": "https://localhost:8080/",
     "height": 851
    },
    "colab_type": "code",
    "executionInfo": {
     "elapsed": 1956,
     "status": "ok",
     "timestamp": 1574129223013,
     "user": {
      "displayName": "KAUSHIK M",
      "photoUrl": "https://lh3.googleusercontent.com/a-/AAuE7mARF6ftOpLEosQJbeoM5cRa9cneFv8lcUDieQnoJA=s64",
      "userId": "12157452214257167832"
     },
     "user_tz": -330
    },
    "id": "vcXWT12TWqrD",
    "outputId": "0541e5a1-df96-4a3d-91b3-5494c3889407"
   },
   "outputs": [
    {
     "data": {
      "image/png": "[encoded data removed]",
      "text/plain": [
       "<Figure size 432x288 with 1 Axes>"
      ]
     },
     "metadata": {
      "tags": []
     },
     "output_type": "display_data"
    },
    {
     "data": {
      "image/png": "[encoded data removed]",
      "text/plain": [
       "<Figure size 432x288 with 1 Axes>"
      ]
     },
     "metadata": {
      "tags": []
     },
     "output_type": "display_data"
    },
    {
     "data": {
      "image/png": "[encoded data removed]",
      "text/plain": [
       "<Figure size 432x288 with 1 Axes>"
      ]
     },
     "metadata": {
      "tags": []
     },
     "output_type": "display_data"
    }
   ],
   "source": [
    "plot_accuracy(True)\n",
    "plot_loss(True)\n",
    "plot_auc(True)"
   ]
  },
  {
   "cell_type": "code",
   "execution_count": 0,
   "metadata": {
    "colab": {
     "base_uri": "https://localhost:8080/",
     "height": 84
    },
    "colab_type": "code",
    "executionInfo": {
     "elapsed": 3064748,
     "status": "ok",
     "timestamp": 1574132368054,
     "user": {
      "displayName": "KAUSHIK M",
      "photoUrl": "https://lh3.googleusercontent.com/a-/AAuE7mARF6ftOpLEosQJbeoM5cRa9cneFv8lcUDieQnoJA=s64",
      "userId": "12157452214257167832"
     },
     "user_tz": -330
    },
    "id": "6qjj0__ZVWPf",
    "outputId": "b20ea990-8250-484d-c4ad-13091eeb5a7f"
   },
   "outputs": [
    {
     "name": "stderr",
     "output_type": "stream",
     "text": [
      "166it [50:57, 17.79s/it]\n"
     ]
    },
    {
     "name": "stdout",
     "output_type": "stream",
     "text": [
      "Warning: Looks like you're using an outdated API Version, please consider updating (server 1.5.6 / client 1.5.4)\n",
      "100% 248k/248k [00:01<00:00, 147kB/s]\n",
      "Successfully submitted to Northeastern SMILE Lab - Recognizing Faces in the Wild"
     ]
    }
   ],
   "source": [
    "sol_submit(curr_model_hist.model)"
   ]
  },
  {
   "cell_type": "markdown",
   "metadata": {
    "colab_type": "text",
    "id": "_4yIpVqC7h0m"
   },
   "source": [
    "<H1>5. Model 5 training"
   ]
  },
  {
   "cell_type": "code",
   "execution_count": 30,
   "metadata": {
    "colab": {
     "base_uri": "https://localhost:8080/",
     "height": 823
    },
    "colab_type": "code",
    "executionInfo": {
     "elapsed": 11583,
     "status": "ok",
     "timestamp": 1574259334424,
     "user": {
      "displayName": "KAUSHIK M",
      "photoUrl": "https://lh3.googleusercontent.com/a-/AAuE7mARF6ftOpLEosQJbeoM5cRa9cneFv8lcUDieQnoJA=s64",
      "userId": "12157452214257167832"
     },
     "user_tz": -330
    },
    "id": "Tveut240E1O8",
    "outputId": "8aad04bb-0c16-4574-83fc-21d0ce7c6648"
   },
   "outputs": [
    {
     "name": "stdout",
     "output_type": "stream",
     "text": [
      "WARNING:tensorflow:From <ipython-input-24-1ca1397e40e8>:37: py_func (from tensorflow.python.ops.script_ops) is deprecated and will be removed in a future version.\n",
      "Instructions for updating:\n",
      "tf.py_func is deprecated in TF V2. Instead, there are two\n",
      "    options available in V2.\n",
      "    - tf.py_function takes a python function which manipulates tf eager\n",
      "    tensors instead of numpy arrays. It's easy to convert a tf eager tensor to\n",
      "    an ndarray (just call tensor.numpy()) but having access to eager tensors\n",
      "    means `tf.py_function`s can use accelerators such as GPUs as well as\n",
      "    being differentiable using a gradient tape.\n",
      "    - tf.numpy_function maintains the semantics of the deprecated tf.py_func\n",
      "    (it is not differentiable, and manipulates numpy arrays). It drops the\n",
      "    stateful argument making all functions stateful.\n",
      "    \n",
      "Model: \"model_14\"\n",
      "__________________________________________________________________________________________________\n",
      "Layer (type)                    Output Shape         Param #     Connected to                     \n",
      "==================================================================================================\n",
      "input_26 (InputLayer)           (None, 96, 96, 3)    0                                            \n",
      "__________________________________________________________________________________________________\n",
      "input_27 (InputLayer)           (None, 96, 96, 3)    0                                            \n",
      "__________________________________________________________________________________________________\n",
      "model_13 (Model)                (None, 3, 3, 736)    3648944     input_26[0][0]                   \n",
      "                                                                 input_27[0][0]                   \n",
      "__________________________________________________________________________________________________\n",
      "reshape_9 (Reshape)             (None, Dimension(9), 0           model_13[1][0]                   \n",
      "__________________________________________________________________________________________________\n",
      "reshape_10 (Reshape)            (None, Dimension(9), 0           model_13[2][0]                   \n",
      "__________________________________________________________________________________________________\n",
      "lambda_7 (Lambda)               (None, 736, 736)     0           reshape_9[0][0]                  \n",
      "                                                                 reshape_10[0][0]                 \n",
      "__________________________________________________________________________________________________\n",
      "reshape_11 (Reshape)            (None, Dimension(541 0           lambda_7[0][0]                   \n",
      "__________________________________________________________________________________________________\n",
      "lambda_8 (Lambda)               (None, 541696)       0           reshape_11[0][0]                 \n",
      "__________________________________________________________________________________________________\n",
      "lambda_9 (Lambda)               (None, 541696)       0           lambda_8[0][0]                   \n",
      "__________________________________________________________________________________________________\n",
      "dense_5 (Dense)                 (None, 100)          54169700    lambda_9[0][0]                   \n",
      "__________________________________________________________________________________________________\n",
      "dropout_3 (Dropout)             (None, 100)          0           dense_5[0][0]                    \n",
      "__________________________________________________________________________________________________\n",
      "dense_6 (Dense)                 (None, 1)            101         dropout_3[0][0]                  \n",
      "==================================================================================================\n",
      "Total params: 57,818,745\n",
      "Trainable params: 57,809,433\n",
      "Non-trainable params: 9,312\n",
      "__________________________________________________________________________________________________\n",
      "None\n"
     ]
    }
   ],
   "source": [
    "model = get_model5()"
   ]
  },
  {
   "cell_type": "code",
   "execution_count": 0,
   "metadata": {
    "colab": {},
    "colab_type": "code",
    "id": "DVEg7RP9E1Lo"
   },
   "outputs": [],
   "source": [
    "callbacks = [keras.callbacks.EarlyStopping(monitor='val_loss',\n",
    "                           patience=8,\n",
    "                           verbose=1,\n",
    "                           min_delta=1e-4),\n",
    "             keras.callbacks.ReduceLROnPlateau(monitor='val_loss',\n",
    "                               factor=0.1,\n",
    "                               patience=4,\n",
    "                               verbose=1,\n",
    "                               epsilon=1e-4),\n",
    "            keras.callbacks.ModelCheckpoint('model_best_checkpoint.h5',save_best_only=True,\n",
    "                                            verbose=0, save_weights_only=True,monitor='val_auc',mode='max'),\n",
    "        ]"
   ]
  },
  {
   "cell_type": "code",
   "execution_count": 0,
   "metadata": {
    "colab": {},
    "colab_type": "code",
    "id": "5Na4-PlXK632"
   },
   "outputs": [],
   "source": [
    "train_gen = gen(batch_size=16,data=train)\n",
    "val_gen = gen(batch_size=16,data=val)"
   ]
  },
  {
   "cell_type": "code",
   "execution_count": 0,
   "metadata": {
    "colab": {
     "base_uri": "https://localhost:8080/",
     "height": 571
    },
    "colab_type": "code",
    "executionInfo": {
     "elapsed": 724,
     "status": "ok",
     "timestamp": 1574157100255,
     "user": {
      "displayName": "KAUSHIK M",
      "photoUrl": "https://lh3.googleusercontent.com/a-/AAuE7mARF6ftOpLEosQJbeoM5cRa9cneFv8lcUDieQnoJA=s64",
      "userId": "12157452214257167832"
     },
     "user_tz": -330
    },
    "id": "CNLsRSco7ncr",
    "outputId": "3cd92301-d81b-42a2-a8bc-4060471792ba"
   },
   "outputs": [
    {
     "name": "stdout",
     "output_type": "stream",
     "text": [
      "Epoch 1/100\n",
      "200/200 [==============================] - 78s 392ms/step - loss: 0.6495 - acc: 0.5956 - auc: 0.6609 - val_loss: 0.6501 - val_acc: 0.6044 - val_auc: 0.6505\n",
      "Epoch 2/100\n",
      "200/200 [==============================] - 78s 390ms/step - loss: 0.6507 - acc: 0.5959 - auc: 0.6388 - val_loss: 0.6566 - val_acc: 0.5994 - val_auc: 0.6353\n",
      "Epoch 3/100\n",
      "200/200 [==============================] - 78s 390ms/step - loss: 0.6467 - acc: 0.6103 - auc: 0.6578 - val_loss: 0.6496 - val_acc: 0.5969 - val_auc: 0.6550\n",
      "Epoch 4/100\n",
      "200/200 [==============================] - 78s 391ms/step - loss: 0.6561 - acc: 0.5928 - auc: 0.6423 - val_loss: 0.6433 - val_acc: 0.6281 - val_auc: 0.6736\n",
      "Epoch 5/100\n",
      "200/200 [==============================] - 78s 389ms/step - loss: 0.6479 - acc: 0.5913 - auc: 0.6457 - val_loss: 0.6454 - val_acc: 0.6062 - val_auc: 0.6648\n",
      "Epoch 6/100\n",
      "200/200 [==============================] - 78s 390ms/step - loss: 0.6442 - acc: 0.6078 - auc: 0.6555 - val_loss: 0.6386 - val_acc: 0.6206 - val_auc: 0.6811\n",
      "Epoch 7/100\n",
      "200/200 [==============================] - 78s 389ms/step - loss: 0.6476 - acc: 0.6047 - auc: 0.6593 - val_loss: 0.6502 - val_acc: 0.6038 - val_auc: 0.6489\n",
      "Epoch 8/100\n",
      "200/200 [==============================] - 78s 388ms/step - loss: 0.6478 - acc: 0.6034 - auc: 0.6531 - val_loss: 0.6386 - val_acc: 0.5994 - val_auc: 0.6653\n",
      "Epoch 9/100\n",
      "200/200 [==============================] - 77s 387ms/step - loss: 0.6480 - acc: 0.5894 - auc: 0.6467 - val_loss: 0.6457 - val_acc: 0.6031 - val_auc: 0.6533\n",
      "Epoch 10/100\n",
      "200/200 [==============================] - 77s 387ms/step - loss: 0.6575 - acc: 0.5847 - auc: 0.6336 - val_loss: 0.6459 - val_acc: 0.6094 - val_auc: 0.6542\n",
      "\n",
      "Epoch 00010: ReduceLROnPlateau reducing learning rate to 1.0000001111620805e-07.\n",
      "Epoch 11/100\n",
      "200/200 [==============================] - 78s 391ms/step - loss: 0.6422 - acc: 0.6150 - auc: 0.6724 - val_loss: 0.6409 - val_acc: 0.6256 - val_auc: 0.6777\n",
      "Epoch 12/100\n",
      "200/200 [==============================] - 78s 390ms/step - loss: 0.6492 - acc: 0.5903 - auc: 0.6384 - val_loss: 0.6449 - val_acc: 0.6019 - val_auc: 0.6562\n",
      "Epoch 13/100\n",
      "200/200 [==============================] - 78s 389ms/step - loss: 0.6507 - acc: 0.6122 - auc: 0.6575 - val_loss: 0.6575 - val_acc: 0.6025 - val_auc: 0.6462\n",
      "Epoch 14/100\n",
      "200/200 [==============================] - 78s 389ms/step - loss: 0.6410 - acc: 0.6141 - auc: 0.6693 - val_loss: 0.6499 - val_acc: 0.6288 - val_auc: 0.6747\n",
      "\n",
      "Epoch 00014: ReduceLROnPlateau reducing learning rate to 1.000000082740371e-08.\n",
      "Epoch 00014: early stopping\n"
     ]
    }
   ],
   "source": [
    "curr_model_hist=model.fit_generator(train_gen,steps_per_epoch=200,use_multiprocessing=True,\n",
    "          epochs=100,validation_data=val_gen,verbose=1,\n",
    "          validation_steps=100,callbacks=callbacks)"
   ]
  },
  {
   "cell_type": "code",
   "execution_count": 0,
   "metadata": {
    "colab": {},
    "colab_type": "code",
    "id": "9v_j8sQ98mpY"
   },
   "outputs": [],
   "source": [
    "temp=curr_model_hist.history\n",
    "# open a file, where you ant to store the data\n",
    "file = open('drive/My Drive/AAIC/north-east-smile/model-5-hist', 'wb')\n",
    "# dump information to that file\n",
    "pickle.dump(str(temp), file)\n",
    "# close the file\n",
    "file.close()"
   ]
  },
  {
   "cell_type": "code",
   "execution_count": 0,
   "metadata": {
    "colab": {},
    "colab_type": "code",
    "id": "d8WEDdFk8nsz"
   },
   "outputs": [],
   "source": [
    "file = open('drive/My Drive/AAIC/north-east-smile/model-5-hist', 'rb')\n",
    "# dump information to that file\n",
    "history_dict=pickle.load( file)\n",
    "# close the file\n",
    "file.close()"
   ]
  },
  {
   "cell_type": "code",
   "execution_count": 0,
   "metadata": {
    "colab": {},
    "colab_type": "code",
    "id": "tbKItbnz8yn9"
   },
   "outputs": [],
   "source": [
    "from keras.models import load_model\n",
    "import json\n",
    "# https://stackoverflow.com/questions/39491420/python-jsonexpecting-property-name-enclosed-in-double-quotes\n",
    "history_dict= history_dict.replace(\"\\'\", \"\\\"\")\n",
    "curr_model_hist.history=json.loads(history_dict)\n",
    "# curr_model_hist.model=load_model('drive/My Drive/AAIC/north-east-smile/model-4',custom_objects={ 'auc': auc })"
   ]
  },
  {
   "cell_type": "code",
   "execution_count": 0,
   "metadata": {
    "colab": {},
    "colab_type": "code",
    "id": "faTVwIPKEPDo"
   },
   "outputs": [],
   "source": [
    "curr_model_hist.model.save_weights('drive/My Drive/AAIC/north-east-smile/model-5')"
   ]
  },
  {
   "cell_type": "code",
   "execution_count": 0,
   "metadata": {
    "colab": {
     "base_uri": "https://localhost:8080/",
     "height": 851
    },
    "colab_type": "code",
    "executionInfo": {
     "elapsed": 1460,
     "status": "ok",
     "timestamp": 1574155123154,
     "user": {
      "displayName": "KAUSHIK M",
      "photoUrl": "https://lh3.googleusercontent.com/a-/AAuE7mARF6ftOpLEosQJbeoM5cRa9cneFv8lcUDieQnoJA=s64",
      "userId": "12157452214257167832"
     },
     "user_tz": -330
    },
    "id": "vp2y5NEt8ykm",
    "outputId": "45816305-b198-4bf5-d50c-914d2d5f7871"
   },
   "outputs": [
    {
     "data": {
      "image/png": "[encoded data removed]",
      "text/plain": [
       "<Figure size 432x288 with 1 Axes>"
      ]
     },
     "metadata": {
      "tags": []
     },
     "output_type": "display_data"
    },
    {
     "data": {
      "image/png": "[encoded data removed]",
      "text/plain": [
       "<Figure size 432x288 with 1 Axes>"
      ]
     },
     "metadata": {
      "tags": []
     },
     "output_type": "display_data"
    },
    {
     "data": {
      "image/png": "[encoded data removed]",
      "text/plain": [
       "<Figure size 432x288 with 1 Axes>"
      ]
     },
     "metadata": {
      "tags": []
     },
     "output_type": "display_data"
    }
   ],
   "source": [
    "plot_accuracy(True)\n",
    "plot_loss(True)\n",
    "plot_auc(True)"
   ]
  },
  {
   "cell_type": "code",
   "execution_count": 0,
   "metadata": {
    "colab": {
     "base_uri": "https://localhost:8080/",
     "height": 84
    },
    "colab_type": "code",
    "executionInfo": {
     "elapsed": 631,
     "status": "ok",
     "timestamp": 1574157060124,
     "user": {
      "displayName": "KAUSHIK M",
      "photoUrl": "https://lh3.googleusercontent.com/a-/AAuE7mARF6ftOpLEosQJbeoM5cRa9cneFv8lcUDieQnoJA=s64",
      "userId": "12157452214257167832"
     },
     "user_tz": -330
    },
    "id": "H2zn6gL-9R0i",
    "outputId": "1ce85433-032a-4357-cb44-b70c669846cf"
   },
   "outputs": [
    {
     "name": "stdout",
     "output_type": "stream",
     "text": [
      "166it [00:33,  2.15it/s]\n",
      "Warning: Looks like you're using an outdated API Version, please consider updating (server 1.5.6 / client 1.5.4)\n",
      "100% 244k/244k [00:03<00:00, 77.5kB/s]\n",
      "Successfully submitted to Northeastern SMILE Lab - Recognizing Faces in the Wild\n"
     ]
    }
   ],
   "source": [
    "sol_submit(curr_model_hist.model)"
   ]
  },
  {
   "cell_type": "markdown",
   "metadata": {
    "colab_type": "text",
    "id": "GGIG90H-SVg6"
   },
   "source": [
    "Compare to other models the model 5 performed very poorly so we will ignore the above model."
   ]
  },
  {
   "cell_type": "markdown",
   "metadata": {
    "colab_type": "text",
    "id": "mFL0oW42_3qd"
   },
   "source": [
    "<H1> References : </H1>\n",
    "Joseph P Robinson, Ming Shao, Hongfu Liu, Yue Wu, Timothy Gillis, and Yun Fu. \"Visual Kinship Recognition of Families In the Wild\" IEEE TPAMI Special Edition: Computational Face (2018). paper\n",
    "\n",
    "Joseph P Robinson, Ming Shao, Handong Zhao, Yue Wu, Timothy Gillis, Yun Fu. \"Recognizing Families In the Wild (RFIW): Data Challenge Workshop in conjunction with ACM MM 2017,\" ACM Multimedia Conference: Workshop on RFIW (2017). paper\n",
    "\n",
    "Shuyang Wang, Joseph P Robinson, and Yun Fu. “Kinship Verification on Families in the Wild with Marginalized Denoising Metric Learning,” in IEEE Automatic Face and Gesture Recognition (2017). paper\n",
    "\n",
    "Joseph P Robinson, Ming Shao, Yue Wu, and Yun Fu. “Families In the Wild (FIW): large-scale kinship image database and benchmarks.\" in ACM on Multimedia Conference (2016). paper\n",
    "\n",
    "https://www.kaggle.com/ranjitkumar1/recognizing-face-with-one-shot-learning\n",
    "\n",
    "https://github.com/rcmalli/keras-vggface.git\n",
    "\n"
   ]
  },
  {
   "cell_type": "markdown",
   "metadata": {
    "colab_type": "text",
    "id": "qJSYjU3IFA0P"
   },
   "source": [
    "I have taken the architectures inspiration from below links:\n",
    "\n",
    "https://www.kaggle.com/shivamsarawagi/wildimagedetection-0-875\n",
    "\n",
    "https://www.kaggle.com/arjunrao2000/kinship-detection-with-vgg16\n",
    "\n",
    "https://www.kaggle.com/leonbora/kinship-recognition-transfer-learning-vggface\n",
    "\n",
    "https://www.kaggle.com/janpreets/just-another-feature-extractor-0-824-lb\n",
    "\n",
    "https://www.kaggle.com/ranjitkumar1/recognizing-face-with-one-shot-learning?scriptVersionId=18435237"
   ]
  }
 ],
 "metadata": {
  "accelerator": "TPU",
  "colab": {
   "collapsed_sections": [],
   "name": "Assignment-28-Northeastern SMILE Lab-Models.ipynb",
   "provenance": [
    {
     "file_id": "1dpuEnn3KevYWF_JbdwZqVRqCL01KpQa7",
     "timestamp": 1573440872729
    }
   ]
  },
  "kernelspec": {
   "display_name": "Python 3",
   "language": "python",
   "name": "python3"
  },
  "language_info": {
   "codemirror_mode": {
    "name": "ipython",
    "version": 3
   },
   "file_extension": ".py",
   "mimetype": "text/x-python",
   "name": "python",
   "nbconvert_exporter": "python",
   "pygments_lexer": "ipython3",
   "version": "3.6.5"
  }
 },
 "nbformat": 4,
 "nbformat_minor": 1
}
