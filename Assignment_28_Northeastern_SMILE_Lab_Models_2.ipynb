{
 "cells": [
  {
   "cell_type": "markdown",
   "metadata": {
    "colab_type": "text",
    "id": "2Tl2FwYF_Tgh"
   },
   "source": [
    "<H2>Data Overview</H2>\n",
    "In this competition, we need to predict if two people share a kinship relationship or not based on their facial images. The data is provided by Families In the Wild (FIW), the largest and most comprehensive image database for automatic kinship recognition.\n",
    "\n",
    "FIW's dataset is obtained from publicly available images from celebrities."
   ]
  },
  {
   "cell_type": "markdown",
   "metadata": {
    "colab_type": "text",
    "id": "71VM-k8-_uIq"
   },
   "source": [
    "<H2>File Descriptions </H2>\n",
    "\n",
    "*   train-faces.zip - the training set is divided in Families (F0123), then individuals (MIDx). Images in the same MIDx folder belong to the same person. Images in the same F0123 folder belong to the same family.\n",
    "\n",
    "* train.csv - training labels. Remember, not every individual in a family shares a kinship relationship. For example, a mother and father are kin to their children, but not to each other.\n",
    "\n",
    "* test-faces.zip - the test set contains face images of unknown individuals\n",
    "\n",
    "* sample_submission.csv - a sample submission file in the correct format. The column img_pair describes the pair of images, i.e., abcdef-ghijkl means the pair of images abcdef.jpg and ghijkl.jpg. Your goal is to predict if each pair of images in test-faces are related or not, where 1 means related and 0 means unrelated.\n",
    "   \n",
    "\n"
   ]
  },
  {
   "cell_type": "code",
   "execution_count": 1,
   "metadata": {
    "colab": {
     "base_uri": "https://localhost:8080/",
     "height": 133
    },
    "colab_type": "code",
    "id": "3es_8N-UU33Z",
    "outputId": "8af2182b-8c1b-4694-8805-98b69cc3845c"
   },
   "outputs": [
    {
     "name": "stdout",
     "output_type": "stream",
     "text": [
      "Cloning into 'keras-vggface'...\n",
      "remote: Enumerating objects: 22, done.\u001b[K\n",
      "remote: Counting objects: 100% (22/22), done.\u001b[K\n",
      "remote: Compressing objects: 100% (19/19), done.\u001b[K\n",
      "remote: Total 273 (delta 7), reused 7 (delta 3), pack-reused 251\u001b[K\n",
      "Receiving objects: 100% (273/273), 6.03 MiB | 5.16 MiB/s, done.\n",
      "Resolving deltas: 100% (126/126), done.\n"
     ]
    }
   ],
   "source": [
    "# we used VGGFace file from the below github which  has some models works better for Face Identification\n",
    "!git clone https://github.com/rcmalli/keras-vggface.git"
   ]
  },
  {
   "cell_type": "code",
   "execution_count": 0,
   "metadata": {
    "colab": {},
    "colab_type": "code",
    "id": "ODxHh0bBVRPB"
   },
   "outputs": [],
   "source": [
    "import os,shutil\n",
    "for file_ in os.listdir('keras-vggface'):\n",
    "    if '.*' not in file_:\n",
    "        try:\n",
    "            shutil.move('keras-vggface/'+file_,'.')\n",
    "        except:\n",
    "            print(9) "
   ]
  },
  {
   "cell_type": "code",
   "execution_count": 3,
   "metadata": {
    "colab": {
     "base_uri": "https://localhost:8080/",
     "height": 96
    },
    "colab_type": "code",
    "id": "QEkFtvSbnYd1",
    "outputId": "75bf8083-29e4-4f64-e980-99794cff3097"
   },
   "outputs": [
    {
     "name": "stderr",
     "output_type": "stream",
     "text": [
      "Using TensorFlow backend.\n"
     ]
    },
    {
     "data": {
      "text/html": [
       "<p style=\"color: red;\">\n",
       "The default version of TensorFlow in Colab will soon switch to TensorFlow 2.x.<br>\n",
       "We recommend you <a href=\"https://www.tensorflow.org/guide/migrate\" target=\"_blank\">upgrade</a> now \n",
       "or ensure your notebook will continue to use TensorFlow 1.x via the <code>%tensorflow_version 1.x</code> magic:\n",
       "<a href=\"https://colab.research.google.com/notebooks/tensorflow_version.ipynb\" target=\"_blank\">more info</a>.</p>\n"
      ],
      "text/plain": [
       "<IPython.core.display.HTML object>"
      ]
     },
     "metadata": {
      "tags": []
     },
     "output_type": "display_data"
    },
    {
     "data": {
      "text/html": [
       "        <script type=\"text/javascript\">\n",
       "        window.PlotlyConfig = {MathJaxConfig: 'local'};\n",
       "        if (window.MathJax) {MathJax.Hub.Config({SVG: {font: \"STIX-Web\"}});}\n",
       "        if (typeof require !== 'undefined') {\n",
       "        require.undef(\"plotly\");\n",
       "        requirejs.config({\n",
       "            paths: {\n",
       "                'plotly': ['https://cdn.plot.ly/plotly-latest.min']\n",
       "            }\n",
       "        });\n",
       "        require(['plotly'], function(Plotly) {\n",
       "            window._Plotly = Plotly;\n",
       "        });\n",
       "        }\n",
       "        </script>\n",
       "        "
      ]
     },
     "metadata": {
      "tags": []
     },
     "output_type": "display_data"
    },
    {
     "name": "stdout",
     "output_type": "stream",
     "text": [
      "Populating the interactive namespace from numpy and matplotlib\n"
     ]
    }
   ],
   "source": [
    "from collections import defaultdict\n",
    "from glob import glob\n",
    "from random import choice, sample\n",
    "import matplotlib.pyplot as plt\n",
    "from tqdm import tqdm\n",
    "import numpy as np\n",
    "import pandas as pd\n",
    "import pickle\n",
    "import gc, psutil, cv2, random, base64, h5py, os,shutil\n",
    "pd.options.mode.chained_assignment = None\n",
    "pd.options.display.max_columns = 9999\n",
    "pd.options.display.float_format = '{:20, .2f}'.format\n",
    "from keras import backend as K\n",
    "\n",
    "from keras.layers import Input, Dense, Flatten, GlobalMaxPool2D, GlobalAvgPool2D, Concatenate, Multiply, Dropout, Subtract, Add\n",
    "from keras_vggface.vggface import VGGFace\n",
    "from pathlib import Path\n",
    "\n",
    "from PIL import Image\n",
    "from io import BytesIO\n",
    "from IPython.display import HTML\n",
    "import plotly.offline as py\n",
    "py.init_notebook_mode(connected=True)\n",
    "import plotly.graph_objs as go\n",
    "import plotly.tools as tls\n",
    "\n",
    "import warnings\n",
    "warnings.filterwarnings('ignore')\n",
    "from keras.layers import Conv2D, ZeroPadding2D, Activation, concatenate\n",
    "from keras.layers.pooling import MaxPooling2D, AveragePooling2D\n",
    "from keras.layers.core import Lambda\n",
    "import keras\n",
    "from keras.callbacks import ModelCheckpoint, ReduceLROnPlateau,EarlyStopping\n",
    "from keras.layers import Conv1D, BatchNormalization,Reshape, LeakyReLU\n",
    "from keras.preprocessing import image\n",
    "from keras.optimizers import Adam,SGD,rmsprop\n",
    "from keras.layers import Input, Dense, Flatten, GlobalMaxPool2D, GlobalAvgPool2D, Conv2D,MaxPooling1D,GlobalAveragePooling1D,LSTM\n",
    "from keras.models import Model\n",
    "from keras.losses import binary_crossentropy\n",
    "import tensorflow as tf\n",
    "from sklearn.metrics import roc_auc_score\n",
    "from keras import regularizers\n",
    "%pylab inline\n",
    "import matplotlib.image as mpimg"
   ]
  },
  {
   "cell_type": "code",
   "execution_count": 4,
   "metadata": {
    "colab": {
     "base_uri": "https://localhost:8080/",
     "height": 120
    },
    "colab_type": "code",
    "id": "lE92Sm4YcF31",
    "outputId": "d2fc9ac8-28f2-41fb-ff2c-ebded465d40f"
   },
   "outputs": [
    {
     "name": "stdout",
     "output_type": "stream",
     "text": [
      "Go to this URL in a browser: https://accounts.google.com/o/oauth2/auth?client_id=947318989803-6bn6qk8qdgf4n4g3pfee6491hc0brc4i.apps.googleusercontent.com&redirect_uri=urn%3aietf%3awg%3aoauth%3a2.0%3aoob&response_type=code&scope=email%20https%3a%2f%2fwww.googleapis.com%2fauth%2fdocs.test%20https%3a%2f%2fwww.googleapis.com%2fauth%2fdrive%20https%3a%2f%2fwww.googleapis.com%2fauth%2fdrive.photos.readonly%20https%3a%2f%2fwww.googleapis.com%2fauth%2fpeopleapi.readonly\n",
      "\n",
      "Enter your authorization code:\n",
      "··········\n",
      "Mounted at /content/drive\n"
     ]
    }
   ],
   "source": [
    "import shutil\n",
    "from google.colab import drive\n",
    "drive.mount('/content/drive',force_remount=True)\n",
    "# path='drive/My Drive/AAIC/'"
   ]
  },
  {
   "cell_type": "markdown",
   "metadata": {
    "colab_type": "text",
    "id": "10lBBNXon2hJ"
   },
   "source": [
    "<h1>Uploading Kaggle credentials "
   ]
  },
  {
   "cell_type": "code",
   "execution_count": 6,
   "metadata": {
    "colab": {
     "base_uri": "https://localhost:8080/",
     "height": 73,
     "resources": {
      "http://localhost:8080/nbextensions/google.colab/files.js": {
       "data": "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",
       "headers": [
        [
         "content-type",
         "application/javascript"
        ]
       ],
       "ok": true,
       "status": 200,
       "status_text": ""
      }
     }
    },
    "colab_type": "code",
    "id": "LmpJ7tXtIJfj",
    "outputId": "ce33f5cc-413b-4e1b-810d-3316dcb3fc4b"
   },
   "outputs": [
    {
     "data": {
      "text/html": [
       "\n",
       "     <input type=\"file\" id=\"files-0b63b3ac-ff47-461b-981b-73c6ae1bfefe\" name=\"files[]\" multiple disabled />\n",
       "     <output id=\"result-0b63b3ac-ff47-461b-981b-73c6ae1bfefe\">\n",
       "      Upload widget is only available when the cell has been executed in the\n",
       "      current browser session. Please rerun this cell to enable.\n",
       "      </output>\n",
       "      <script src=\"/nbextensions/google.colab/files.js\"></script> "
      ],
      "text/plain": [
       "<IPython.core.display.HTML object>"
      ]
     },
     "metadata": {
      "tags": []
     },
     "output_type": "display_data"
    },
    {
     "name": "stdout",
     "output_type": "stream",
     "text": [
      "Saving kaggle.json to kaggle.json\n"
     ]
    }
   ],
   "source": [
    "from google.colab import files\n",
    "files.upload()\n",
    "!pip install -q kaggle\n",
    "!mkdir -p ~/.kaggle\n",
    "!cp kaggle.json ~/.kaggle/\n",
    "\n",
    "# This permissions change avoids a warning on Kaggle tool startup.\n",
    "!chmod 600 ~/.kaggle/kaggle.json"
   ]
  },
  {
   "cell_type": "markdown",
   "metadata": {
    "colab_type": "text",
    "id": "KH9Hgrknntp7"
   },
   "source": [
    "<H1>Downloading the Dataset"
   ]
  },
  {
   "cell_type": "code",
   "execution_count": 7,
   "metadata": {
    "colab": {
     "base_uri": "https://localhost:8080/",
     "height": 233
    },
    "colab_type": "code",
    "id": "QiQSvy4PNo2t",
    "outputId": "1912f027-d76b-48b3-88da-225d76bf836e"
   },
   "outputs": [
    {
     "name": "stdout",
     "output_type": "stream",
     "text": [
      "Warning: Looks like you're using an outdated API Version, please consider updating (server 1.5.6 / client 1.5.4)\n",
      "Downloading train_relationships.csv to /content\n",
      "  0% 0.00/77.6k [00:00<?, ?B/s]\n",
      "100% 77.6k/77.6k [00:00<00:00, 29.8MB/s]\n",
      "Downloading test.zip to /content\n",
      " 50% 17.0M/34.1M [00:01<00:03, 5.66MB/s]\n",
      "100% 34.1M/34.1M [00:01<00:00, 23.5MB/s]\n",
      "Downloading train.zip to /content\n",
      " 95% 65.0M/68.6M [00:01<00:00, 27.1MB/s]\n",
      "100% 68.6M/68.6M [00:01<00:00, 41.9MB/s]\n",
      "Downloading sample_submission.csv to /content\n",
      "  0% 0.00/156k [00:00<?, ?B/s]\n",
      "100% 156k/156k [00:00<00:00, 55.1MB/s]\n"
     ]
    }
   ],
   "source": [
    "!kaggle competitions download -c recognizing-faces-in-the-wild"
   ]
  },
  {
   "cell_type": "code",
   "execution_count": 8,
   "metadata": {
    "colab": {
     "base_uri": "https://localhost:8080/",
     "height": 50
    },
    "colab_type": "code",
    "id": "Q5Km4I6sXEo1",
    "outputId": "0f4c8537-3366-4607-f789-cadfa8e682e7"
   },
   "outputs": [
    {
     "name": "stdout",
     "output_type": "stream",
     "text": [
      "CPU times: user 566 ms, sys: 70 ms, total: 636 ms\n",
      "Wall time: 4.47 s\n"
     ]
    }
   ],
   "source": [
    "%%time\n",
    "%%capture\n",
    "!unzip test.zip -d test "
   ]
  },
  {
   "cell_type": "code",
   "execution_count": 9,
   "metadata": {
    "colab": {
     "base_uri": "https://localhost:8080/",
     "height": 33
    },
    "colab_type": "code",
    "id": "IxVna2tDXhDM",
    "outputId": "03b82083-3869-4e4d-aeff-032ed3964614"
   },
   "outputs": [
    {
     "name": "stdout",
     "output_type": "stream",
     "text": [
      "The no of test images: 6282\n"
     ]
    }
   ],
   "source": [
    "print(\"The no of test images:\",len(os.listdir('test')))"
   ]
  },
  {
   "cell_type": "code",
   "execution_count": 10,
   "metadata": {
    "colab": {
     "base_uri": "https://localhost:8080/",
     "height": 50
    },
    "colab_type": "code",
    "id": "ceTWaPnwM9KY",
    "outputId": "9c8118c2-b0a8-4e0d-d45b-805cd15a9040"
   },
   "outputs": [
    {
     "name": "stdout",
     "output_type": "stream",
     "text": [
      "CPU times: user 1.6 s, sys: 160 ms, total: 1.76 s\n",
      "Wall time: 5.61 s\n"
     ]
    }
   ],
   "source": [
    "%%time\n",
    "%%capture\n",
    "!unzip train.zip -d train"
   ]
  },
  {
   "cell_type": "code",
   "execution_count": 11,
   "metadata": {
    "colab": {
     "base_uri": "https://localhost:8080/",
     "height": 33
    },
    "colab_type": "code",
    "id": "NQVBvJ8VolWI",
    "outputId": "55efef27-99e8-4eb7-d4ba-37c9518d3cb0"
   },
   "outputs": [
    {
     "name": "stdout",
     "output_type": "stream",
     "text": [
      "The no of train images: 470\n"
     ]
    }
   ],
   "source": [
    "print(\"The no of train images:\",len(os.listdir('train')))\n",
    "# here it contains both the folders and pics"
   ]
  },
  {
   "cell_type": "markdown",
   "metadata": {
    "colab_type": "text",
    "id": "mPhkMT9Sb447"
   },
   "source": [
    "<H1>Preparing of Data"
   ]
  },
  {
   "cell_type": "code",
   "execution_count": 0,
   "metadata": {
    "colab": {},
    "colab_type": "code",
    "id": "ld7j7FPjM2Bh"
   },
   "outputs": [],
   "source": [
    "train_file_path = \"train_relationships.csv\"\n",
    "train_folders_path = \"train/\"\n",
    "test_path = \"test/\"\n",
    "train_df=pd.read_csv(train_file_path)\n",
    "sample_sub_df=pd.read_csv('sample_submission.csv')\n",
    "# The above cell contain only the variables which we change in future"
   ]
  },
  {
   "cell_type": "code",
   "execution_count": 0,
   "metadata": {
    "colab": {},
    "colab_type": "code",
    "id": "VsSdlTES6GjC"
   },
   "outputs": [],
   "source": [
    "val_famillies = \"F09\"\n",
    "all_images = glob(train_folders_path + \"*/*/*.jpg\")\n",
    "train_images = [x for x in all_images if val_famillies not in x]\n",
    "val_images = [x for x in all_images if val_famillies in x]\n",
    "train_person_to_images_map = defaultdict(list)\n",
    "ppl = [x.split(\"/\")[-3] + \"/\" + x.split(\"/\")[-2] for x in all_images]\n",
    "\n",
    "for x in train_images:\n",
    "    train_person_to_images_map[x.split(\"/\")[-3] + \"/\" + x.split(\"/\")[-2]].append(x)\n",
    "\n",
    "val_person_to_images_map = defaultdict(list)\n",
    "\n",
    "for x in val_images:\n",
    "    val_person_to_images_map[x.split(\"/\")[-3] + \"/\" + x.split(\"/\")[-2]].append(x)\n",
    "relationships = pd.read_csv(train_file_path)\n",
    "relationships = list(zip(relationships.p1.values, relationships.p2.values))\n",
    "relationships = [x for x in relationships if x[0] in ppl and x[1] in ppl]\n",
    "train = [x for x in relationships if val_famillies not in x[0]]\n",
    "val = [x for x in relationships if val_famillies in x[0]]"
   ]
  },
  {
   "cell_type": "code",
   "execution_count": 0,
   "metadata": {
    "colab": {},
    "colab_type": "code",
    "id": "QBp7kHhXtKtM"
   },
   "outputs": [],
   "source": [
    "# all the images are of shape 224, 224, 3 as observed in EDA"
   ]
  },
  {
   "cell_type": "markdown",
   "metadata": {
    "colab_type": "text",
    "id": "a4IIpPw5mABl"
   },
   "source": [
    "<H1> Common util functions"
   ]
  },
  {
   "cell_type": "code",
   "execution_count": 0,
   "metadata": {
    "colab": {},
    "colab_type": "code",
    "id": "WJ0gKULvmEt6"
   },
   "outputs": [],
   "source": [
    "def get_thumbnail(path):\n",
    "    if path and os.path.exists(path):\n",
    "        i = Image.open(path)\n",
    "        i.thumbnail((150, 150), Image.LANCZOS)\n",
    "        return i\n",
    "\n",
    "def image_base64(im):\n",
    "    if isinstance(im, str):\n",
    "        im = get_thumbnail(im)\n",
    "    with BytesIO() as buffer:\n",
    "        im.save(buffer, 'jpeg')\n",
    "        return base64.b64encode(buffer.getvalue()).decode()\n",
    "\n",
    "def add_image_path(x):\n",
    "    image_path = 'train/' + x\n",
    "    if os.path.exists(image_path):\n",
    "        path = os.path.join(image_path, os.listdir(image_path)[0])\n",
    "        return path"
   ]
  },
  {
   "cell_type": "code",
   "execution_count": 0,
   "metadata": {
    "colab": {},
    "colab_type": "code",
    "id": "RnrRHAmnMn5o"
   },
   "outputs": [],
   "source": [
    "# https://www.kaggle.com/janpreets/just-another-feature-extractor-0-824-lb\n",
    "def outer_product(x):\n",
    "    \"\"\"\n",
    "    calculate outer-products of 2 tensors\n",
    "\n",
    "        args \n",
    "            x\n",
    "                list of 2 tensors\n",
    "                , assuming each of which has shape = (size_minibatch, total_pixels, size_filter)\n",
    "    \"\"\"\n",
    "    return keras.backend.batch_dot(\n",
    "                x[0]\n",
    "                , x[1]\n",
    "                , axes=[1,1]\n",
    "            ) / x[0].get_shape().as_list()[1] \n",
    "\n",
    "def signed_sqrt(x):\n",
    "    \"\"\"\n",
    "    calculate element-wise signed square root\n",
    "\n",
    "        args\n",
    "            x\n",
    "                a tensor\n",
    "    \"\"\"\n",
    "    return keras.backend.sign(x) * keras.backend.sqrt(keras.backend.abs(x) + 1e-9)\n",
    "\n",
    "def L2_norm(x, axis=-1):\n",
    "    \"\"\"\n",
    "    calculate L2-norm\n",
    "\n",
    "        args \n",
    "            x\n",
    "                a tensor\n",
    "    \"\"\"\n",
    "    return keras.backend.l2_normalize(x, axis=axis)"
   ]
  },
  {
   "cell_type": "markdown",
   "metadata": {
    "colab_type": "text",
    "id": "rJwUmF1_nRkQ"
   },
   "source": [
    "<H1>Common plotting error functions"
   ]
  },
  {
   "cell_type": "code",
   "execution_count": 0,
   "metadata": {
    "colab": {},
    "colab_type": "code",
    "id": "a-egJWpjnW9R"
   },
   "outputs": [],
   "source": [
    "def plot_accuracy(y):\n",
    "    global curr_model_hist\n",
    "    if(y == True):\n",
    "        plt.plot(curr_model_hist.history['acc'])\n",
    "        plt.plot(curr_model_hist.history['val_acc'])\n",
    "        plt.legend(['train', 'test'], loc='lower right')\n",
    "        plt.title('accuracy plot - train vs test')\n",
    "        plt.xlabel('epoch')\n",
    "        plt.ylabel('accuracy')\n",
    "        plt.show()\n",
    "    else:\n",
    "        pass\n",
    "    return\n",
    "    \n",
    "def plot_loss(y):\n",
    "    global curr_model_hist\n",
    "    if(y == True):\n",
    "        plt.plot(curr_model_hist.history['loss'])\n",
    "        plt.plot(curr_model_hist.history['val_loss'])\n",
    "        plt.legend(['training loss', 'validation loss'], loc = 'upper right')\n",
    "        plt.title('loss plot - training vs vaidation')\n",
    "        plt.xlabel('epoch')\n",
    "        plt.ylabel('loss')\n",
    "        plt.show()\n",
    "    else:\n",
    "        pass\n",
    "    return\n",
    "\n",
    "def plot_auc(y):\n",
    "    global curr_model_hist\n",
    "    if(y == True):\n",
    "        plt.plot(curr_model_hist.history['auc'])\n",
    "        plt.plot(curr_model_hist.history['val_auc'])\n",
    "        plt.legend(['training auc', 'validation auc'], loc = 'upper right')\n",
    "        plt.title('auc plot - training vs vaidation')\n",
    "        plt.xlabel('epoch')\n",
    "        plt.ylabel('loss')\n",
    "        plt.show()\n",
    "    else:\n",
    "        pass\n",
    "    return\n",
    "\n",
    "def chunker(seq, size=32):\n",
    "    return (seq[pos:pos + size] for pos in range(0, len(seq), size))\n",
    "    \n",
    "def sol_submit(curr_model):\n",
    "    submission = pd.read_csv('sample_submission.csv')\n",
    "    predictions = []\n",
    "    for batch in tqdm(chunker(submission.img_pair.values)):\n",
    "        X1 = [x.split(\"-\")[0] for x in batch]\n",
    "        X1 = np.array([read_img(test_path + x) for x in X1])\n",
    "\n",
    "        X2 = [x.split(\"-\")[1] for x in batch]\n",
    "        X2 = np.array([read_img(test_path + x) for x in X2])\n",
    "\n",
    "        pred = curr_model.predict([X1, X2]).ravel().tolist()\n",
    "        predictions += pred\n",
    "\n",
    "    submission['is_related'] = predictions\n",
    "    submission.to_csv(\"submission.csv\", index=False)\n",
    "    !kaggle competitions submit -c recognizing-faces-in-the-wild -f submission.csv -m \"Model - 5\"    "
   ]
  },
  {
   "cell_type": "code",
   "execution_count": 0,
   "metadata": {
    "colab": {},
    "colab_type": "code",
    "id": "6ZqZ0SoKeY_8"
   },
   "outputs": [],
   "source": [
    "def chunker(seq, size=32):\n",
    "    return (seq[pos:pos + size] for pos in range(0, len(seq), size))"
   ]
  },
  {
   "cell_type": "code",
   "execution_count": 0,
   "metadata": {
    "colab": {},
    "colab_type": "code",
    "id": "EyrTVMfiup2p"
   },
   "outputs": [],
   "source": [
    "# https://github.com/rcmalli/keras-vggface/blob/master/keras_vggface/utils.py\n",
    "def preprocess_input(x, data_format=None, version=1):\n",
    "    '''\n",
    "    preprocess_input will take the numpy array of image and remove the unnecessary values \n",
    "    The out ut numpy only contains thermal image of face which will have the umporatant chracters\n",
    "    Here we subtract the values from image numpy array after subtraction redundant pixels are removed\n",
    "\n",
    "    '''\n",
    "    x_temp = np.copy(x)\n",
    "    if data_format is None:\n",
    "        data_format = K.image_data_format()\n",
    "    assert data_format in {'channels_last', 'channels_first'}\n",
    "\n",
    "    if version == 1:\n",
    "        if data_format == 'channels_first':\n",
    "            x_temp = x_temp[:, ::-1, ...]\n",
    "            x_temp[:, 0, :, :] -= 93.5940\n",
    "            x_temp[:, 1, :, :] -= 104.7624\n",
    "            x_temp[:, 2, :, :] -= 129.1863\n",
    "        else:\n",
    "            x_temp = x_temp[..., ::-1]\n",
    "            x_temp[..., 0] -= 93.5940\n",
    "            x_temp[..., 1] -= 104.7624\n",
    "            x_temp[..., 2] -= 129.1863\n",
    "\n",
    "    elif version == 2:\n",
    "        if data_format == 'channels_first':\n",
    "            x_temp = x_temp[:, ::-1, ...]\n",
    "            x_temp[:, 0, :, :] -= 91.4953\n",
    "            x_temp[:, 1, :, :] -= 103.8827\n",
    "            x_temp[:, 2, :, :] -= 131.0912\n",
    "        else:\n",
    "            x_temp = x_temp[..., ::-1]\n",
    "            x_temp[..., 0] -= 91.4953\n",
    "            x_temp[..., 1] -= 103.8827\n",
    "            x_temp[..., 2] -= 131.0912\n",
    "    else:\n",
    "        raise NotImplementedError\n",
    "    return x_temp\n",
    "\n",
    "def read_img(path):\n",
    "    '''\n",
    "    read_img takes the path as input and reads the data and calls the preprocess_input function which removes \n",
    "    the unnecessary pixels and gives the face relevant pixels\n",
    "\n",
    "    '''\n",
    "    img = image.load_img(path, target_size=(224, 224))\n",
    "    img = np.array(img).astype(np.float)\n",
    "    return preprocess_input(img, version=2)"
   ]
  },
  {
   "cell_type": "code",
   "execution_count": 20,
   "metadata": {
    "colab": {
     "base_uri": "https://localhost:8080/",
     "height": 537
    },
    "colab_type": "code",
    "id": "y9xcac2fHK4k",
    "outputId": "25c8978b-8274-445a-ff9f-90ba7837033d"
   },
   "outputs": [
    {
     "data": {
      "image/png": "[encoded data removed]",
      "text/plain": [
       "<Figure size 432x288 with 1 Axes>"
      ]
     },
     "metadata": {
      "tags": []
     },
     "output_type": "display_data"
    },
    {
     "name": "stderr",
     "output_type": "stream",
     "text": [
      "Clipping input data to the valid range for imshow with RGB data ([0..1] for floats or [0..255] for integers).\n"
     ]
    },
    {
     "data": {
      "image/png": "[encoded data removed]",
      "text/plain": [
       "<Figure size 432x288 with 1 Axes>"
      ]
     },
     "metadata": {
      "tags": []
     },
     "output_type": "display_data"
    }
   ],
   "source": [
    "img=mpimg.imread('train/F0284/MID4/' + os.listdir('train/F0284/MID4')[0])\n",
    "imgplot = plt.imshow(img)\n",
    "plt.show()\n",
    "\n",
    "readnp = read_img('train/F0284/MID4/' + os.listdir('train/F0284/MID4')[0])\n",
    "plt.imshow(readnp)\n",
    "plt.show()"
   ]
  },
  {
   "cell_type": "code",
   "execution_count": 21,
   "metadata": {
    "colab": {
     "base_uri": "https://localhost:8080/",
     "height": 67
    },
    "colab_type": "code",
    "id": "7NK6srhc1nw1",
    "outputId": "fe5a63e7-c0bf-4e76-cb75-059628c9f7f4"
   },
   "outputs": [
    {
     "name": "stdout",
     "output_type": "stream",
     "text": [
      "Total no of families : 470\n",
      "Total no images inside all the folders :  12379\n"
     ]
    },
    {
     "data": {
      "text/plain": [
       "1"
      ]
     },
     "execution_count": 21,
     "metadata": {
      "tags": []
     },
     "output_type": "execute_result"
    }
   ],
   "source": [
    "# The above cell contain only the variables which we change in future\n",
    "family_folder_names = [x for x in os.listdir(train_folders_path) if 'F' in x]\n",
    "print(\"Total no of families :\",len(family_folder_names))\n",
    "\n",
    "all_images = glob(train_folders_path + \"*/*/*.jpg\")\n",
    "print(\"Total no images inside all the folders : \",len(all_images))\n",
    "\n",
    "samp_fam_path = train_folders_path+family_folder_names[1]\n",
    "samp_img_path = os.listdir(samp_fam_path)[1]\n",
    "len(os.listdir(samp_fam_path +\"/\"+ samp_img_path))"
   ]
  },
  {
   "cell_type": "code",
   "execution_count": 22,
   "metadata": {
    "colab": {
     "base_uri": "https://localhost:8080/",
     "height": 33
    },
    "colab_type": "code",
    "id": "jPvSbusDF6QK",
    "outputId": "15fd9f29-852f-4b6c-c51a-f349fe0ec907"
   },
   "outputs": [
    {
     "data": {
      "text/plain": [
       "<Figure size 576x576 with 0 Axes>"
      ]
     },
     "metadata": {
      "tags": []
     },
     "output_type": "display_data"
    }
   ],
   "source": [
    "w=10\n",
    "h=10\n",
    "fig=plt.figure(figsize=(8, 8))\n",
    "columns = 2\n",
    "rows = 4\n",
    "img_path = samp_fam_path +\"/\"+ samp_img_path +\"/\"\n",
    "files=os.listdir(img_path)\n",
    "try:\n",
    "    for i in range(1, columns*rows +1,2):\n",
    "        img = mpimg.imread(img_path+files[i],0)\n",
    "        fig.add_subplot(rows, columns, i)\n",
    "        plt.imshow(img)\n",
    "        \n",
    "        img = read_img(img_path+files[i])\n",
    "        fig.add_subplot(rows, columns, i+1)\n",
    "        plt.imshow(img)\n",
    "    plt.show()\n",
    "except:\n",
    "    pass   "
   ]
  },
  {
   "cell_type": "markdown",
   "metadata": {
    "colab_type": "text",
    "id": "r0PadgYnsOur"
   },
   "source": [
    "<H1>Model  Architectures"
   ]
  },
  {
   "cell_type": "code",
   "execution_count": 0,
   "metadata": {
    "colab": {},
    "colab_type": "code",
    "id": "hJAtL391sSG-"
   },
   "outputs": [],
   "source": [
    "def gen(list_tuples, person_to_images_map, batch_size=16):\n",
    "    '''\n",
    "    This function is use to generate the generators .\n",
    "    It takes input of personid\n",
    "    '''\n",
    "    ppl = list(person_to_images_map.keys())\n",
    "    while True:\n",
    "        batch_tuples = sample(list_tuples, batch_size // 2)\n",
    "        labels = [1] * len(batch_tuples)\n",
    "        while len(batch_tuples) < batch_size:\n",
    "            p1 = choice(ppl)\n",
    "            # https://www.geeksforgeeks.org/python-numbers-choice-function/  so p1 ,p2 contains the random member id'\n",
    "            p2 = choice(ppl)\n",
    "\n",
    "            if p1 != p2 and (p1, p2) not in list_tuples and (p2, p1) not in list_tuples:\n",
    "                batch_tuples.append((p1, p2))\n",
    "                labels.append(0)\n",
    "\n",
    "        for x in batch_tuples:\n",
    "            if not len(person_to_images_map[x[0]]):\n",
    "                print(x[0])\n",
    "        # the above line prints the member id if the meber doesn't exist \n",
    "        # it is just to keep a safe check                 \n",
    "\n",
    "        X1 = [choice(person_to_images_map[x[0]]) for x in batch_tuples]\n",
    "        X1 = np.array([read_img(x) for x in X1])\n",
    "        # X1 is a numpy array in which X1[0] is the numpy array of x[0] images after preprocessed\n",
    "        #                   X1[1] is the numpy array of x[1] images after preprocessed\n",
    "\n",
    "        X2 = [choice(person_to_images_map[x[1]]) for x in batch_tuples]\n",
    "        X2 = np.array([read_img(x) for x in X2])\n",
    "\n",
    "        # https://pythontips.com/2013/09/29/the-python-yield-keyword-explained/\n",
    "        yield [X1, X2], labels\n",
    "\n",
    "def siamese_model_2():\n",
    "    input_1 = Input(shape=(224, 224, 3))\n",
    "    input_2 = Input(shape=(224, 224, 3))\n",
    "\n",
    "    base_model = VGGFace(model='resnet50', include_top=False,input_shape=(224, 224, 3))\n",
    "\n",
    "    for x in base_model.layers[:-3]:\n",
    "        x.trainable = True\n",
    "\n",
    "    x1 = base_model(input_1)\n",
    "    x2 = base_model(input_2)\n",
    "\n",
    "    x1 = Concatenate(axis=-1)([GlobalAvgPool2D()(x1), GlobalAvgPool2D()(x1)])\n",
    "    x2 = Concatenate(axis=-1)([GlobalMaxPool2D()(x2), GlobalAvgPool2D()(x2)])\n",
    "    x3 = Subtract()([x1, x2])\n",
    "    x3 = Multiply()([x3, x3])  \n",
    "    x1_ = Multiply()([x1, x1])\n",
    "    x2_ = Multiply()([x2, x2])\n",
    "    x4  = Subtract()([x1_, x2_])    \n",
    "    x   = Concatenate(axis=-1)([x4, x3])\n",
    "    x   = Reshape(input_shape=(8192,), target_shape=(8192, 1))(x)\n",
    "    x   = Conv1D(filters=512, kernel_size=8 ,strides=8,input_shape=( 8192,1),dilation_rate = 1,\n",
    "                  activation= 'relu',kernel_regularizer=l2(1e-5),\n",
    "                   kernel_initializer='uniform',\n",
    "                 bias_initializer=initialize_bias)(x)\n",
    "    x   = Conv1D( 512,8,activation= 'relu')(x)\n",
    "    x   = Conv1D( 512,8,activation= 'relu')(x)\n",
    "    x   = Conv1D( 256,8,activation= 'relu')(x)\n",
    "    x   = Conv1D( 256,8,activation= 'relu')(x)\n",
    "    x   = Conv1D( 128,8,activation= 'relu')(x)\n",
    "    x   = Conv1D( 128,8,activation= 'relu')(x)\n",
    "    x   = Dropout(0.15)(x)\n",
    "    x   = Conv1D( 128,8,activation= 'relu')(x)\n",
    "    x   = Conv1D( 128,8,activation= 'relu')(x)\n",
    "    x   = Flatten()(x)\n",
    "    x   = Dense(128, activation=\"relu\")(x) \n",
    "    \n",
    "    out = Dense(1, activation=\"sigmoid\")(x)\n",
    "    model = Model([input_1, input_2], out)\n",
    "    model.compile(loss=\"binary_crossentropy\", metrics=['acc',auc], optimizer=Adam(0.00001,decay=1e-6))\n",
    "    model.summary()\n",
    "    return model\n",
    " "
   ]
  },
  {
   "cell_type": "code",
   "execution_count": 0,
   "metadata": {
    "colab": {},
    "colab_type": "code",
    "id": "oxNriaz6JTXV"
   },
   "outputs": [],
   "source": [
    "\n",
    "def siamese_model():\n",
    "    input_1 = Input(shape=(224, 224, 3))\n",
    "    input_2 = Input(shape=(224, 224, 3))\n",
    "    base_model = VGGFace(model='resnet50', include_top=False,input_shape=(224, 224, 3))\n",
    "\n",
    "    for x in base_model.layers[:-3]:\n",
    "        x.trainable = True\n",
    "\n",
    "    x1 = base_model(input_1)\n",
    "    x2 = base_model(input_2)\n",
    "\n",
    "    x1 = Concatenate(axis=-1)([GlobalAvgPool2D()(x1), GlobalAvgPool2D()(x1)])\n",
    "    x2 = Concatenate(axis=-1)([GlobalMaxPool2D()(x2), GlobalAvgPool2D()(x2)])\n",
    "    x3 = Subtract()([x1, x2])\n",
    "    x3 = Multiply()([x3, x3])  \n",
    "    x1_ = Multiply()([x1, x1])\n",
    "    x2_ = Multiply()([x2, x2])\n",
    "    x4  = Subtract()([x1_, x2_])    \n",
    "    x   = Concatenate(axis=-1)([x4, x3])\n",
    "    x   = Reshape(input_shape=(8192,), target_shape=(8192, 1))(x)\n",
    "    \n",
    "    \"\"\"    x   = Conv1D(filters=100, kernel_size=3 ,strides=3,input_shape=( 8192,1),dilation_rate = 1,\n",
    "                  activation= 'relu',kernel_regularizer=l2(1e-5),\n",
    "                   kernel_initializer='uniform',\n",
    "                 bias_initializer=initialize_bias)(x)\n",
    "    x   = Conv1D( 100,3,activation= 'relu', kernel_initializer= 'he_uniform')(x)\n",
    "    x   = Flatten()(x)\n",
    "  \n",
    "    x   = Dense(100, activation=\"relu\")(x) \n",
    "    x   = Dropout(0.2)(x)   \n",
    "    x   = Dense(128, activation=\"relu\")(x) \"\"\"\n",
    "    x = Conv1D(filters=100,\n",
    "               kernel_size=8,\n",
    "               strides=8,input_shape=( 8192,1),\n",
    "               activation='relu',\n",
    "               padding='same')(x)\n",
    "    x   = Conv1D( 100,8,activation= 'relu')(x)\n",
    "    x   = LSTM(128, return_sequences=True)(x)\n",
    "    x   = Dropout(0.1)(x)\n",
    "    x   = LSTM(128, return_sequences=True)(x)\n",
    "    x   = BatchNormalization ()(x)\n",
    "    x   = Flatten()(x)\n",
    "    x   = Dense(100, activation=\"relu\")(x) \n",
    "    \n",
    "    out = Dense(1, activation=\"sigmoid\")(x)\n",
    "    model = Model([input_1, input_2], out)\n",
    "    model.compile(loss=\"binary_crossentropy\", metrics=['acc',auc], optimizer=Adam(0.00001,decay=1e-6))\n",
    "    model.summary()\n",
    "\n",
    "    # model.summary()\n",
    "\n",
    "    return model\n"
   ]
  },
  {
   "cell_type": "markdown",
   "metadata": {
    "colab_type": "text",
    "id": "5t7MMxgzfrbw"
   },
   "source": [
    "<H1>1. Model 1 Training "
   ]
  },
  {
   "cell_type": "code",
   "execution_count": 0,
   "metadata": {
    "colab": {},
    "colab_type": "code",
    "id": "14mmE6DAI2TS"
   },
   "outputs": [],
   "source": [
    "from glob import glob\n",
    "from random import choice, sample\n",
    "from keras.callbacks import ModelCheckpoint, ReduceLROnPlateau\n",
    "from keras.layers import Input, Dense, Flatten, GlobalMaxPool2D, GlobalAvgPool2D, Concatenate, Multiply, Dropout, Subtract, Add, Conv2D\n",
    "from keras.models import Model\n",
    "from keras.preprocessing import image\n",
    "from keras.optimizers import Adam\n",
    "from keras_vggface.utils import preprocess_input\n",
    "from keras_vggface.vggface import VGGFace\n",
    "from keras.models import load_model"
   ]
  },
  {
   "cell_type": "code",
   "execution_count": 0,
   "metadata": {
    "colab": {},
    "colab_type": "code",
    "id": "aZNFnGyPQcI-"
   },
   "outputs": [],
   "source": [
    "def auc(y_true, y_pred):\n",
    "    return tf.py_func(roc_auc_score, (y_true, y_pred), tf.double)  "
   ]
  },
  {
   "cell_type": "code",
   "execution_count": 27,
   "metadata": {
    "colab": {
     "base_uri": "https://localhost:8080/",
     "height": 1000
    },
    "colab_type": "code",
    "id": "w-WE1jOyNFcX",
    "outputId": "d7e10a52-967d-4d28-b8af-a7867d83d5c9"
   },
   "outputs": [
    {
     "name": "stdout",
     "output_type": "stream",
     "text": [
      "WARNING:tensorflow:From /usr/local/lib/python3.6/dist-packages/keras/backend/tensorflow_backend.py:66: The name tf.get_default_graph is deprecated. Please use tf.compat.v1.get_default_graph instead.\n",
      "\n",
      "WARNING:tensorflow:From /usr/local/lib/python3.6/dist-packages/keras/backend/tensorflow_backend.py:541: The name tf.placeholder is deprecated. Please use tf.compat.v1.placeholder instead.\n",
      "\n",
      "WARNING:tensorflow:From /usr/local/lib/python3.6/dist-packages/keras/backend/tensorflow_backend.py:4432: The name tf.random_uniform is deprecated. Please use tf.random.uniform instead.\n",
      "\n",
      "WARNING:tensorflow:From /usr/local/lib/python3.6/dist-packages/keras/backend/tensorflow_backend.py:190: The name tf.get_default_session is deprecated. Please use tf.compat.v1.get_default_session instead.\n",
      "\n",
      "WARNING:tensorflow:From /usr/local/lib/python3.6/dist-packages/keras/backend/tensorflow_backend.py:197: The name tf.ConfigProto is deprecated. Please use tf.compat.v1.ConfigProto instead.\n",
      "\n",
      "WARNING:tensorflow:From /usr/local/lib/python3.6/dist-packages/keras/backend/tensorflow_backend.py:203: The name tf.Session is deprecated. Please use tf.compat.v1.Session instead.\n",
      "\n",
      "WARNING:tensorflow:From /usr/local/lib/python3.6/dist-packages/keras/backend/tensorflow_backend.py:207: The name tf.global_variables is deprecated. Please use tf.compat.v1.global_variables instead.\n",
      "\n",
      "WARNING:tensorflow:From /usr/local/lib/python3.6/dist-packages/keras/backend/tensorflow_backend.py:216: The name tf.is_variable_initialized is deprecated. Please use tf.compat.v1.is_variable_initialized instead.\n",
      "\n",
      "WARNING:tensorflow:From /usr/local/lib/python3.6/dist-packages/keras/backend/tensorflow_backend.py:223: The name tf.variables_initializer is deprecated. Please use tf.compat.v1.variables_initializer instead.\n",
      "\n",
      "WARNING:tensorflow:From /usr/local/lib/python3.6/dist-packages/keras/backend/tensorflow_backend.py:2041: The name tf.nn.fused_batch_norm is deprecated. Please use tf.compat.v1.nn.fused_batch_norm instead.\n",
      "\n",
      "WARNING:tensorflow:From /usr/local/lib/python3.6/dist-packages/keras/backend/tensorflow_backend.py:148: The name tf.placeholder_with_default is deprecated. Please use tf.compat.v1.placeholder_with_default instead.\n",
      "\n",
      "WARNING:tensorflow:From /usr/local/lib/python3.6/dist-packages/keras/backend/tensorflow_backend.py:4267: The name tf.nn.max_pool is deprecated. Please use tf.nn.max_pool2d instead.\n",
      "\n",
      "WARNING:tensorflow:From /usr/local/lib/python3.6/dist-packages/keras/backend/tensorflow_backend.py:4271: The name tf.nn.avg_pool is deprecated. Please use tf.nn.avg_pool2d instead.\n",
      "\n",
      "Downloading data from https://github.com/rcmalli/keras-vggface/releases/download/v2.0/rcmalli_vggface_tf_notop_resnet50.h5\n",
      "94699520/94694792 [==============================] - 7s 0us/step\n",
      "WARNING:tensorflow:From /usr/local/lib/python3.6/dist-packages/keras/backend/tensorflow_backend.py:3733: calling dropout (from tensorflow.python.ops.nn_ops) with keep_prob is deprecated and will be removed in a future version.\n",
      "Instructions for updating:\n",
      "Please use `rate` instead of `keep_prob`. Rate should be set to `rate = 1 - keep_prob`.\n",
      "WARNING:tensorflow:From /usr/local/lib/python3.6/dist-packages/keras/optimizers.py:793: The name tf.train.Optimizer is deprecated. Please use tf.compat.v1.train.Optimizer instead.\n",
      "\n",
      "WARNING:tensorflow:From /usr/local/lib/python3.6/dist-packages/keras/backend/tensorflow_backend.py:3657: The name tf.log is deprecated. Please use tf.math.log instead.\n",
      "\n",
      "WARNING:tensorflow:From /usr/local/lib/python3.6/dist-packages/tensorflow_core/python/ops/nn_impl.py:183: where (from tensorflow.python.ops.array_ops) is deprecated and will be removed in a future version.\n",
      "Instructions for updating:\n",
      "Use tf.where in 2.0, which has the same broadcast rule as np.where\n",
      "WARNING:tensorflow:From <ipython-input-26-e15429c57510>:2: py_func (from tensorflow.python.ops.script_ops) is deprecated and will be removed in a future version.\n",
      "Instructions for updating:\n",
      "tf.py_func is deprecated in TF V2. Instead, there are two\n",
      "    options available in V2.\n",
      "    - tf.py_function takes a python function which manipulates tf eager\n",
      "    tensors instead of numpy arrays. It's easy to convert a tf eager tensor to\n",
      "    an ndarray (just call tensor.numpy()) but having access to eager tensors\n",
      "    means `tf.py_function`s can use accelerators such as GPUs as well as\n",
      "    being differentiable using a gradient tape.\n",
      "    - tf.numpy_function maintains the semantics of the deprecated tf.py_func\n",
      "    (it is not differentiable, and manipulates numpy arrays). It drops the\n",
      "    stateful argument making all functions stateful.\n",
      "    \n",
      "Model: \"model_1\"\n",
      "__________________________________________________________________________________________________\n",
      "Layer (type)                    Output Shape         Param #     Connected to                     \n",
      "==================================================================================================\n",
      "input_1 (InputLayer)            (None, 224, 224, 3)  0                                            \n",
      "__________________________________________________________________________________________________\n",
      "input_2 (InputLayer)            (None, 224, 224, 3)  0                                            \n",
      "__________________________________________________________________________________________________\n",
      "vggface_resnet50 (Model)        (None, 1, 1, 2048)   23561152    input_1[0][0]                    \n",
      "                                                                 input_2[0][0]                    \n",
      "__________________________________________________________________________________________________\n",
      "global_average_pooling2d_1 (Glo (None, 2048)         0           vggface_resnet50[1][0]           \n",
      "__________________________________________________________________________________________________\n",
      "global_average_pooling2d_2 (Glo (None, 2048)         0           vggface_resnet50[1][0]           \n",
      "__________________________________________________________________________________________________\n",
      "global_max_pooling2d_1 (GlobalM (None, 2048)         0           vggface_resnet50[2][0]           \n",
      "__________________________________________________________________________________________________\n",
      "global_average_pooling2d_3 (Glo (None, 2048)         0           vggface_resnet50[2][0]           \n",
      "__________________________________________________________________________________________________\n",
      "concatenate_1 (Concatenate)     (None, 4096)         0           global_average_pooling2d_1[0][0] \n",
      "                                                                 global_average_pooling2d_2[0][0] \n",
      "__________________________________________________________________________________________________\n",
      "concatenate_2 (Concatenate)     (None, 4096)         0           global_max_pooling2d_1[0][0]     \n",
      "                                                                 global_average_pooling2d_3[0][0] \n",
      "__________________________________________________________________________________________________\n",
      "multiply_2 (Multiply)           (None, 4096)         0           concatenate_1[0][0]              \n",
      "                                                                 concatenate_1[0][0]              \n",
      "__________________________________________________________________________________________________\n",
      "multiply_3 (Multiply)           (None, 4096)         0           concatenate_2[0][0]              \n",
      "                                                                 concatenate_2[0][0]              \n",
      "__________________________________________________________________________________________________\n",
      "subtract_1 (Subtract)           (None, 4096)         0           concatenate_1[0][0]              \n",
      "                                                                 concatenate_2[0][0]              \n",
      "__________________________________________________________________________________________________\n",
      "subtract_2 (Subtract)           (None, 4096)         0           multiply_2[0][0]                 \n",
      "                                                                 multiply_3[0][0]                 \n",
      "__________________________________________________________________________________________________\n",
      "multiply_1 (Multiply)           (None, 4096)         0           subtract_1[0][0]                 \n",
      "                                                                 subtract_1[0][0]                 \n",
      "__________________________________________________________________________________________________\n",
      "concatenate_3 (Concatenate)     (None, 8192)         0           subtract_2[0][0]                 \n",
      "                                                                 multiply_1[0][0]                 \n",
      "__________________________________________________________________________________________________\n",
      "reshape_1 (Reshape)             (None, 8192, 1)      0           concatenate_3[0][0]              \n",
      "__________________________________________________________________________________________________\n",
      "conv1d_1 (Conv1D)               (None, 1024, 100)    900         reshape_1[0][0]                  \n",
      "__________________________________________________________________________________________________\n",
      "conv1d_2 (Conv1D)               (None, 1017, 100)    80100       conv1d_1[0][0]                   \n",
      "__________________________________________________________________________________________________\n",
      "lstm_1 (LSTM)                   (None, 1017, 128)    117248      conv1d_2[0][0]                   \n",
      "__________________________________________________________________________________________________\n",
      "dropout_1 (Dropout)             (None, 1017, 128)    0           lstm_1[0][0]                     \n",
      "__________________________________________________________________________________________________\n",
      "lstm_2 (LSTM)                   (None, 1017, 128)    131584      dropout_1[0][0]                  \n",
      "__________________________________________________________________________________________________\n",
      "batch_normalization_1 (BatchNor (None, 1017, 128)    512         lstm_2[0][0]                     \n",
      "__________________________________________________________________________________________________\n",
      "flatten_1 (Flatten)             (None, 130176)       0           batch_normalization_1[0][0]      \n",
      "__________________________________________________________________________________________________\n",
      "dense_1 (Dense)                 (None, 100)          13017700    flatten_1[0][0]                  \n",
      "__________________________________________________________________________________________________\n",
      "dense_2 (Dense)                 (None, 1)            101         dense_1[0][0]                    \n",
      "==================================================================================================\n",
      "Total params: 36,909,297\n",
      "Trainable params: 36,855,921\n",
      "Non-trainable params: 53,376\n",
      "__________________________________________________________________________________________________\n"
     ]
    }
   ],
   "source": [
    "curr_model = siamese_model()"
   ]
  },
  {
   "cell_type": "code",
   "execution_count": 0,
   "metadata": {
    "colab": {},
    "colab_type": "code",
    "id": "t0JKCMYOCXXj"
   },
   "outputs": [],
   "source": [
    "gen_train = gen(train, train_person_to_images_map, batch_size=8)\n",
    "gen_val = gen(val, val_person_to_images_map, batch_size=8)\n",
    "# gen_train, gen_val are the generators"
   ]
  },
  {
   "cell_type": "code",
   "execution_count": 0,
   "metadata": {
    "colab": {},
    "colab_type": "code",
    "id": "GGl-ULqg5NTw"
   },
   "outputs": [],
   "source": [
    "test_path = \"test/\"\n",
    "\n",
    "checkpoint = ModelCheckpoint('model_best_checkpoint.h5', monitor='val_acc', verbose=1, save_best_only=True, mode='max')\n",
    "reduce_on_plateau = ReduceLROnPlateau(monitor=\"val_acc\", mode=\"max\", factor=0.1, patience=20, verbose=1)\n",
    "callbacks_list = [checkpoint, reduce_on_plateau]"
   ]
  },
  {
   "cell_type": "code",
   "execution_count": 30,
   "metadata": {
    "colab": {
     "base_uri": "https://localhost:8080/",
     "height": 1000
    },
    "colab_type": "code",
    "id": "sVI6K_c5EGFA",
    "outputId": "53e57f47-6c6b-4146-81e0-6be5c855e09e"
   },
   "outputs": [
    {
     "name": "stdout",
     "output_type": "stream",
     "text": [
      "WARNING:tensorflow:From /usr/local/lib/python3.6/dist-packages/keras/backend/tensorflow_backend.py:1033: The name tf.assign_add is deprecated. Please use tf.compat.v1.assign_add instead.\n",
      "\n",
      "WARNING:tensorflow:From /usr/local/lib/python3.6/dist-packages/keras/backend/tensorflow_backend.py:1020: The name tf.assign is deprecated. Please use tf.compat.v1.assign instead.\n",
      "\n",
      "Epoch 1/20\n",
      "100/100 [==============================] - 642s 6s/step - loss: 0.6726 - acc: 0.6437 - auc: 0.6762 - val_loss: 0.6803 - val_acc: 0.6475 - val_auc: 0.7000\n",
      "\n",
      "Epoch 00001: val_acc improved from -inf to 0.64750, saving model to model_best_checkpoint.h5\n",
      "Epoch 2/20\n",
      "100/100 [==============================] - 618s 6s/step - loss: 0.5619 - acc: 0.7087 - auc: 0.7794 - val_loss: 1.0720 - val_acc: 0.5475 - val_auc: 0.7425\n",
      "\n",
      "Epoch 00002: val_acc did not improve from 0.64750\n",
      "Epoch 3/20\n",
      "100/100 [==============================] - 605s 6s/step - loss: 0.5192 - acc: 0.7438 - auc: 0.8175 - val_loss: 0.6159 - val_acc: 0.6837 - val_auc: 0.7500\n",
      "\n",
      "Epoch 00003: val_acc improved from 0.64750 to 0.68375, saving model to model_best_checkpoint.h5\n",
      "Epoch 4/20\n",
      "100/100 [==============================] - 622s 6s/step - loss: 0.5383 - acc: 0.7175 - auc: 0.8000 - val_loss: 0.6716 - val_acc: 0.6475 - val_auc: 0.7794\n",
      "\n",
      "Epoch 00004: val_acc did not improve from 0.68375\n",
      "Epoch 5/20\n",
      "100/100 [==============================] - 620s 6s/step - loss: 0.4872 - acc: 0.7600 - auc: 0.8425 - val_loss: 0.8353 - val_acc: 0.6112 - val_auc: 0.8356\n",
      "\n",
      "Epoch 00005: val_acc did not improve from 0.68375\n",
      "Epoch 6/20\n",
      "100/100 [==============================] - 620s 6s/step - loss: 0.4981 - acc: 0.7412 - auc: 0.8369 - val_loss: 0.6601 - val_acc: 0.6887 - val_auc: 0.8044\n",
      "\n",
      "Epoch 00006: val_acc improved from 0.68375 to 0.68875, saving model to model_best_checkpoint.h5\n",
      "Epoch 7/20\n",
      "100/100 [==============================] - 607s 6s/step - loss: 0.4543 - acc: 0.7675 - auc: 0.8525 - val_loss: 0.9598 - val_acc: 0.6188 - val_auc: 0.8237\n",
      "\n",
      "Epoch 00007: val_acc did not improve from 0.68875\n",
      "Epoch 8/20\n",
      "100/100 [==============================] - 604s 6s/step - loss: 0.4573 - acc: 0.7812 - auc: 0.8575 - val_loss: 0.9881 - val_acc: 0.6200 - val_auc: 0.8275\n",
      "\n",
      "Epoch 00008: val_acc did not improve from 0.68875\n",
      "Epoch 9/20\n",
      "100/100 [==============================] - 604s 6s/step - loss: 0.4697 - acc: 0.7687 - auc: 0.8512 - val_loss: 1.0460 - val_acc: 0.5887 - val_auc: 0.8000\n",
      "\n",
      "Epoch 00009: val_acc did not improve from 0.68875\n",
      "Epoch 10/20\n",
      "100/100 [==============================] - 614s 6s/step - loss: 0.4546 - acc: 0.7750 - auc: 0.8481 - val_loss: 0.8575 - val_acc: 0.6362 - val_auc: 0.8100\n",
      "\n",
      "Epoch 00010: val_acc did not improve from 0.68875\n",
      "Epoch 11/20\n",
      "100/100 [==============================] - 617s 6s/step - loss: 0.4698 - acc: 0.7650 - auc: 0.8413 - val_loss: 0.9317 - val_acc: 0.6112 - val_auc: 0.8019\n",
      "\n",
      "Epoch 00011: val_acc did not improve from 0.68875\n",
      "Epoch 12/20\n",
      "100/100 [==============================] - 617s 6s/step - loss: 0.4415 - acc: 0.7938 - auc: 0.8700 - val_loss: 0.9969 - val_acc: 0.6088 - val_auc: 0.8719\n",
      "\n",
      "Epoch 00012: val_acc did not improve from 0.68875\n",
      "Epoch 13/20\n",
      "100/100 [==============================] - 617s 6s/step - loss: 0.4552 - acc: 0.7800 - auc: 0.8419 - val_loss: 0.9461 - val_acc: 0.6225 - val_auc: 0.8656\n",
      "\n",
      "Epoch 00013: val_acc did not improve from 0.68875\n",
      "Epoch 14/20\n",
      "100/100 [==============================] - 612s 6s/step - loss: 0.4750 - acc: 0.7712 - auc: 0.8475 - val_loss: 1.0341 - val_acc: 0.6375 - val_auc: 0.8612\n",
      "\n",
      "Epoch 00014: val_acc did not improve from 0.68875\n",
      "Epoch 15/20\n",
      "100/100 [==============================] - 610s 6s/step - loss: 0.4707 - acc: 0.7812 - auc: 0.8538 - val_loss: 0.5720 - val_acc: 0.7312 - val_auc: 0.8094\n",
      "\n",
      "Epoch 00015: val_acc improved from 0.68875 to 0.73125, saving model to model_best_checkpoint.h5\n",
      "Epoch 16/20\n",
      "100/100 [==============================] - 620s 6s/step - loss: 0.4295 - acc: 0.7963 - auc: 0.8713 - val_loss: 0.7432 - val_acc: 0.6750 - val_auc: 0.8712\n",
      "\n",
      "Epoch 00016: val_acc did not improve from 0.73125\n",
      "Epoch 17/20\n",
      "100/100 [==============================] - 629s 6s/step - loss: 0.3820 - acc: 0.8238 - auc: 0.9038 - val_loss: 0.7327 - val_acc: 0.7037 - val_auc: 0.8631\n",
      "\n",
      "Epoch 00017: val_acc did not improve from 0.73125\n",
      "Epoch 18/20\n",
      "100/100 [==============================] - 622s 6s/step - loss: 0.4354 - acc: 0.8000 - auc: 0.8725 - val_loss: 0.6121 - val_acc: 0.6987 - val_auc: 0.8756\n",
      "\n",
      "Epoch 00018: val_acc did not improve from 0.73125\n",
      "Epoch 19/20\n",
      "100/100 [==============================] - 614s 6s/step - loss: 0.3976 - acc: 0.8113 - auc: 0.8912 - val_loss: 0.8146 - val_acc: 0.6475 - val_auc: 0.8569\n",
      "\n",
      "Epoch 00019: val_acc did not improve from 0.73125\n",
      "Epoch 20/20\n",
      "100/100 [==============================] - 614s 6s/step - loss: 0.3872 - acc: 0.8300 - auc: 0.9038 - val_loss: 0.5240 - val_acc: 0.7612 - val_auc: 0.8462\n",
      "\n",
      "Epoch 00020: val_acc improved from 0.73125 to 0.76125, saving model to model_best_checkpoint.h5\n"
     ]
    }
   ],
   "source": [
    "import gc\n",
    "gc.collect()\n",
    "\n",
    "curr_model_hist=curr_model.fit_generator(gen_train, use_multiprocessing=True,\n",
    "                    validation_data=gen_val, epochs=20, verbose=1,\n",
    "                    workers = 4, callbacks=callbacks_list, steps_per_epoch=100, validation_steps=100)\n"
   ]
  },
  {
   "cell_type": "code",
   "execution_count": 31,
   "metadata": {
    "colab": {
     "base_uri": "https://localhost:8080/",
     "height": 33
    },
    "colab_type": "code",
    "id": "6xX3YvTAsHb6",
    "outputId": "3b35ced4-0118-48bf-c602-1df932546281"
   },
   "outputs": [
    {
     "data": {
      "text/plain": [
       "'drive/My Drive/AAIC/north-east-smile/model-5'"
      ]
     },
     "execution_count": 31,
     "metadata": {
      "tags": []
     },
     "output_type": "execute_result"
    }
   ],
   "source": [
    "# https://www.journaldev.com/15638/python-pickle-example\n",
    "\n",
    "# open a file, where you ant to store the data\n",
    "file = open('model-5', 'wb')\n",
    "# dump information to that file\n",
    "pickle.dump(curr_model_hist, file)\n",
    "# close the file\n",
    "file.close()\n",
    "shutil.copy('model-5','drive/My Drive/AAIC/north-east-smile/')"
   ]
  },
  {
   "cell_type": "code",
   "execution_count": 33,
   "metadata": {
    "colab": {
     "base_uri": "https://localhost:8080/",
     "height": 639
    },
    "colab_type": "code",
    "id": "4tb-w9BTZSxz",
    "outputId": "03589043-2e33-42e8-c3b3-f6a0c38073d3"
   },
   "outputs": [
    {
     "data": {
      "image/png": "[encoded data removed]",
      "text/plain": [
       "<Figure size 432x288 with 1 Axes>"
      ]
     },
     "metadata": {
      "tags": []
     },
     "output_type": "display_data"
    },
    {
     "data": {
      "image/png": "[encoded data removed]",
      "text/plain": [
       "<Figure size 432x288 with 1 Axes>"
      ]
     },
     "metadata": {
      "tags": []
     },
     "output_type": "display_data"
    },
    {
     "name": "stderr",
     "output_type": "stream",
     "text": [
      "166it [06:11,  2.70s/it]\n"
     ]
    },
    {
     "name": "stdout",
     "output_type": "stream",
     "text": [
      "Warning: Looks like you're using an outdated API Version, please consider updating (server 1.5.6 / client 1.5.4)\n",
      "100% 246k/246k [00:05<00:00, 42.4kB/s]\n",
      "Successfully submitted to Northeastern SMILE Lab - Recognizing Faces in the Wild"
     ]
    }
   ],
   "source": [
    "plot_accuracy(True)\n",
    "plot_loss(True)\n",
    "# plot_auc(True)\n",
    "sol_submit(curr_model_hist.model)"
   ]
  },
  {
   "cell_type": "code",
   "execution_count": 35,
   "metadata": {
    "colab": {
     "base_uri": "https://localhost:8080/",
     "height": 33
    },
    "colab_type": "code",
    "id": "omhnukfPKGcC",
    "outputId": "ca931e50-c551-46cc-f8e8-e2b58615caf5"
   },
   "outputs": [
    {
     "data": {
      "text/plain": [
       "'drive/My Drive/AAIC/north-east-smile/model-6.h5'"
      ]
     },
     "execution_count": 35,
     "metadata": {
      "tags": []
     },
     "output_type": "execute_result"
    }
   ],
   "source": [
    "shutil.copy('model_best_checkpoint.h5','model-6.h5')\n",
    "shutil.copy('model-6.h5','drive/My Drive/AAIC/north-east-smile/')\n",
    "# os.rename('drive/My Drive/AAIC/north-east-smile/model_best_checkpoint.h5')"
   ]
  },
  {
   "cell_type": "markdown",
   "metadata": {
    "colab_type": "text",
    "id": "mFL0oW42_3qd"
   },
   "source": [
    "<H1> References : </H1>\n",
    "Joseph P Robinson, Ming Shao, Hongfu Liu, Yue Wu, Timothy Gillis, and Yun Fu. \"Visual Kinship Recognition of Families In the Wild\" IEEE TPAMI Special Edition: Computational Face (2018). paper\n",
    "\n",
    "Joseph P Robinson, Ming Shao, Handong Zhao, Yue Wu, Timothy Gillis, Yun Fu. \"Recognizing Families In the Wild (RFIW): Data Challenge Workshop in conjunction with ACM MM 2017,\" ACM Multimedia Conference: Workshop on RFIW (2017). paper\n",
    "\n",
    "Shuyang Wang, Joseph P Robinson, and Yun Fu. “Kinship Verification on Families in the Wild with Marginalized Denoising Metric Learning,” in IEEE Automatic Face and Gesture Recognition (2017). paper\n",
    "\n",
    "Joseph P Robinson, Ming Shao, Yue Wu, and Yun Fu. “Families In the Wild (FIW): large-scale kinship image database and benchmarks.\" in ACM on Multimedia Conference (2016). paper\n",
    "\n",
    "https://www.kaggle.com/ranjitkumar1/recognizing-face-with-one-shot-learning\n",
    "\n",
    "https://github.com/rcmalli/keras-vggface.git\n",
    "\n"
   ]
  },
  {
   "cell_type": "markdown",
   "metadata": {
    "colab_type": "text",
    "id": "qJSYjU3IFA0P"
   },
   "source": [
    "I have taken the architectures inspiration from below links:\n",
    "\n",
    "https://www.kaggle.com/ranjitkumar1/recognizing-face-with-one-shot-learning?scriptVersionId=18382909"
   ]
  }
 ],
 "metadata": {
  "accelerator": "GPU",
  "colab": {
   "collapsed_sections": [],
   "name": "Assignment-28-Northeastern SMILE Lab-Models-2.ipynb",
   "provenance": []
  },
  "kernelspec": {
   "display_name": "Python 3",
   "language": "python",
   "name": "python3"
  },
  "language_info": {
   "codemirror_mode": {
    "name": "ipython",
    "version": 3
   },
   "file_extension": ".py",
   "mimetype": "text/x-python",
   "name": "python",
   "nbconvert_exporter": "python",
   "pygments_lexer": "ipython3",
   "version": "3.6.5"
  }
 },
 "nbformat": 4,
 "nbformat_minor": 1
}
